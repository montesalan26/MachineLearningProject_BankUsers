{
 "cells": [
  {
   "cell_type": "markdown",
   "metadata": {},
   "source": [
    "# Machine Learning Project"
   ]
  },
  {
   "cell_type": "markdown",
   "metadata": {},
   "source": [
    "In this project, I have a dataset of a bank, where customers are leaving little by little. The bankers figured out that its cheaper to save the existing customers than attract new ones. This machine learning model will predict where a customer will leave the bank soon depending on past behavior and termination of contracts"
   ]
  },
  {
   "cell_type": "markdown",
   "metadata": {},
   "source": [
    "### Import Libraries"
   ]
  },
  {
   "cell_type": "code",
   "execution_count": 9,
   "metadata": {},
   "outputs": [],
   "source": [
    "import pandas as pd\n",
    "import numpy as np\n",
    "from sklearn.model_selection import train_test_split\n",
    "from matplotlib import pyplot as plt\n",
    "from sklearn.metrics import f1_score, confusion_matrix, accuracy_score, roc_auc_score\n",
    "from sklearn.linear_model import LogisticRegression\n",
    "from sklearn.tree import DecisionTreeClassifier\n",
    "from sklearn.ensemble import RandomForestClassifier\n",
    "import seaborn as sns\n",
    "from sklearn.utils import shuffle, resample\n",
    "from imblearn.over_sampling import SMOTE\n",
    "from sklearn.preprocessing import StandardScaler\n",
    "from imblearn.under_sampling import RandomUnderSampler"
   ]
  },
  {
   "cell_type": "markdown",
   "metadata": {},
   "source": [
    "### Download and Prepare Data"
   ]
  },
  {
   "cell_type": "code",
   "execution_count": 10,
   "metadata": {},
   "outputs": [],
   "source": [
    "data = pd.read_csv('/datasets/Churn.csv')"
   ]
  },
  {
   "cell_type": "markdown",
   "metadata": {},
   "source": [
    "#### Rename and Lowercase Column Names"
   ]
  },
  {
   "cell_type": "code",
   "execution_count": 11,
   "metadata": {
    "scrolled": false
   },
   "outputs": [],
   "source": [
    "data.columns = data.columns.str.lower()"
   ]
  },
  {
   "cell_type": "code",
   "execution_count": 12,
   "metadata": {},
   "outputs": [],
   "source": [
    "data = data.rename(\n",
    "columns = {'rownumber': 'row_number', \n",
    "          'customerid': 'customer_id', \n",
    "          'creditscore':'credit_score', \n",
    "          'numofproducts':'num_of_products',\n",
    "          'hascrcard':'has_cr_card',\n",
    "          'isactivemember':'is_active_member',\n",
    "          'estimatedsalary':'estimated_salary'})"
   ]
  },
  {
   "cell_type": "code",
   "execution_count": 13,
   "metadata": {
    "scrolled": false
   },
   "outputs": [
    {
     "name": "stdout",
     "output_type": "stream",
     "text": [
      "<class 'pandas.core.frame.DataFrame'>\n",
      "RangeIndex: 10000 entries, 0 to 9999\n",
      "Data columns (total 14 columns):\n",
      " #   Column            Non-Null Count  Dtype  \n",
      "---  ------            --------------  -----  \n",
      " 0   row_number        10000 non-null  int64  \n",
      " 1   customer_id       10000 non-null  int64  \n",
      " 2   surname           10000 non-null  object \n",
      " 3   credit_score      10000 non-null  int64  \n",
      " 4   geography         10000 non-null  object \n",
      " 5   gender            10000 non-null  object \n",
      " 6   age               10000 non-null  int64  \n",
      " 7   tenure            9091 non-null   float64\n",
      " 8   balance           10000 non-null  float64\n",
      " 9   num_of_products   10000 non-null  int64  \n",
      " 10  has_cr_card       10000 non-null  int64  \n",
      " 11  is_active_member  10000 non-null  int64  \n",
      " 12  estimated_salary  10000 non-null  float64\n",
      " 13  exited            10000 non-null  int64  \n",
      "dtypes: float64(3), int64(8), object(3)\n",
      "memory usage: 1.1+ MB\n"
     ]
    }
   ],
   "source": [
    "data.info()"
   ]
  },
  {
   "cell_type": "markdown",
   "metadata": {},
   "source": [
    "### Dropping Columns That Wont affect the DataFrame"
   ]
  },
  {
   "cell_type": "markdown",
   "metadata": {},
   "source": [
    "Below, I dropped the columns: row_number, customer_id, surname, and geography because those columns wont affect the model predictions that we are going to create."
   ]
  },
  {
   "cell_type": "code",
   "execution_count": 14,
   "metadata": {},
   "outputs": [],
   "source": [
    "data = data.drop(['row_number', 'customer_id', 'surname'], axis=1)"
   ]
  },
  {
   "cell_type": "code",
   "execution_count": 15,
   "metadata": {
    "scrolled": true
   },
   "outputs": [
    {
     "data": {
      "text/html": [
       "<div>\n",
       "<style scoped>\n",
       "    .dataframe tbody tr th:only-of-type {\n",
       "        vertical-align: middle;\n",
       "    }\n",
       "\n",
       "    .dataframe tbody tr th {\n",
       "        vertical-align: top;\n",
       "    }\n",
       "\n",
       "    .dataframe thead th {\n",
       "        text-align: right;\n",
       "    }\n",
       "</style>\n",
       "<table border=\"1\" class=\"dataframe\">\n",
       "  <thead>\n",
       "    <tr style=\"text-align: right;\">\n",
       "      <th></th>\n",
       "      <th>credit_score</th>\n",
       "      <th>geography</th>\n",
       "      <th>gender</th>\n",
       "      <th>age</th>\n",
       "      <th>tenure</th>\n",
       "      <th>balance</th>\n",
       "      <th>num_of_products</th>\n",
       "      <th>has_cr_card</th>\n",
       "      <th>is_active_member</th>\n",
       "      <th>estimated_salary</th>\n",
       "      <th>exited</th>\n",
       "    </tr>\n",
       "  </thead>\n",
       "  <tbody>\n",
       "    <tr>\n",
       "      <th>0</th>\n",
       "      <td>619</td>\n",
       "      <td>France</td>\n",
       "      <td>Female</td>\n",
       "      <td>42</td>\n",
       "      <td>2.0</td>\n",
       "      <td>0.00</td>\n",
       "      <td>1</td>\n",
       "      <td>1</td>\n",
       "      <td>1</td>\n",
       "      <td>101348.88</td>\n",
       "      <td>1</td>\n",
       "    </tr>\n",
       "    <tr>\n",
       "      <th>1</th>\n",
       "      <td>608</td>\n",
       "      <td>Spain</td>\n",
       "      <td>Female</td>\n",
       "      <td>41</td>\n",
       "      <td>1.0</td>\n",
       "      <td>83807.86</td>\n",
       "      <td>1</td>\n",
       "      <td>0</td>\n",
       "      <td>1</td>\n",
       "      <td>112542.58</td>\n",
       "      <td>0</td>\n",
       "    </tr>\n",
       "    <tr>\n",
       "      <th>2</th>\n",
       "      <td>502</td>\n",
       "      <td>France</td>\n",
       "      <td>Female</td>\n",
       "      <td>42</td>\n",
       "      <td>8.0</td>\n",
       "      <td>159660.80</td>\n",
       "      <td>3</td>\n",
       "      <td>1</td>\n",
       "      <td>0</td>\n",
       "      <td>113931.57</td>\n",
       "      <td>1</td>\n",
       "    </tr>\n",
       "    <tr>\n",
       "      <th>3</th>\n",
       "      <td>699</td>\n",
       "      <td>France</td>\n",
       "      <td>Female</td>\n",
       "      <td>39</td>\n",
       "      <td>1.0</td>\n",
       "      <td>0.00</td>\n",
       "      <td>2</td>\n",
       "      <td>0</td>\n",
       "      <td>0</td>\n",
       "      <td>93826.63</td>\n",
       "      <td>0</td>\n",
       "    </tr>\n",
       "    <tr>\n",
       "      <th>4</th>\n",
       "      <td>850</td>\n",
       "      <td>Spain</td>\n",
       "      <td>Female</td>\n",
       "      <td>43</td>\n",
       "      <td>2.0</td>\n",
       "      <td>125510.82</td>\n",
       "      <td>1</td>\n",
       "      <td>1</td>\n",
       "      <td>1</td>\n",
       "      <td>79084.10</td>\n",
       "      <td>0</td>\n",
       "    </tr>\n",
       "    <tr>\n",
       "      <th>...</th>\n",
       "      <td>...</td>\n",
       "      <td>...</td>\n",
       "      <td>...</td>\n",
       "      <td>...</td>\n",
       "      <td>...</td>\n",
       "      <td>...</td>\n",
       "      <td>...</td>\n",
       "      <td>...</td>\n",
       "      <td>...</td>\n",
       "      <td>...</td>\n",
       "      <td>...</td>\n",
       "    </tr>\n",
       "    <tr>\n",
       "      <th>9995</th>\n",
       "      <td>771</td>\n",
       "      <td>France</td>\n",
       "      <td>Male</td>\n",
       "      <td>39</td>\n",
       "      <td>5.0</td>\n",
       "      <td>0.00</td>\n",
       "      <td>2</td>\n",
       "      <td>1</td>\n",
       "      <td>0</td>\n",
       "      <td>96270.64</td>\n",
       "      <td>0</td>\n",
       "    </tr>\n",
       "    <tr>\n",
       "      <th>9996</th>\n",
       "      <td>516</td>\n",
       "      <td>France</td>\n",
       "      <td>Male</td>\n",
       "      <td>35</td>\n",
       "      <td>10.0</td>\n",
       "      <td>57369.61</td>\n",
       "      <td>1</td>\n",
       "      <td>1</td>\n",
       "      <td>1</td>\n",
       "      <td>101699.77</td>\n",
       "      <td>0</td>\n",
       "    </tr>\n",
       "    <tr>\n",
       "      <th>9997</th>\n",
       "      <td>709</td>\n",
       "      <td>France</td>\n",
       "      <td>Female</td>\n",
       "      <td>36</td>\n",
       "      <td>7.0</td>\n",
       "      <td>0.00</td>\n",
       "      <td>1</td>\n",
       "      <td>0</td>\n",
       "      <td>1</td>\n",
       "      <td>42085.58</td>\n",
       "      <td>1</td>\n",
       "    </tr>\n",
       "    <tr>\n",
       "      <th>9998</th>\n",
       "      <td>772</td>\n",
       "      <td>Germany</td>\n",
       "      <td>Male</td>\n",
       "      <td>42</td>\n",
       "      <td>3.0</td>\n",
       "      <td>75075.31</td>\n",
       "      <td>2</td>\n",
       "      <td>1</td>\n",
       "      <td>0</td>\n",
       "      <td>92888.52</td>\n",
       "      <td>1</td>\n",
       "    </tr>\n",
       "    <tr>\n",
       "      <th>9999</th>\n",
       "      <td>792</td>\n",
       "      <td>France</td>\n",
       "      <td>Female</td>\n",
       "      <td>28</td>\n",
       "      <td>NaN</td>\n",
       "      <td>130142.79</td>\n",
       "      <td>1</td>\n",
       "      <td>1</td>\n",
       "      <td>0</td>\n",
       "      <td>38190.78</td>\n",
       "      <td>0</td>\n",
       "    </tr>\n",
       "  </tbody>\n",
       "</table>\n",
       "<p>10000 rows × 11 columns</p>\n",
       "</div>"
      ],
      "text/plain": [
       "      credit_score geography  gender  age  tenure    balance  num_of_products  \\\n",
       "0              619    France  Female   42     2.0       0.00                1   \n",
       "1              608     Spain  Female   41     1.0   83807.86                1   \n",
       "2              502    France  Female   42     8.0  159660.80                3   \n",
       "3              699    France  Female   39     1.0       0.00                2   \n",
       "4              850     Spain  Female   43     2.0  125510.82                1   \n",
       "...            ...       ...     ...  ...     ...        ...              ...   \n",
       "9995           771    France    Male   39     5.0       0.00                2   \n",
       "9996           516    France    Male   35    10.0   57369.61                1   \n",
       "9997           709    France  Female   36     7.0       0.00                1   \n",
       "9998           772   Germany    Male   42     3.0   75075.31                2   \n",
       "9999           792    France  Female   28     NaN  130142.79                1   \n",
       "\n",
       "      has_cr_card  is_active_member  estimated_salary  exited  \n",
       "0               1                 1         101348.88       1  \n",
       "1               0                 1         112542.58       0  \n",
       "2               1                 0         113931.57       1  \n",
       "3               0                 0          93826.63       0  \n",
       "4               1                 1          79084.10       0  \n",
       "...           ...               ...               ...     ...  \n",
       "9995            1                 0          96270.64       0  \n",
       "9996            1                 1         101699.77       0  \n",
       "9997            0                 1          42085.58       1  \n",
       "9998            1                 0          92888.52       1  \n",
       "9999            1                 0          38190.78       0  \n",
       "\n",
       "[10000 rows x 11 columns]"
      ]
     },
     "execution_count": 15,
     "metadata": {},
     "output_type": "execute_result"
    }
   ],
   "source": [
    "data"
   ]
  },
  {
   "cell_type": "markdown",
   "metadata": {},
   "source": [
    "### Filling in Missing Values"
   ]
  },
  {
   "cell_type": "code",
   "execution_count": 16,
   "metadata": {
    "scrolled": false
   },
   "outputs": [
    {
     "data": {
      "text/plain": [
       "credit_score          0\n",
       "geography             0\n",
       "gender                0\n",
       "age                   0\n",
       "tenure              909\n",
       "balance               0\n",
       "num_of_products       0\n",
       "has_cr_card           0\n",
       "is_active_member      0\n",
       "estimated_salary      0\n",
       "exited                0\n",
       "dtype: int64"
      ]
     },
     "execution_count": 16,
     "metadata": {},
     "output_type": "execute_result"
    }
   ],
   "source": [
    "data.isna().sum()"
   ]
  },
  {
   "cell_type": "markdown",
   "metadata": {},
   "source": [
    "As we can see, the tenure column has 909 missing values. Were going to fill those missing values with the median value, which in this case is 5.0"
   ]
  },
  {
   "cell_type": "code",
   "execution_count": 17,
   "metadata": {
    "scrolled": true
   },
   "outputs": [
    {
     "data": {
      "text/plain": [
       "count    9091.000000\n",
       "mean        4.997690\n",
       "std         2.894723\n",
       "min         0.000000\n",
       "25%         2.000000\n",
       "50%         5.000000\n",
       "75%         7.000000\n",
       "max        10.000000\n",
       "Name: tenure, dtype: float64"
      ]
     },
     "execution_count": 17,
     "metadata": {},
     "output_type": "execute_result"
    }
   ],
   "source": [
    "data['tenure'].describe()"
   ]
  },
  {
   "cell_type": "code",
   "execution_count": 18,
   "metadata": {},
   "outputs": [
    {
     "data": {
      "text/plain": [
       "5.0"
      ]
     },
     "execution_count": 18,
     "metadata": {},
     "output_type": "execute_result"
    }
   ],
   "source": [
    "data_median = data['tenure'].median()\n",
    "data_median"
   ]
  },
  {
   "cell_type": "code",
   "execution_count": 19,
   "metadata": {},
   "outputs": [
    {
     "name": "stdout",
     "output_type": "stream",
     "text": [
      "<class 'pandas.core.frame.DataFrame'>\n",
      "RangeIndex: 10000 entries, 0 to 9999\n",
      "Data columns (total 11 columns):\n",
      " #   Column            Non-Null Count  Dtype  \n",
      "---  ------            --------------  -----  \n",
      " 0   credit_score      10000 non-null  int64  \n",
      " 1   geography         10000 non-null  object \n",
      " 2   gender            10000 non-null  object \n",
      " 3   age               10000 non-null  int64  \n",
      " 4   tenure            10000 non-null  float64\n",
      " 5   balance           10000 non-null  float64\n",
      " 6   num_of_products   10000 non-null  int64  \n",
      " 7   has_cr_card       10000 non-null  int64  \n",
      " 8   is_active_member  10000 non-null  int64  \n",
      " 9   estimated_salary  10000 non-null  float64\n",
      " 10  exited            10000 non-null  int64  \n",
      "dtypes: float64(3), int64(6), object(2)\n",
      "memory usage: 859.5+ KB\n"
     ]
    }
   ],
   "source": [
    "data['tenure'] = data['tenure'].fillna(data_median)\n",
    "data.info()"
   ]
  },
  {
   "cell_type": "markdown",
   "metadata": {},
   "source": [
    "### Converting The Object DataTypes to Int DataTypes Using Get_dummies()"
   ]
  },
  {
   "cell_type": "code",
   "execution_count": 20,
   "metadata": {
    "scrolled": true
   },
   "outputs": [
    {
     "name": "stdout",
     "output_type": "stream",
     "text": [
      "<class 'pandas.core.frame.DataFrame'>\n",
      "RangeIndex: 10000 entries, 0 to 9999\n",
      "Data columns (total 11 columns):\n",
      " #   Column            Non-Null Count  Dtype  \n",
      "---  ------            --------------  -----  \n",
      " 0   credit_score      10000 non-null  int64  \n",
      " 1   geography         10000 non-null  object \n",
      " 2   gender            10000 non-null  object \n",
      " 3   age               10000 non-null  int64  \n",
      " 4   tenure            10000 non-null  float64\n",
      " 5   balance           10000 non-null  float64\n",
      " 6   num_of_products   10000 non-null  int64  \n",
      " 7   has_cr_card       10000 non-null  int64  \n",
      " 8   is_active_member  10000 non-null  int64  \n",
      " 9   estimated_salary  10000 non-null  float64\n",
      " 10  exited            10000 non-null  int64  \n",
      "dtypes: float64(3), int64(6), object(2)\n",
      "memory usage: 859.5+ KB\n"
     ]
    }
   ],
   "source": [
    "data.info()"
   ]
  },
  {
   "cell_type": "code",
   "execution_count": 21,
   "metadata": {},
   "outputs": [],
   "source": [
    "data1 = pd.get_dummies(data, columns=['geography', \"gender\"])"
   ]
  },
  {
   "cell_type": "code",
   "execution_count": 22,
   "metadata": {},
   "outputs": [
    {
     "name": "stdout",
     "output_type": "stream",
     "text": [
      "<class 'pandas.core.frame.DataFrame'>\n",
      "RangeIndex: 10000 entries, 0 to 9999\n",
      "Data columns (total 14 columns):\n",
      " #   Column             Non-Null Count  Dtype  \n",
      "---  ------             --------------  -----  \n",
      " 0   credit_score       10000 non-null  int64  \n",
      " 1   age                10000 non-null  int64  \n",
      " 2   tenure             10000 non-null  float64\n",
      " 3   balance            10000 non-null  float64\n",
      " 4   num_of_products    10000 non-null  int64  \n",
      " 5   has_cr_card        10000 non-null  int64  \n",
      " 6   is_active_member   10000 non-null  int64  \n",
      " 7   estimated_salary   10000 non-null  float64\n",
      " 8   exited             10000 non-null  int64  \n",
      " 9   geography_France   10000 non-null  uint8  \n",
      " 10  geography_Germany  10000 non-null  uint8  \n",
      " 11  geography_Spain    10000 non-null  uint8  \n",
      " 12  gender_Female      10000 non-null  uint8  \n",
      " 13  gender_Male        10000 non-null  uint8  \n",
      "dtypes: float64(3), int64(6), uint8(5)\n",
      "memory usage: 752.1 KB\n"
     ]
    }
   ],
   "source": [
    "data1.info()"
   ]
  },
  {
   "cell_type": "markdown",
   "metadata": {},
   "source": [
    "### Imbalance of Classes"
   ]
  },
  {
   "cell_type": "code",
   "execution_count": 23,
   "metadata": {
    "scrolled": true
   },
   "outputs": [
    {
     "data": {
      "text/plain": [
       "0    7963\n",
       "1    2037\n",
       "Name: exited, dtype: int64"
      ]
     },
     "execution_count": 23,
     "metadata": {},
     "output_type": "execute_result"
    }
   ],
   "source": [
    "data1['exited'].value_counts()"
   ]
  },
  {
   "cell_type": "code",
   "execution_count": 24,
   "metadata": {
    "scrolled": true
   },
   "outputs": [
    {
     "data": {
      "image/png": "[encoded data removed]",
      "text/plain": [
       "<Figure size 640x480 with 1 Axes>"
      ]
     },
     "metadata": {},
     "output_type": "display_data"
    }
   ],
   "source": [
    "count_plot = sns.countplot(data1['exited'])\n",
    "count_plot.set_title('Balance of Class')\n",
    "count_plot.set_ylabel(\"Frequency of Each Class\")\n",
    "count_plot.set_xlabel(\"Classes\")\n",
    "\n",
    "plt.show()"
   ]
  },
  {
   "cell_type": "markdown",
   "metadata": {},
   "source": [
    "As you can see, there is an imbalance of class, The Class 0 makes up 80% of the data, while the 1 class makes 20% of the data."
   ]
  },
  {
   "cell_type": "code",
   "execution_count": 25,
   "metadata": {
    "scrolled": false
   },
   "outputs": [
    {
     "data": {
      "image/png": "[encoded data removed]",
      "text/plain": [
       "<Figure size 640x480 with 1 Axes>"
      ]
     },
     "metadata": {},
     "output_type": "display_data"
    }
   ],
   "source": [
    "\n",
    "plt.hist(data1['credit_score'])\n",
    "plt.title(\"Members Credit Score\")\n",
    "plt.xlabel(\"Credit Score\")\n",
    "plt.ylabel(\"Count of Members\")\n",
    "plt.show()"
   ]
  },
  {
   "cell_type": "markdown",
   "metadata": {},
   "source": [
    "Looking at the data column of Credit scores, you can see that this is a normal distribution because it has a symmetrical bell shaped curve."
   ]
  },
  {
   "cell_type": "code",
   "execution_count": 26,
   "metadata": {
    "scrolled": false
   },
   "outputs": [
    {
     "data": {
      "image/png": "[encoded data removed]",
      "text/plain": [
       "<Figure size 640x480 with 1 Axes>"
      ]
     },
     "metadata": {},
     "output_type": "display_data"
    }
   ],
   "source": [
    "plt.hist(data1['age'])\n",
    "plt.title('Age of Members')\n",
    "plt.ylabel(\"Amount of Members\")\n",
    "plt.xlabel(\"Age\")\n",
    "plt.show()"
   ]
  },
  {
   "cell_type": "markdown",
   "metadata": {},
   "source": [
    "The age column, by plotting it in a graph, you can see that the data in that column is skewed to the right, as you can see that most of the age group in the 30-50 age group."
   ]
  },
  {
   "cell_type": "code",
   "execution_count": 27,
   "metadata": {
    "scrolled": false
   },
   "outputs": [
    {
     "data": {
      "image/png": "[encoded data removed]",
      "text/plain": [
       "<Figure size 640x480 with 1 Axes>"
      ]
     },
     "metadata": {},
     "output_type": "display_data"
    }
   ],
   "source": [
    "active_member = sns.countplot(data['is_active_member'])\n",
    "active_member.set_title(\"Active Member Status\")\n",
    "active_member.set_ylabel('Amounts of Active and Inactive Members')\n",
    "active_member.set_xlabel(\"Membership Status Classes\")\n",
    "plt.show()"
   ]
  },
  {
   "cell_type": "markdown",
   "metadata": {},
   "source": [
    "By looking at the countplot, if you take into consideration the is_active column that specifies if a member is active or not, this dataset is well balanced."
   ]
  },
  {
   "cell_type": "markdown",
   "metadata": {},
   "source": [
    "### Training the Model"
   ]
  },
  {
   "cell_type": "markdown",
   "metadata": {},
   "source": [
    "In this step of the project, were going to train a model using the dataset even though the classes are imbalanced. Since, were looking to predict a categorical value, were going to use the Logistic Regression Model."
   ]
  },
  {
   "cell_type": "markdown",
   "metadata": {},
   "source": [
    "#### Logistic Regression with Imbalanced Data"
   ]
  },
  {
   "cell_type": "code",
   "execution_count": 28,
   "metadata": {},
   "outputs": [
    {
     "name": "stdout",
     "output_type": "stream",
     "text": [
      "(6000, 13)\n",
      "(6000,)\n",
      "(2000, 13)\n",
      "(2000,)\n"
     ]
    }
   ],
   "source": [
    "features = data1.drop(['exited'], axis=1)\n",
    "target = data1['exited']\n",
    "\n",
    "X_train, X_test_val, y_train, y_test_val = train_test_split(features, target, test_size=0.4, random_state=10)\n",
    "X_test, X_val, y_test, y_val = train_test_split(X_test_val, y_test_val, test_size=0.5, random_state=10)\n",
    "\n",
    "print(X_train.shape)\n",
    "print(y_train.shape)\n",
    "print(X_test.shape)\n",
    "print(y_test.shape)"
   ]
  },
  {
   "cell_type": "code",
   "execution_count": 29,
   "metadata": {
    "scrolled": true
   },
   "outputs": [
    {
     "name": "stdout",
     "output_type": "stream",
     "text": [
      "F1 Score: 0.13\n"
     ]
    }
   ],
   "source": [
    "model = LogisticRegression(random_state=10, solver='liblinear', max_iter=700)\n",
    "model.fit(X_train, y_train)\n",
    "prediction = model.predict(X_val)\n",
    "f1 = f1_score(y_val, prediction)\n",
    "print(f\"F1 Score: {f1:.2f}\")"
   ]
  },
  {
   "cell_type": "markdown",
   "metadata": {},
   "source": [
    "Using the Imbalanced Data and after specifying a max_iter of 700,  we got an F1 Score of 0.13 using the Logistic Regression model."
   ]
  },
  {
   "cell_type": "markdown",
   "metadata": {},
   "source": [
    "#### Logistic Regression with the class_weight='balanced' parameter"
   ]
  },
  {
   "cell_type": "code",
   "execution_count": 30,
   "metadata": {
    "scrolled": false
   },
   "outputs": [
    {
     "name": "stdout",
     "output_type": "stream",
     "text": [
      "F1 Score: 0.45\n"
     ]
    }
   ],
   "source": [
    "model = LogisticRegression(random_state=10, class_weight='balanced', solver='liblinear')\n",
    "model.fit(X_train, y_train)\n",
    "prediction = model.predict(X_val)\n",
    "f1_balanced = f1_score(y_val, prediction)\n",
    "print(f\"F1 Score: {f1_balanced:.2f}\")"
   ]
  },
  {
   "cell_type": "code",
   "execution_count": 31,
   "metadata": {},
   "outputs": [
    {
     "name": "stdout",
     "output_type": "stream",
     "text": [
      "After comparing the two models, one with balanced weights and one without,\n",
      "the model with balanced weights f1 score is 0.45, and the other is 0.13. Improving but\n",
      "still not enough to reach the min value.\n"
     ]
    }
   ],
   "source": [
    "print(f\"\"\"After comparing the two models, one with balanced weights and one without,\n",
    "the model with balanced weights f1 score is {f1_balanced:.2f}, and the other is {f1:.2f}. Improving but\n",
    "still not enough to reach the min value.\"\"\")"
   ]
  },
  {
   "cell_type": "markdown",
   "metadata": {},
   "source": [
    "#### Decision Tree Model with imbalanced Data."
   ]
  },
  {
   "cell_type": "code",
   "execution_count": 32,
   "metadata": {},
   "outputs": [
    {
     "name": "stdout",
     "output_type": "stream",
     "text": [
      "F1 Score for Decision Tree Model: 0.55\n"
     ]
    }
   ],
   "source": [
    "model_DT = DecisionTreeClassifier(random_state=10, max_depth=7)\n",
    "model_DT.fit(X_train, y_train)\n",
    "prediction_dt = model_DT.predict(X_val)\n",
    "f1_Dt = f1_score(y_val,prediction_dt)\n",
    "print(f\"F1 Score for Decision Tree Model: {f1_Dt:.2f}\")"
   ]
  },
  {
   "cell_type": "markdown",
   "metadata": {},
   "source": [
    "#### Decision Tree with balanced weights classes"
   ]
  },
  {
   "cell_type": "code",
   "execution_count": 33,
   "metadata": {
    "scrolled": true
   },
   "outputs": [
    {
     "name": "stdout",
     "output_type": "stream",
     "text": [
      "F1 Score for Decision Tree Model: 0.54\n"
     ]
    }
   ],
   "source": [
    "model_DT = DecisionTreeClassifier(random_state=10, class_weight='balanced', max_depth=4)\n",
    "model_DT.fit(X_train, y_train)\n",
    "prediction_dt = model_DT.predict(X_val)\n",
    "f1_balanced = f1_score(y_val,prediction_dt)\n",
    "print(f\"F1 Score for Decision Tree Model: {f1_balanced:.2f}\")"
   ]
  },
  {
   "cell_type": "code",
   "execution_count": 34,
   "metadata": {},
   "outputs": [
    {
     "name": "stdout",
     "output_type": "stream",
     "text": [
      "\n",
      "The Decision Tree model turned out to be a better option than the Logistic Regression, but still wasnt enought to \n",
      "reach the minimum value. The first model with imbalanced weights is 0.55 and the model with balanced weight classes\n",
      "is 0.54. It went down by one decimal after balancing the weights, but still not good enough.\n",
      "\n"
     ]
    }
   ],
   "source": [
    "print(f\"\"\"\n",
    "The Decision Tree model turned out to be a better option than the Logistic Regression, but still wasnt enought to \n",
    "reach the minimum value. The first model with imbalanced weights is {f1_Dt:.2f} and the model with balanced weight classes\n",
    "is {f1_balanced:.2f}. It went down by one decimal after balancing the weights, but still not good enough.\n",
    "\"\"\")"
   ]
  },
  {
   "cell_type": "markdown",
   "metadata": {},
   "source": [
    "#### Random Forest with Imbalanced Data"
   ]
  },
  {
   "cell_type": "code",
   "execution_count": 35,
   "metadata": {
    "scrolled": true
   },
   "outputs": [
    {
     "name": "stdout",
     "output_type": "stream",
     "text": [
      "Best F1 Score using RandomForestClassifier: 0.56 with n_estimators: 7\n"
     ]
    }
   ],
   "source": [
    "best_score = 0\n",
    "best_n_estimators = 0\n",
    "\n",
    "for n_estimators in range(1, 50):\n",
    "    model_forest = RandomForestClassifier(max_depth= 10, random_state=10, n_estimators=n_estimators)\n",
    "    model_forest.fit(X_train, y_train)\n",
    "    forest_prediction = model_forest.predict(X_val)\n",
    "    f1_score_val = f1_score(y_val, forest_prediction)\n",
    "\n",
    "    if f1_score_val > best_score:\n",
    "        best_score = f1_score_val\n",
    "        best_n_estimators = n_estimators\n",
    "\n",
    "print(f\"Best F1 Score using RandomForestClassifier: {best_score:.2f} with n_estimators: {best_n_estimators}\")"
   ]
  },
  {
   "cell_type": "markdown",
   "metadata": {},
   "source": [
    "#### Random Forest Classifier with balanced weights"
   ]
  },
  {
   "cell_type": "code",
   "execution_count": 52,
   "metadata": {
    "scrolled": true
   },
   "outputs": [
    {
     "name": "stdout",
     "output_type": "stream",
     "text": [
      "Best F1 Score using RandomForestClassifier: 0.61 with n_estimators: 26\n"
     ]
    }
   ],
   "source": [
    "best_score_balanced = 0\n",
    "best_n_estimators_balanced = 0\n",
    "\n",
    "for n_estimators in range(1, 50):\n",
    "    model_forest = RandomForestClassifier(max_depth= 10, random_state=10, n_estimators=n_estimators, class_weight='balanced')\n",
    "    model_forest.fit(X_train, y_train)\n",
    "    forest_prediction = model_forest.predict(X_val)\n",
    "    f1_score_val_balanced = f1_score(y_val, forest_prediction)\n",
    "\n",
    "    if f1_score_val_balanced > best_score_balanced:\n",
    "        best_score_balanced = f1_score_val_balanced\n",
    "        best_n_estimators_balanced = n_estimators\n",
    "\n",
    "print(f\"Best F1 Score using RandomForestClassifier: {best_score_balanced:.2f} with n_estimators: {best_n_estimators_balanced}\")"
   ]
  },
  {
   "cell_type": "code",
   "execution_count": 40,
   "metadata": {
    "scrolled": true
   },
   "outputs": [
    {
     "name": "stdout",
     "output_type": "stream",
     "text": [
      "\n",
      "After comparing the Random Forest Classifier Model, the model without the balanced weights returned a f1 score of 0.56 \n",
      "model with the balanced weight of classes and adjusting the max_depth by 10, we were able to get a f1 score of\n",
      "0.61. Value that is acceptable for this project.\n",
      "\n"
     ]
    }
   ],
   "source": [
    "print(f\"\"\"\n",
    "After comparing the Random Forest Classifier Model, the model without the balanced weights returned a f1 score of {best_score:.2f} \n",
    "model with the balanced weight of classes and adjusting the max_depth by 10, we were able to get a f1 score of\n",
    "{best_score_balanced:.2f}. Value that is acceptable for this project.\n",
    "\"\"\")"
   ]
  },
  {
   "cell_type": "markdown",
   "metadata": {},
   "source": [
    "## Comparing the models on resampled Data(Upsampling and Downsampling)"
   ]
  },
  {
   "cell_type": "markdown",
   "metadata": {},
   "source": [
    "#### Upsampling"
   ]
  },
  {
   "cell_type": "code",
   "execution_count": 41,
   "metadata": {},
   "outputs": [
    {
     "name": "stdout",
     "output_type": "stream",
     "text": [
      "(9574, 13)\n",
      "(9574,)\n"
     ]
    }
   ],
   "source": [
    "smote = SMOTE(random_state=10)\n",
    "features_resampled, target_resampled = smote.fit_resample(X_train, y_train)\n",
    "\n",
    "print(features_resampled.shape)\n",
    "print(target_resampled.shape)"
   ]
  },
  {
   "cell_type": "markdown",
   "metadata": {},
   "source": [
    "#### Downsampling"
   ]
  },
  {
   "cell_type": "code",
   "execution_count": 43,
   "metadata": {},
   "outputs": [
    {
     "name": "stdout",
     "output_type": "stream",
     "text": [
      "(2426, 13)\n",
      "(2426,)\n"
     ]
    }
   ],
   "source": [
    "\n",
    "rus = RandomUnderSampler(random_state=10)\n",
    "\n",
    "features_downsampled, target_downsampled = rus.fit_resample(X_train, y_train)\n",
    "\n",
    "print(features_downsampled.shape)\n",
    "print(target_downsampled.shape)"
   ]
  },
  {
   "cell_type": "markdown",
   "metadata": {},
   "source": [
    "#### Logistic Regression with up- and downsampled data"
   ]
  },
  {
   "cell_type": "markdown",
   "metadata": {},
   "source": [
    "##### Upsampling Logistic Regression"
   ]
  },
  {
   "cell_type": "code",
   "execution_count": 44,
   "metadata": {},
   "outputs": [
    {
     "name": "stdout",
     "output_type": "stream",
     "text": [
      "F1 Score: 0.43\n"
     ]
    }
   ],
   "source": [
    "model = LogisticRegression(random_state=10, solver='liblinear')\n",
    "model.fit(features_resampled, target_resampled)\n",
    "prediction_up = model.predict(X_val)\n",
    "f1_balanced_up = f1_score(y_val, prediction_up)\n",
    "print(f\"F1 Score: {f1_balanced_up:.2f}\")"
   ]
  },
  {
   "cell_type": "markdown",
   "metadata": {},
   "source": [
    "##### Downsampling Logistic Regression"
   ]
  },
  {
   "cell_type": "code",
   "execution_count": 45,
   "metadata": {},
   "outputs": [
    {
     "name": "stdout",
     "output_type": "stream",
     "text": [
      "F1 Score: 0.42\n"
     ]
    }
   ],
   "source": [
    "model = LogisticRegression(random_state=10, solver='liblinear')\n",
    "model.fit(features_downsampled, target_downsampled)\n",
    "prediction_down = model.predict(X_val)\n",
    "f1_balanced_down = f1_score(y_val, prediction_down)\n",
    "print(f\"F1 Score: {f1_balanced_down:.2f}\")"
   ]
  },
  {
   "cell_type": "markdown",
   "metadata": {},
   "source": [
    "#### Decision Tree with up- and downsampled data"
   ]
  },
  {
   "cell_type": "markdown",
   "metadata": {},
   "source": [
    "##### Upsampling Decision Tree Classifier"
   ]
  },
  {
   "cell_type": "code",
   "execution_count": 46,
   "metadata": {
    "scrolled": false
   },
   "outputs": [
    {
     "name": "stdout",
     "output_type": "stream",
     "text": [
      "F1 Score for Decision Tree Model: 0.58\n"
     ]
    }
   ],
   "source": [
    "model_DT = DecisionTreeClassifier(random_state=10, max_depth=7)\n",
    "model_DT.fit(features_resampled, target_resampled)\n",
    "prediction_dt_up = model_DT.predict(X_val)\n",
    "f1_balanced_up_dt = f1_score(y_val,prediction_dt_up)\n",
    "print(f\"F1 Score for Decision Tree Model: {f1_balanced_up_dt:.2f}\")"
   ]
  },
  {
   "cell_type": "markdown",
   "metadata": {},
   "source": [
    "##### Downsampling Decision Tree Classifier"
   ]
  },
  {
   "cell_type": "code",
   "execution_count": 49,
   "metadata": {},
   "outputs": [
    {
     "name": "stdout",
     "output_type": "stream",
     "text": [
      "F1 Score for Decision Tree Model: 0.54\n"
     ]
    }
   ],
   "source": [
    "model_DT = DecisionTreeClassifier(random_state=10, max_depth=5)\n",
    "model_DT.fit(features_downsampled, target_downsampled)\n",
    "prediction_dt_down = model_DT.predict(X_val)\n",
    "f1_balanced_down_dt = f1_score(y_val,prediction_dt_down)\n",
    "print(f\"F1 Score for Decision Tree Model: {f1_balanced_down_dt:.2f}\")"
   ]
  },
  {
   "cell_type": "markdown",
   "metadata": {},
   "source": [
    "#### Random Forest Classifier with up- and downsampled data"
   ]
  },
  {
   "cell_type": "markdown",
   "metadata": {},
   "source": [
    "#### Upsampling Random Forest Classifier"
   ]
  },
  {
   "cell_type": "code",
   "execution_count": 48,
   "metadata": {},
   "outputs": [
    {
     "name": "stdout",
     "output_type": "stream",
     "text": [
      "F1 Score: 0.58 with n_estimators: 46\n"
     ]
    }
   ],
   "source": [
    "best_score_up = 0\n",
    "best_n_estimators_up = 0\n",
    "\n",
    "for n_estimators in range(1, 50):\n",
    "    model_forest = RandomForestClassifier(max_depth= 10, random_state=10, n_estimators=n_estimators)\n",
    "    model_forest.fit(features_resampled, target_resampled)\n",
    "    forest_prediction_up = model_forest.predict(X_val)\n",
    "    f1_score_val_balanced_up = f1_score(y_val, forest_prediction_up)\n",
    "\n",
    "    if f1_score_val_balanced_up > best_score_up:\n",
    "        best_score_up = f1_score_val_balanced_up\n",
    "        best_n_estimators_up = n_estimators\n",
    "\n",
    "print(f\"F1 Score: {best_score_up:.2f} with n_estimators: {best_n_estimators_up}\")"
   ]
  },
  {
   "cell_type": "markdown",
   "metadata": {},
   "source": [
    "#### Downsampling Random Forest Classifier"
   ]
  },
  {
   "cell_type": "code",
   "execution_count": 51,
   "metadata": {},
   "outputs": [
    {
     "name": "stdout",
     "output_type": "stream",
     "text": [
      "F1 Score: 0.57 with n_estimators: 46\n"
     ]
    }
   ],
   "source": [
    "best_score_down = 0\n",
    "best_n_estimators_down = 0\n",
    "\n",
    "for n_estimators in range(1, 50):\n",
    "    model_forest = RandomForestClassifier(max_depth= 10, random_state=10, n_estimators=n_estimators)\n",
    "    model_forest.fit(features_downsampled, target_downsampled)\n",
    "    forest_prediction_down = model_forest.predict(X_val)\n",
    "    f1_score_val_balanced_down = f1_score(y_val, forest_prediction_down)\n",
    "\n",
    "    if f1_score_val_balanced_down > best_score_down:\n",
    "        best_score_down = f1_score_val_balanced_down\n",
    "        best_n_estimators_down = n_estimators\n",
    "\n",
    "print(f\"F1 Score: {best_score_down:.2f} with n_estimators: {best_n_estimators_down}\")"
   ]
  },
  {
   "cell_type": "markdown",
   "metadata": {},
   "source": [
    "## Choosing the best Model Based on their F1 Score."
   ]
  },
  {
   "cell_type": "markdown",
   "metadata": {},
   "source": [
    "According to the models we created, and after upsampling, downsampling the data and balancing out the weights of the classes, \n",
    "the best model that we created is the Random Forest Classifier model, after upsampling the data with an f1 score of .61"
   ]
  },
  {
   "cell_type": "markdown",
   "metadata": {},
   "source": [
    "## Testing Random Forest Classifier with Test Set"
   ]
  },
  {
   "cell_type": "code",
   "execution_count": 53,
   "metadata": {},
   "outputs": [
    {
     "name": "stdout",
     "output_type": "stream",
     "text": [
      "F1 Score: 0.60\n",
      "AUC-ROC: 0.85\n"
     ]
    }
   ],
   "source": [
    "X_combined = pd.concat([X_train, X_val])\n",
    "y_combined = pd.concat([y_train, y_val])\n",
    "\n",
    "best_model = RandomForestClassifier(max_depth=10, random_state=10, n_estimators=26, class_weight='balanced')\n",
    "best_model.fit(X_train, y_train)\n",
    "y_pred = best_model.predict(X_test)\n",
    "f1 = f1_score(y_test, y_pred)\n",
    "auc_roc = roc_auc_score(y_test, best_model.predict_proba(X_test)[:, 1])\n",
    "\n",
    "print(f\"F1 Score: {f1:.2f}\")\n",
    "print(f\"AUC-ROC: {auc_roc:.2f}\")"
   ]
  },
  {
   "cell_type": "markdown",
   "metadata": {},
   "source": [
    "## Conclusion"
   ]
  },
  {
   "cell_type": "markdown",
   "metadata": {},
   "source": [
    "After creating a Logistic Regression, a Decision Tree Classfier and a Random Forest Classifier for this project, the best model is the Random Forest Classifier for this dataset. First, we balanced the weights of the classes, and we gave it a max_depth of 10 to give us a higher F1 Score. After using that model on the test set, I was able to get a F1 Score of 0.60 with a AUC-ROC score of .85."
   ]
  }
 ],
 "metadata": {
  "ExecuteTimeLog": [
   {
    "duration": 303,
    "start_time": "2024-05-25T03:32:57.311Z"
   },
   {
    "duration": 451,
    "start_time": "2024-05-25T03:33:00.681Z"
   },
   {
    "duration": 38,
    "start_time": "2024-05-25T03:33:03.866Z"
   },
   {
    "duration": 16,
    "start_time": "2024-05-25T03:33:14.003Z"
   },
   {
    "duration": 34,
    "start_time": "2024-05-25T03:33:39.685Z"
   },
   {
    "duration": 1379,
    "start_time": "2024-05-25T03:36:13.195Z"
   },
   {
    "duration": 29,
    "start_time": "2024-05-25T03:36:22.400Z"
   },
   {
    "duration": 67,
    "start_time": "2024-05-25T03:36:38.791Z"
   },
   {
    "duration": 31,
    "start_time": "2024-05-25T03:36:50.848Z"
   },
   {
    "duration": 30,
    "start_time": "2024-05-25T03:37:03.507Z"
   },
   {
    "duration": 25,
    "start_time": "2024-05-25T03:37:45.735Z"
   },
   {
    "duration": 25,
    "start_time": "2024-05-25T03:37:53.821Z"
   },
   {
    "duration": 21,
    "start_time": "2024-05-25T03:38:06.438Z"
   },
   {
    "duration": 6,
    "start_time": "2024-05-25T03:38:15.220Z"
   },
   {
    "duration": 8,
    "start_time": "2024-05-25T03:38:32.002Z"
   },
   {
    "duration": 6,
    "start_time": "2024-05-25T03:40:19.469Z"
   },
   {
    "duration": 32,
    "start_time": "2024-05-25T03:40:23.687Z"
   },
   {
    "duration": 717,
    "start_time": "2024-05-25T03:41:37.826Z"
   },
   {
    "duration": 4,
    "start_time": "2024-05-25T03:42:05.367Z"
   },
   {
    "duration": 4,
    "start_time": "2024-05-25T03:43:34.018Z"
   },
   {
    "duration": 88,
    "start_time": "2024-05-25T03:43:45.923Z"
   },
   {
    "duration": 7,
    "start_time": "2024-05-25T03:43:50.769Z"
   },
   {
    "duration": 8,
    "start_time": "2024-05-25T03:44:07.193Z"
   },
   {
    "duration": 8,
    "start_time": "2024-05-25T03:44:16.622Z"
   },
   {
    "duration": 375,
    "start_time": "2024-05-25T03:44:40.247Z"
   },
   {
    "duration": 5,
    "start_time": "2024-05-25T03:45:09.907Z"
   },
   {
    "duration": 137,
    "start_time": "2024-05-25T03:45:13.597Z"
   },
   {
    "duration": 1153,
    "start_time": "2024-05-27T16:20:34.763Z"
   },
   {
    "duration": 36,
    "start_time": "2024-05-27T16:20:35.919Z"
   },
   {
    "duration": 35,
    "start_time": "2024-05-27T16:20:40.970Z"
   },
   {
    "duration": 1238,
    "start_time": "2024-05-27T16:21:30.438Z"
   },
   {
    "duration": 3,
    "start_time": "2024-05-27T16:21:41.534Z"
   },
   {
    "duration": 7,
    "start_time": "2024-05-27T16:21:43.340Z"
   },
   {
    "duration": 5,
    "start_time": "2024-05-27T16:22:10.684Z"
   },
   {
    "duration": 27,
    "start_time": "2024-05-27T16:22:14.228Z"
   },
   {
    "duration": 28,
    "start_time": "2024-05-27T16:22:43.991Z"
   },
   {
    "duration": 6,
    "start_time": "2024-05-27T16:22:54.207Z"
   },
   {
    "duration": 23,
    "start_time": "2024-05-27T16:23:03.075Z"
   },
   {
    "duration": 32,
    "start_time": "2024-05-27T16:23:12.626Z"
   },
   {
    "duration": 6,
    "start_time": "2024-05-27T16:24:04.655Z"
   },
   {
    "duration": 34,
    "start_time": "2024-05-27T16:24:14.373Z"
   },
   {
    "duration": 4,
    "start_time": "2024-05-27T16:24:23.336Z"
   },
   {
    "duration": 29,
    "start_time": "2024-05-27T16:24:27.157Z"
   },
   {
    "duration": 29,
    "start_time": "2024-05-27T16:29:03.959Z"
   },
   {
    "duration": 14,
    "start_time": "2024-05-27T16:29:08.015Z"
   },
   {
    "duration": 25,
    "start_time": "2024-05-27T16:29:30.933Z"
   },
   {
    "duration": 20,
    "start_time": "2024-05-27T16:29:36.135Z"
   },
   {
    "duration": 23,
    "start_time": "2024-05-27T16:32:55.190Z"
   },
   {
    "duration": 9,
    "start_time": "2024-05-27T16:32:59.108Z"
   },
   {
    "duration": 8,
    "start_time": "2024-05-27T16:33:05.872Z"
   },
   {
    "duration": 7,
    "start_time": "2024-05-27T16:33:08.694Z"
   },
   {
    "duration": 9,
    "start_time": "2024-05-27T16:33:12.994Z"
   },
   {
    "duration": 8,
    "start_time": "2024-05-27T16:33:18.395Z"
   },
   {
    "duration": 6,
    "start_time": "2024-05-27T16:33:41.122Z"
   },
   {
    "duration": 7,
    "start_time": "2024-05-27T16:33:49.967Z"
   },
   {
    "duration": 6,
    "start_time": "2024-05-27T16:33:54.188Z"
   },
   {
    "duration": 9,
    "start_time": "2024-05-27T16:34:01.789Z"
   },
   {
    "duration": 8,
    "start_time": "2024-05-27T16:34:30.756Z"
   },
   {
    "duration": 4,
    "start_time": "2024-05-27T16:35:28.914Z"
   },
   {
    "duration": 6,
    "start_time": "2024-05-27T16:36:28.260Z"
   },
   {
    "duration": 4,
    "start_time": "2024-05-27T16:36:33.096Z"
   },
   {
    "duration": 7,
    "start_time": "2024-05-27T16:36:44.962Z"
   },
   {
    "duration": 7,
    "start_time": "2024-05-27T16:36:51.662Z"
   },
   {
    "duration": 5,
    "start_time": "2024-05-27T16:37:06.013Z"
   },
   {
    "duration": 8,
    "start_time": "2024-05-27T16:37:07.818Z"
   },
   {
    "duration": 1235,
    "start_time": "2024-05-27T16:37:27.940Z"
   },
   {
    "duration": 32,
    "start_time": "2024-05-27T16:37:29.178Z"
   },
   {
    "duration": 23,
    "start_time": "2024-05-27T16:37:29.214Z"
   },
   {
    "duration": 1305,
    "start_time": "2024-05-27T16:37:29.241Z"
   },
   {
    "duration": 0,
    "start_time": "2024-05-27T16:37:30.549Z"
   },
   {
    "duration": 10,
    "start_time": "2024-05-27T16:38:52.857Z"
   },
   {
    "duration": 4,
    "start_time": "2024-05-27T16:39:00.020Z"
   },
   {
    "duration": 17,
    "start_time": "2024-05-27T16:39:05.957Z"
   },
   {
    "duration": 9,
    "start_time": "2024-05-27T16:43:40.511Z"
   },
   {
    "duration": 7,
    "start_time": "2024-05-27T16:43:45.905Z"
   },
   {
    "duration": 16,
    "start_time": "2024-05-27T16:43:47.953Z"
   },
   {
    "duration": 8,
    "start_time": "2024-05-27T16:46:41.574Z"
   },
   {
    "duration": 31,
    "start_time": "2024-05-27T16:47:13.605Z"
   },
   {
    "duration": 5,
    "start_time": "2024-05-27T16:48:10.878Z"
   },
   {
    "duration": 34,
    "start_time": "2024-05-27T16:48:18.078Z"
   },
   {
    "duration": 30,
    "start_time": "2024-05-27T16:48:40.925Z"
   },
   {
    "duration": 29,
    "start_time": "2024-05-27T16:48:46.192Z"
   },
   {
    "duration": 4,
    "start_time": "2024-05-27T17:08:16.685Z"
   },
   {
    "duration": 5,
    "start_time": "2024-05-27T17:09:12.589Z"
   },
   {
    "duration": 9,
    "start_time": "2024-05-27T17:09:20.745Z"
   },
   {
    "duration": 4,
    "start_time": "2024-05-27T17:09:40.296Z"
   },
   {
    "duration": 4,
    "start_time": "2024-05-27T17:09:48.645Z"
   },
   {
    "duration": 8,
    "start_time": "2024-05-27T17:10:39.310Z"
   },
   {
    "duration": 5,
    "start_time": "2024-05-27T17:10:45.694Z"
   },
   {
    "duration": 8,
    "start_time": "2024-05-27T17:10:55.243Z"
   },
   {
    "duration": 12,
    "start_time": "2024-05-27T17:11:26.381Z"
   },
   {
    "duration": 4,
    "start_time": "2024-05-27T17:11:28.395Z"
   },
   {
    "duration": 63,
    "start_time": "2024-05-27T17:11:47.108Z"
   },
   {
    "duration": 64,
    "start_time": "2024-05-27T17:15:52.672Z"
   },
   {
    "duration": 8,
    "start_time": "2024-05-27T17:16:11.622Z"
   },
   {
    "duration": 27,
    "start_time": "2024-05-27T17:16:25.295Z"
   },
   {
    "duration": 3778,
    "start_time": "2024-05-27T17:17:23.306Z"
   },
   {
    "duration": 321,
    "start_time": "2024-05-27T17:17:27.750Z"
   },
   {
    "duration": 1830,
    "start_time": "2024-05-27T17:17:41.117Z"
   },
   {
    "duration": 174,
    "start_time": "2024-05-27T17:17:48.841Z"
   },
   {
    "duration": 316,
    "start_time": "2024-05-27T17:18:05.157Z"
   },
   {
    "duration": 324,
    "start_time": "2024-05-27T17:18:17.866Z"
   },
   {
    "duration": 1437,
    "start_time": "2024-05-27T17:19:03.136Z"
   },
   {
    "duration": 29,
    "start_time": "2024-05-27T17:19:04.577Z"
   },
   {
    "duration": 4,
    "start_time": "2024-05-27T17:19:04.609Z"
   },
   {
    "duration": 6,
    "start_time": "2024-05-27T17:19:04.617Z"
   },
   {
    "duration": 18,
    "start_time": "2024-05-27T17:19:04.628Z"
   },
   {
    "duration": 9,
    "start_time": "2024-05-27T17:19:04.649Z"
   },
   {
    "duration": 48,
    "start_time": "2024-05-27T17:19:04.661Z"
   },
   {
    "duration": 8,
    "start_time": "2024-05-27T17:19:04.712Z"
   },
   {
    "duration": 263,
    "start_time": "2024-05-27T17:19:04.723Z"
   },
   {
    "duration": 9,
    "start_time": "2024-05-27T17:19:13.407Z"
   },
   {
    "duration": 6,
    "start_time": "2024-05-27T17:19:24.405Z"
   },
   {
    "duration": 6,
    "start_time": "2024-05-27T17:19:27.849Z"
   },
   {
    "duration": 21,
    "start_time": "2024-05-27T17:19:32.542Z"
   },
   {
    "duration": 13,
    "start_time": "2024-05-27T17:19:37.301Z"
   },
   {
    "duration": 8,
    "start_time": "2024-05-27T17:20:19.493Z"
   },
   {
    "duration": 5,
    "start_time": "2024-05-27T17:21:08.256Z"
   },
   {
    "duration": 4,
    "start_time": "2024-05-27T17:22:26.744Z"
   },
   {
    "duration": 6,
    "start_time": "2024-05-27T17:22:38.827Z"
   },
   {
    "duration": 18,
    "start_time": "2024-05-27T17:22:50.508Z"
   },
   {
    "duration": 7,
    "start_time": "2024-05-27T17:23:01.659Z"
   },
   {
    "duration": 12,
    "start_time": "2024-05-27T17:23:02.106Z"
   },
   {
    "duration": 9,
    "start_time": "2024-05-27T17:23:16.714Z"
   },
   {
    "duration": 9,
    "start_time": "2024-05-27T17:23:18.865Z"
   },
   {
    "duration": 52,
    "start_time": "2024-05-27T17:23:20.932Z"
   },
   {
    "duration": 6,
    "start_time": "2024-05-27T17:23:34.423Z"
   },
   {
    "duration": 8,
    "start_time": "2024-05-27T17:23:36.314Z"
   },
   {
    "duration": 6,
    "start_time": "2024-05-27T17:23:53.197Z"
   },
   {
    "duration": 8,
    "start_time": "2024-05-27T17:23:54.087Z"
   },
   {
    "duration": 52,
    "start_time": "2024-05-27T17:23:55.167Z"
   },
   {
    "duration": 6,
    "start_time": "2024-05-27T17:24:09.664Z"
   },
   {
    "duration": 9,
    "start_time": "2024-05-27T17:24:11.488Z"
   },
   {
    "duration": 32,
    "start_time": "2024-05-27T17:24:12.165Z"
   },
   {
    "duration": 596,
    "start_time": "2024-05-27T17:24:52.450Z"
   },
   {
    "duration": 31,
    "start_time": "2024-05-27T17:25:07.455Z"
   },
   {
    "duration": 33,
    "start_time": "2024-05-27T17:28:06.859Z"
   },
   {
    "duration": 50,
    "start_time": "2024-05-27T17:29:29.503Z"
   },
   {
    "duration": 4,
    "start_time": "2024-05-27T17:31:21.145Z"
   },
   {
    "duration": 36,
    "start_time": "2024-05-27T17:31:30.288Z"
   },
   {
    "duration": 31,
    "start_time": "2024-05-27T17:31:50.008Z"
   },
   {
    "duration": 32,
    "start_time": "2024-05-27T17:32:16.109Z"
   },
   {
    "duration": 4,
    "start_time": "2024-05-27T17:33:40.982Z"
   },
   {
    "duration": 8,
    "start_time": "2024-05-27T17:34:55.262Z"
   },
   {
    "duration": 35,
    "start_time": "2024-05-27T17:35:45.263Z"
   },
   {
    "duration": 35,
    "start_time": "2024-05-27T17:35:57.512Z"
   },
   {
    "duration": 33,
    "start_time": "2024-05-27T17:36:14.236Z"
   },
   {
    "duration": 42,
    "start_time": "2024-05-27T17:36:18.081Z"
   },
   {
    "duration": 34,
    "start_time": "2024-05-27T17:36:31.839Z"
   },
   {
    "duration": 33,
    "start_time": "2024-05-27T17:36:42.844Z"
   },
   {
    "duration": 44,
    "start_time": "2024-05-27T17:37:54.275Z"
   },
   {
    "duration": 37,
    "start_time": "2024-05-27T17:38:00.225Z"
   },
   {
    "duration": 24,
    "start_time": "2024-05-27T17:39:10.195Z"
   },
   {
    "duration": 29,
    "start_time": "2024-05-27T17:39:28.446Z"
   },
   {
    "duration": 16,
    "start_time": "2024-05-27T17:40:14.396Z"
   },
   {
    "duration": 4,
    "start_time": "2024-05-27T17:40:20.696Z"
   },
   {
    "duration": 594,
    "start_time": "2024-05-27T17:40:47.947Z"
   },
   {
    "duration": 679,
    "start_time": "2024-05-27T17:41:12.635Z"
   },
   {
    "duration": 694,
    "start_time": "2024-05-27T17:41:53.042Z"
   },
   {
    "duration": 690,
    "start_time": "2024-05-27T17:42:07.018Z"
   },
   {
    "duration": 143,
    "start_time": "2024-05-27T17:46:00.206Z"
   },
   {
    "duration": 7,
    "start_time": "2024-05-27T17:46:11.256Z"
   },
   {
    "duration": 9,
    "start_time": "2024-05-27T17:46:27.761Z"
   },
   {
    "duration": 7,
    "start_time": "2024-05-27T17:46:31.315Z"
   },
   {
    "duration": 7,
    "start_time": "2024-05-27T17:46:43.912Z"
   },
   {
    "duration": 7,
    "start_time": "2024-05-27T17:46:48.185Z"
   },
   {
    "duration": 13542,
    "start_time": "2024-05-27T17:46:54.822Z"
   },
   {
    "duration": 12731,
    "start_time": "2024-05-27T17:47:52.463Z"
   },
   {
    "duration": 10,
    "start_time": "2024-05-27T17:58:01.404Z"
   },
   {
    "duration": 12802,
    "start_time": "2024-05-27T17:58:07.907Z"
   },
   {
    "duration": 12730,
    "start_time": "2024-05-27T17:58:48.261Z"
   },
   {
    "duration": 7,
    "start_time": "2024-05-27T18:04:06.440Z"
   },
   {
    "duration": 5694,
    "start_time": "2024-05-27T18:04:13.660Z"
   },
   {
    "duration": 7836,
    "start_time": "2024-05-27T18:07:59.876Z"
   },
   {
    "duration": 5658,
    "start_time": "2024-05-27T18:08:38.414Z"
   },
   {
    "duration": 13899,
    "start_time": "2024-05-27T18:09:17.165Z"
   },
   {
    "duration": 13442,
    "start_time": "2024-05-27T18:11:09.783Z"
   },
   {
    "duration": 1755,
    "start_time": "2024-05-27T19:17:05.638Z"
   },
   {
    "duration": 1674,
    "start_time": "2024-05-27T19:17:12.287Z"
   },
   {
    "duration": 0,
    "start_time": "2024-05-27T19:17:13.966Z"
   },
   {
    "duration": 0,
    "start_time": "2024-05-27T19:17:13.968Z"
   },
   {
    "duration": 0,
    "start_time": "2024-05-27T19:17:13.970Z"
   },
   {
    "duration": 0,
    "start_time": "2024-05-27T19:17:13.973Z"
   },
   {
    "duration": 0,
    "start_time": "2024-05-27T19:17:13.975Z"
   },
   {
    "duration": 0,
    "start_time": "2024-05-27T19:17:13.978Z"
   },
   {
    "duration": 0,
    "start_time": "2024-05-27T19:17:13.980Z"
   },
   {
    "duration": 0,
    "start_time": "2024-05-27T19:17:13.983Z"
   },
   {
    "duration": 0,
    "start_time": "2024-05-27T19:17:13.985Z"
   },
   {
    "duration": 0,
    "start_time": "2024-05-27T19:17:14.013Z"
   },
   {
    "duration": 0,
    "start_time": "2024-05-27T19:17:14.014Z"
   },
   {
    "duration": 0,
    "start_time": "2024-05-27T19:17:14.016Z"
   },
   {
    "duration": 52,
    "start_time": "2024-05-27T19:17:23.704Z"
   },
   {
    "duration": 23,
    "start_time": "2024-05-27T19:17:32.468Z"
   },
   {
    "duration": 4461,
    "start_time": "2024-05-27T19:17:44.733Z"
   },
   {
    "duration": 61,
    "start_time": "2024-05-27T19:17:49.198Z"
   },
   {
    "duration": 132,
    "start_time": "2024-05-27T19:18:05.688Z"
   },
   {
    "duration": 58,
    "start_time": "2024-05-27T19:18:17.719Z"
   },
   {
    "duration": 38,
    "start_time": "2024-05-27T19:18:29.340Z"
   },
   {
    "duration": 25,
    "start_time": "2024-05-27T19:18:43.976Z"
   },
   {
    "duration": 36,
    "start_time": "2024-05-27T19:18:46.383Z"
   },
   {
    "duration": 1511,
    "start_time": "2024-05-27T19:18:52.453Z"
   },
   {
    "duration": 31,
    "start_time": "2024-05-27T19:18:53.968Z"
   },
   {
    "duration": 9,
    "start_time": "2024-05-27T19:18:54.002Z"
   },
   {
    "duration": 11,
    "start_time": "2024-05-27T19:18:54.015Z"
   },
   {
    "duration": 23,
    "start_time": "2024-05-27T19:18:54.031Z"
   },
   {
    "duration": 6,
    "start_time": "2024-05-27T19:18:54.057Z"
   },
   {
    "duration": 5,
    "start_time": "2024-05-27T19:18:54.066Z"
   },
   {
    "duration": 15,
    "start_time": "2024-05-27T19:18:54.108Z"
   },
   {
    "duration": 22,
    "start_time": "2024-05-27T19:18:54.130Z"
   },
   {
    "duration": 8,
    "start_time": "2024-05-27T19:18:54.157Z"
   },
   {
    "duration": 8,
    "start_time": "2024-05-27T19:18:54.167Z"
   },
   {
    "duration": 84,
    "start_time": "2024-05-27T19:18:54.178Z"
   },
   {
    "duration": 865,
    "start_time": "2024-05-27T19:18:54.266Z"
   },
   {
    "duration": 15,
    "start_time": "2024-05-27T19:19:01.317Z"
   },
   {
    "duration": 8,
    "start_time": "2024-05-27T19:19:01.748Z"
   },
   {
    "duration": 39,
    "start_time": "2024-05-27T19:19:02.234Z"
   },
   {
    "duration": 96,
    "start_time": "2024-05-27T19:19:06.180Z"
   },
   {
    "duration": 111,
    "start_time": "2024-05-27T19:19:26.827Z"
   },
   {
    "duration": 232,
    "start_time": "2024-05-27T19:19:37.250Z"
   },
   {
    "duration": 9,
    "start_time": "2024-05-27T19:19:58.033Z"
   },
   {
    "duration": 34,
    "start_time": "2024-05-27T19:20:21.571Z"
   },
   {
    "duration": 5,
    "start_time": "2024-05-27T19:20:29.882Z"
   },
   {
    "duration": 6104,
    "start_time": "2024-05-27T19:20:36.532Z"
   },
   {
    "duration": 6121,
    "start_time": "2024-05-27T19:30:45.281Z"
   },
   {
    "duration": 1333,
    "start_time": "2024-05-27T19:34:37.458Z"
   },
   {
    "duration": 8,
    "start_time": "2024-05-27T19:35:30.279Z"
   },
   {
    "duration": 1619,
    "start_time": "2024-05-27T19:35:48.658Z"
   },
   {
    "duration": 28,
    "start_time": "2024-05-27T19:38:21.370Z"
   },
   {
    "duration": 6,
    "start_time": "2024-05-27T19:38:54.459Z"
   },
   {
    "duration": 74,
    "start_time": "2024-05-27T19:39:00.077Z"
   },
   {
    "duration": 201,
    "start_time": "2024-05-27T19:39:24.763Z"
   },
   {
    "duration": 81,
    "start_time": "2024-05-27T19:39:42.538Z"
   },
   {
    "duration": 86,
    "start_time": "2024-05-27T19:40:02.941Z"
   },
   {
    "duration": 123,
    "start_time": "2024-05-27T19:40:40.896Z"
   },
   {
    "duration": 67,
    "start_time": "2024-05-27T19:41:04.064Z"
   },
   {
    "duration": 6144,
    "start_time": "2024-05-27T19:41:24.682Z"
   },
   {
    "duration": 55,
    "start_time": "2024-05-27T19:41:45.064Z"
   },
   {
    "duration": 6114,
    "start_time": "2024-05-27T19:46:20.330Z"
   },
   {
    "duration": 46,
    "start_time": "2024-05-27T19:49:31.006Z"
   },
   {
    "duration": 7,
    "start_time": "2024-05-27T19:49:35.649Z"
   },
   {
    "duration": 465,
    "start_time": "2024-05-27T19:49:40.068Z"
   },
   {
    "duration": 220,
    "start_time": "2024-05-27T19:49:55.787Z"
   },
   {
    "duration": 227,
    "start_time": "2024-05-27T19:50:06.656Z"
   },
   {
    "duration": 226,
    "start_time": "2024-05-27T19:50:21.870Z"
   },
   {
    "duration": 1511,
    "start_time": "2024-05-27T19:51:00.233Z"
   },
   {
    "duration": 26,
    "start_time": "2024-05-27T19:51:01.747Z"
   },
   {
    "duration": 4,
    "start_time": "2024-05-27T19:51:01.777Z"
   },
   {
    "duration": 50,
    "start_time": "2024-05-27T19:51:01.786Z"
   },
   {
    "duration": 17,
    "start_time": "2024-05-27T19:51:01.839Z"
   },
   {
    "duration": 5,
    "start_time": "2024-05-27T19:51:01.860Z"
   },
   {
    "duration": 5,
    "start_time": "2024-05-27T19:51:01.869Z"
   },
   {
    "duration": 8,
    "start_time": "2024-05-27T19:51:01.877Z"
   },
   {
    "duration": 57,
    "start_time": "2024-05-27T19:51:01.887Z"
   },
   {
    "duration": 1479,
    "start_time": "2024-05-27T19:51:58.472Z"
   },
   {
    "duration": 25,
    "start_time": "2024-05-27T19:51:59.955Z"
   },
   {
    "duration": 4,
    "start_time": "2024-05-27T19:51:59.983Z"
   },
   {
    "duration": 12,
    "start_time": "2024-05-27T19:52:00.016Z"
   },
   {
    "duration": 23,
    "start_time": "2024-05-27T19:52:00.033Z"
   },
   {
    "duration": 6,
    "start_time": "2024-05-27T19:52:00.059Z"
   },
   {
    "duration": 5,
    "start_time": "2024-05-27T19:52:00.068Z"
   },
   {
    "duration": 35,
    "start_time": "2024-05-27T19:52:00.077Z"
   },
   {
    "duration": 28,
    "start_time": "2024-05-27T19:52:00.115Z"
   },
   {
    "duration": 6,
    "start_time": "2024-05-27T19:52:00.149Z"
   },
   {
    "duration": 8,
    "start_time": "2024-05-27T19:52:00.159Z"
   },
   {
    "duration": 6190,
    "start_time": "2024-05-27T19:52:00.171Z"
   },
   {
    "duration": 504,
    "start_time": "2024-05-27T19:52:10.038Z"
   },
   {
    "duration": 8,
    "start_time": "2024-05-27T19:52:14.766Z"
   },
   {
    "duration": 487,
    "start_time": "2024-05-27T19:52:19.961Z"
   },
   {
    "duration": 470,
    "start_time": "2024-05-27T19:52:24.630Z"
   },
   {
    "duration": 1603,
    "start_time": "2024-05-27T19:52:44.733Z"
   },
   {
    "duration": 25,
    "start_time": "2024-05-27T19:52:46.340Z"
   },
   {
    "duration": 5,
    "start_time": "2024-05-27T19:52:46.367Z"
   },
   {
    "duration": 7,
    "start_time": "2024-05-27T19:52:46.375Z"
   },
   {
    "duration": 54,
    "start_time": "2024-05-27T19:52:46.386Z"
   },
   {
    "duration": 5,
    "start_time": "2024-05-27T19:52:46.443Z"
   },
   {
    "duration": 5,
    "start_time": "2024-05-27T19:52:46.451Z"
   },
   {
    "duration": 7,
    "start_time": "2024-05-27T19:52:46.460Z"
   },
   {
    "duration": 62,
    "start_time": "2024-05-27T19:52:46.470Z"
   },
   {
    "duration": 1537,
    "start_time": "2024-05-27T19:53:01.921Z"
   },
   {
    "duration": 24,
    "start_time": "2024-05-27T19:53:03.462Z"
   },
   {
    "duration": 4,
    "start_time": "2024-05-27T19:53:03.489Z"
   },
   {
    "duration": 18,
    "start_time": "2024-05-27T19:53:03.519Z"
   },
   {
    "duration": 18,
    "start_time": "2024-05-27T19:53:03.541Z"
   },
   {
    "duration": 6,
    "start_time": "2024-05-27T19:53:03.562Z"
   },
   {
    "duration": 6,
    "start_time": "2024-05-27T19:53:03.571Z"
   },
   {
    "duration": 18,
    "start_time": "2024-05-27T19:53:03.616Z"
   },
   {
    "duration": 17,
    "start_time": "2024-05-27T19:53:03.636Z"
   },
   {
    "duration": 32,
    "start_time": "2024-05-27T19:53:03.656Z"
   },
   {
    "duration": 32,
    "start_time": "2024-05-27T19:53:03.691Z"
   },
   {
    "duration": 10,
    "start_time": "2024-05-27T19:53:03.727Z"
   },
   {
    "duration": 6118,
    "start_time": "2024-05-27T19:53:03.741Z"
   },
   {
    "duration": 48,
    "start_time": "2024-05-27T19:53:12.177Z"
   },
   {
    "duration": 8,
    "start_time": "2024-05-27T19:53:19.048Z"
   },
   {
    "duration": 8,
    "start_time": "2024-05-27T19:54:28.172Z"
   },
   {
    "duration": 1446,
    "start_time": "2024-05-27T19:54:37.392Z"
   },
   {
    "duration": 17,
    "start_time": "2024-05-27T19:54:48.004Z"
   },
   {
    "duration": 9,
    "start_time": "2024-05-27T19:54:54.129Z"
   },
   {
    "duration": 4,
    "start_time": "2024-05-27T19:55:44.299Z"
   },
   {
    "duration": 5,
    "start_time": "2024-05-27T19:55:44.550Z"
   },
   {
    "duration": 40,
    "start_time": "2024-05-27T19:55:45.296Z"
   },
   {
    "duration": 5,
    "start_time": "2024-05-27T19:55:48.599Z"
   },
   {
    "duration": 5,
    "start_time": "2024-05-27T19:55:48.893Z"
   },
   {
    "duration": 11,
    "start_time": "2024-05-27T19:55:49.202Z"
   },
   {
    "duration": 24,
    "start_time": "2024-05-27T19:56:21.466Z"
   },
   {
    "duration": 124,
    "start_time": "2024-05-27T19:57:14.982Z"
   },
   {
    "duration": 88,
    "start_time": "2024-05-27T19:57:42.874Z"
   },
   {
    "duration": 697,
    "start_time": "2024-05-27T19:57:45.471Z"
   },
   {
    "duration": 52,
    "start_time": "2024-05-27T19:57:55.245Z"
   },
   {
    "duration": 278,
    "start_time": "2024-05-27T19:57:57.469Z"
   },
   {
    "duration": 15126,
    "start_time": "2024-05-27T19:58:00.146Z"
   },
   {
    "duration": 238,
    "start_time": "2024-05-27T19:58:54.253Z"
   },
   {
    "duration": 270,
    "start_time": "2024-05-27T19:59:12.514Z"
   },
   {
    "duration": 13650,
    "start_time": "2024-05-27T19:59:14.550Z"
   },
   {
    "duration": 34,
    "start_time": "2024-05-27T19:59:57.338Z"
   },
   {
    "duration": 29,
    "start_time": "2024-05-27T20:00:07.638Z"
   },
   {
    "duration": 36,
    "start_time": "2024-05-27T20:00:09.739Z"
   },
   {
    "duration": 260,
    "start_time": "2024-05-27T20:00:10.521Z"
   },
   {
    "duration": 13011,
    "start_time": "2024-05-27T20:00:11.356Z"
   },
   {
    "duration": 1635,
    "start_time": "2024-05-27T20:00:32.443Z"
   },
   {
    "duration": 41,
    "start_time": "2024-05-27T20:00:34.082Z"
   },
   {
    "duration": 7,
    "start_time": "2024-05-27T20:00:34.126Z"
   },
   {
    "duration": 14,
    "start_time": "2024-05-27T20:00:34.137Z"
   },
   {
    "duration": 24,
    "start_time": "2024-05-27T20:00:34.157Z"
   },
   {
    "duration": 6,
    "start_time": "2024-05-27T20:00:34.185Z"
   },
   {
    "duration": 25,
    "start_time": "2024-05-27T20:00:34.194Z"
   },
   {
    "duration": 16,
    "start_time": "2024-05-27T20:00:34.223Z"
   },
   {
    "duration": 96,
    "start_time": "2024-05-27T20:00:34.243Z"
   },
   {
    "duration": 55,
    "start_time": "2024-05-27T20:00:34.342Z"
   },
   {
    "duration": 307,
    "start_time": "2024-05-27T20:00:34.418Z"
   },
   {
    "duration": 13013,
    "start_time": "2024-05-27T20:00:34.731Z"
   },
   {
    "duration": 23,
    "start_time": "2024-05-27T20:10:33.735Z"
   },
   {
    "duration": 215,
    "start_time": "2024-05-27T20:10:35.608Z"
   },
   {
    "duration": 11789,
    "start_time": "2024-05-27T20:10:37.311Z"
   },
   {
    "duration": 1392,
    "start_time": "2024-05-27T20:10:55.444Z"
   },
   {
    "duration": 24,
    "start_time": "2024-05-27T20:10:56.841Z"
   },
   {
    "duration": 5,
    "start_time": "2024-05-27T20:10:56.868Z"
   },
   {
    "duration": 5,
    "start_time": "2024-05-27T20:10:56.877Z"
   },
   {
    "duration": 17,
    "start_time": "2024-05-27T20:10:56.911Z"
   },
   {
    "duration": 6,
    "start_time": "2024-05-27T20:10:56.931Z"
   },
   {
    "duration": 5,
    "start_time": "2024-05-27T20:10:56.940Z"
   },
   {
    "duration": 8,
    "start_time": "2024-05-27T20:10:56.948Z"
   },
   {
    "duration": 53,
    "start_time": "2024-05-27T20:10:56.959Z"
   },
   {
    "duration": 11,
    "start_time": "2024-05-27T20:10:57.015Z"
   },
   {
    "duration": 265,
    "start_time": "2024-05-27T20:10:57.029Z"
   },
   {
    "duration": 11,
    "start_time": "2024-05-27T20:13:41.001Z"
   },
   {
    "duration": 4,
    "start_time": "2024-05-27T20:14:04.401Z"
   },
   {
    "duration": 4,
    "start_time": "2024-05-27T20:14:12.325Z"
   },
   {
    "duration": 5,
    "start_time": "2024-05-27T20:14:23.309Z"
   },
   {
    "duration": 9,
    "start_time": "2024-05-27T20:17:21.859Z"
   },
   {
    "duration": 91,
    "start_time": "2024-05-27T20:19:25.859Z"
   },
   {
    "duration": 333,
    "start_time": "2024-05-27T20:19:28.367Z"
   },
   {
    "duration": 4,
    "start_time": "2024-05-27T20:19:30.984Z"
   },
   {
    "duration": 30,
    "start_time": "2024-05-27T20:19:33.150Z"
   },
   {
    "duration": 404,
    "start_time": "2024-05-27T20:20:22.070Z"
   },
   {
    "duration": 408,
    "start_time": "2024-05-27T20:21:21.382Z"
   },
   {
    "duration": 406,
    "start_time": "2024-05-27T20:21:49.388Z"
   },
   {
    "duration": 411,
    "start_time": "2024-05-27T20:22:01.770Z"
   },
   {
    "duration": 14717,
    "start_time": "2024-05-27T20:22:14.407Z"
   },
   {
    "duration": 14588,
    "start_time": "2024-05-27T20:23:03.450Z"
   },
   {
    "duration": 14616,
    "start_time": "2024-05-27T20:24:35.741Z"
   },
   {
    "duration": 414,
    "start_time": "2024-05-27T20:25:14.141Z"
   },
   {
    "duration": 14544,
    "start_time": "2024-05-27T20:25:51.165Z"
   },
   {
    "duration": 1436,
    "start_time": "2024-05-27T20:26:08.296Z"
   },
   {
    "duration": 25,
    "start_time": "2024-05-27T20:26:09.737Z"
   },
   {
    "duration": 4,
    "start_time": "2024-05-27T20:26:09.765Z"
   },
   {
    "duration": 6,
    "start_time": "2024-05-27T20:26:09.772Z"
   },
   {
    "duration": 18,
    "start_time": "2024-05-27T20:26:09.808Z"
   },
   {
    "duration": 6,
    "start_time": "2024-05-27T20:26:09.829Z"
   },
   {
    "duration": 5,
    "start_time": "2024-05-27T20:26:09.838Z"
   },
   {
    "duration": 8,
    "start_time": "2024-05-27T20:26:09.846Z"
   },
   {
    "duration": 122,
    "start_time": "2024-05-27T20:26:09.857Z"
   },
   {
    "duration": 337,
    "start_time": "2024-05-27T20:26:09.982Z"
   },
   {
    "duration": 5,
    "start_time": "2024-05-27T20:26:10.322Z"
   },
   {
    "duration": 31,
    "start_time": "2024-05-27T20:26:10.330Z"
   },
   {
    "duration": 445,
    "start_time": "2024-05-27T20:26:10.364Z"
   },
   {
    "duration": 15091,
    "start_time": "2024-05-27T20:26:10.815Z"
   },
   {
    "duration": 14728,
    "start_time": "2024-05-27T20:27:02.714Z"
   },
   {
    "duration": 14709,
    "start_time": "2024-05-27T20:28:07.035Z"
   },
   {
    "duration": 14747,
    "start_time": "2024-05-27T20:28:43.417Z"
   },
   {
    "duration": 5200,
    "start_time": "2024-05-27T23:01:50.353Z"
   },
   {
    "duration": 36,
    "start_time": "2024-05-27T23:01:55.556Z"
   },
   {
    "duration": 4,
    "start_time": "2024-05-27T23:01:55.595Z"
   },
   {
    "duration": 6,
    "start_time": "2024-05-27T23:01:55.604Z"
   },
   {
    "duration": 35,
    "start_time": "2024-05-27T23:01:55.613Z"
   },
   {
    "duration": 6,
    "start_time": "2024-05-27T23:01:55.650Z"
   },
   {
    "duration": 5,
    "start_time": "2024-05-27T23:01:55.659Z"
   },
   {
    "duration": 7,
    "start_time": "2024-05-27T23:01:55.668Z"
   },
   {
    "duration": 121,
    "start_time": "2024-05-27T23:01:55.679Z"
   },
   {
    "duration": 339,
    "start_time": "2024-05-27T23:01:55.805Z"
   },
   {
    "duration": 5,
    "start_time": "2024-05-27T23:01:56.148Z"
   },
   {
    "duration": 31,
    "start_time": "2024-05-27T23:01:56.157Z"
   },
   {
    "duration": 448,
    "start_time": "2024-05-27T23:01:56.191Z"
   },
   {
    "duration": 14773,
    "start_time": "2024-05-27T23:02:11.474Z"
   },
   {
    "duration": 14609,
    "start_time": "2024-05-27T23:02:26.252Z"
   },
   {
    "duration": 15222,
    "start_time": "2024-05-27T23:04:09.583Z"
   },
   {
    "duration": 632,
    "start_time": "2024-05-27T23:06:05.346Z"
   },
   {
    "duration": 3,
    "start_time": "2024-05-27T23:06:40.919Z"
   },
   {
    "duration": 426,
    "start_time": "2024-05-27T23:06:57.841Z"
   },
   {
    "duration": 1460,
    "start_time": "2024-05-27T23:07:12.733Z"
   },
   {
    "duration": 37,
    "start_time": "2024-05-27T23:07:14.196Z"
   },
   {
    "duration": 5,
    "start_time": "2024-05-27T23:07:14.236Z"
   },
   {
    "duration": 7,
    "start_time": "2024-05-27T23:07:14.244Z"
   },
   {
    "duration": 16,
    "start_time": "2024-05-27T23:07:14.257Z"
   },
   {
    "duration": 5,
    "start_time": "2024-05-27T23:07:14.276Z"
   },
   {
    "duration": 5,
    "start_time": "2024-05-27T23:07:14.284Z"
   },
   {
    "duration": 10,
    "start_time": "2024-05-27T23:07:14.332Z"
   },
   {
    "duration": 105,
    "start_time": "2024-05-27T23:07:14.346Z"
   },
   {
    "duration": 338,
    "start_time": "2024-05-27T23:07:14.453Z"
   },
   {
    "duration": 5,
    "start_time": "2024-05-27T23:07:14.794Z"
   },
   {
    "duration": 48,
    "start_time": "2024-05-27T23:07:14.802Z"
   },
   {
    "duration": 436,
    "start_time": "2024-05-27T23:07:14.853Z"
   },
   {
    "duration": 378,
    "start_time": "2024-05-27T23:07:15.294Z"
   },
   {
    "duration": 524,
    "start_time": "2024-05-27T23:07:58.437Z"
   },
   {
    "duration": 569,
    "start_time": "2024-05-27T23:08:09.112Z"
   },
   {
    "duration": 618,
    "start_time": "2024-05-27T23:08:27.747Z"
   },
   {
    "duration": 430,
    "start_time": "2024-05-27T23:08:35.839Z"
   },
   {
    "duration": 1837,
    "start_time": "2024-05-27T23:09:26.840Z"
   },
   {
    "duration": 36,
    "start_time": "2024-05-27T23:09:28.681Z"
   },
   {
    "duration": 9,
    "start_time": "2024-05-27T23:09:28.735Z"
   },
   {
    "duration": 13,
    "start_time": "2024-05-27T23:09:28.747Z"
   },
   {
    "duration": 37,
    "start_time": "2024-05-27T23:09:28.764Z"
   },
   {
    "duration": 19,
    "start_time": "2024-05-27T23:09:36.047Z"
   },
   {
    "duration": 9,
    "start_time": "2024-05-27T23:09:40.930Z"
   },
   {
    "duration": 6,
    "start_time": "2024-05-27T23:10:13.759Z"
   },
   {
    "duration": 819,
    "start_time": "2024-05-27T23:10:15.814Z"
   },
   {
    "duration": 27,
    "start_time": "2024-05-27T23:10:23.320Z"
   },
   {
    "duration": 78,
    "start_time": "2024-05-27T23:10:54.615Z"
   },
   {
    "duration": 48,
    "start_time": "2024-05-27T23:11:18.341Z"
   },
   {
    "duration": 3,
    "start_time": "2024-05-27T23:11:28.354Z"
   },
   {
    "duration": 240,
    "start_time": "2024-05-27T23:12:30.772Z"
   },
   {
    "duration": 581,
    "start_time": "2024-05-27T23:12:41.821Z"
   },
   {
    "duration": 10957,
    "start_time": "2024-05-27T23:13:20.308Z"
   },
   {
    "duration": 11622,
    "start_time": "2024-05-27T23:14:21.999Z"
   },
   {
    "duration": 0,
    "start_time": "2024-05-27T23:14:50.433Z"
   },
   {
    "duration": 11543,
    "start_time": "2024-05-27T23:15:11.362Z"
   },
   {
    "duration": 11084,
    "start_time": "2024-05-27T23:15:58.007Z"
   },
   {
    "duration": 11366,
    "start_time": "2024-05-27T23:16:14.549Z"
   },
   {
    "duration": 21,
    "start_time": "2024-05-27T23:26:10.601Z"
   },
   {
    "duration": 11153,
    "start_time": "2024-05-27T23:26:11.130Z"
   },
   {
    "duration": 1517,
    "start_time": "2024-05-27T23:26:26.199Z"
   },
   {
    "duration": 33,
    "start_time": "2024-05-27T23:26:27.720Z"
   },
   {
    "duration": 5,
    "start_time": "2024-05-27T23:26:27.757Z"
   },
   {
    "duration": 6,
    "start_time": "2024-05-27T23:26:27.766Z"
   },
   {
    "duration": 19,
    "start_time": "2024-05-27T23:26:27.777Z"
   },
   {
    "duration": 22,
    "start_time": "2024-05-27T23:26:27.834Z"
   },
   {
    "duration": 6,
    "start_time": "2024-05-27T23:26:27.859Z"
   },
   {
    "duration": 275,
    "start_time": "2024-05-27T23:26:27.868Z"
   },
   {
    "duration": 5,
    "start_time": "2024-05-27T23:27:41.176Z"
   },
   {
    "duration": 54,
    "start_time": "2024-05-27T23:27:43.224Z"
   },
   {
    "duration": 5,
    "start_time": "2024-05-27T23:27:54.495Z"
   },
   {
    "duration": 1236,
    "start_time": "2024-05-27T23:27:56.246Z"
   },
   {
    "duration": 77,
    "start_time": "2024-05-27T23:28:31.860Z"
   },
   {
    "duration": 1552,
    "start_time": "2024-05-27T23:28:35.018Z"
   },
   {
    "duration": 266,
    "start_time": "2024-05-27T23:28:59.393Z"
   },
   {
    "duration": 37,
    "start_time": "2024-05-27T23:29:09.990Z"
   },
   {
    "duration": 33,
    "start_time": "2024-05-27T23:29:33.422Z"
   },
   {
    "duration": 1401,
    "start_time": "2024-05-27T23:29:44.505Z"
   },
   {
    "duration": 30,
    "start_time": "2024-05-27T23:29:45.909Z"
   },
   {
    "duration": 4,
    "start_time": "2024-05-27T23:29:45.942Z"
   },
   {
    "duration": 6,
    "start_time": "2024-05-27T23:29:45.949Z"
   },
   {
    "duration": 18,
    "start_time": "2024-05-27T23:29:45.959Z"
   },
   {
    "duration": 53,
    "start_time": "2024-05-27T23:29:45.980Z"
   },
   {
    "duration": 32,
    "start_time": "2024-05-27T23:29:46.036Z"
   },
   {
    "duration": 502,
    "start_time": "2024-05-27T23:29:46.070Z"
   },
   {
    "duration": 25,
    "start_time": "2024-05-27T23:32:49.251Z"
   },
   {
    "duration": 6,
    "start_time": "2024-05-27T23:33:38.446Z"
   },
   {
    "duration": 63,
    "start_time": "2024-05-27T23:33:40.312Z"
   },
   {
    "duration": 5,
    "start_time": "2024-05-27T23:33:55.513Z"
   },
   {
    "duration": 62,
    "start_time": "2024-05-27T23:33:57.174Z"
   },
   {
    "duration": 5,
    "start_time": "2024-05-27T23:34:36.963Z"
   },
   {
    "duration": 56,
    "start_time": "2024-05-27T23:34:38.640Z"
   },
   {
    "duration": 5,
    "start_time": "2024-05-27T23:34:47.986Z"
   },
   {
    "duration": 1794,
    "start_time": "2024-05-27T23:34:49.479Z"
   },
   {
    "duration": 27,
    "start_time": "2024-05-27T23:35:03.979Z"
   },
   {
    "duration": 213,
    "start_time": "2024-05-27T23:35:23.207Z"
   },
   {
    "duration": 368,
    "start_time": "2024-05-27T23:35:27.170Z"
   },
   {
    "duration": 547,
    "start_time": "2024-05-27T23:35:32.309Z"
   },
   {
    "duration": 732,
    "start_time": "2024-05-27T23:35:39.365Z"
   },
   {
    "duration": 897,
    "start_time": "2024-05-27T23:35:44.045Z"
   },
   {
    "duration": 938,
    "start_time": "2024-05-27T23:35:48.420Z"
   },
   {
    "duration": 849,
    "start_time": "2024-05-27T23:35:54.198Z"
   },
   {
    "duration": 804,
    "start_time": "2024-05-27T23:35:58.415Z"
   },
   {
    "duration": 725,
    "start_time": "2024-05-27T23:36:02.257Z"
   },
   {
    "duration": 691,
    "start_time": "2024-05-27T23:36:07.970Z"
   },
   {
    "duration": 727,
    "start_time": "2024-05-27T23:36:17.399Z"
   },
   {
    "duration": 697,
    "start_time": "2024-05-27T23:36:24.154Z"
   },
   {
    "duration": 704,
    "start_time": "2024-05-27T23:36:28.767Z"
   },
   {
    "duration": 836,
    "start_time": "2024-05-27T23:36:32.139Z"
   },
   {
    "duration": 760,
    "start_time": "2024-05-27T23:36:54.325Z"
   },
   {
    "duration": 245,
    "start_time": "2024-05-27T23:37:09.777Z"
   },
   {
    "duration": 231,
    "start_time": "2024-05-27T23:37:13.927Z"
   },
   {
    "duration": 694,
    "start_time": "2024-05-27T23:37:17.590Z"
   },
   {
    "duration": 719,
    "start_time": "2024-05-27T23:37:21.578Z"
   },
   {
    "duration": 716,
    "start_time": "2024-05-27T23:37:26.449Z"
   },
   {
    "duration": 707,
    "start_time": "2024-05-27T23:37:30.056Z"
   },
   {
    "duration": 704,
    "start_time": "2024-05-27T23:37:33.158Z"
   },
   {
    "duration": 693,
    "start_time": "2024-05-27T23:37:38.166Z"
   },
   {
    "duration": 698,
    "start_time": "2024-05-27T23:37:45.203Z"
   },
   {
    "duration": 719,
    "start_time": "2024-05-27T23:37:51.152Z"
   },
   {
    "duration": 706,
    "start_time": "2024-05-27T23:37:56.652Z"
   },
   {
    "duration": 242,
    "start_time": "2024-05-27T23:38:01.661Z"
   },
   {
    "duration": 707,
    "start_time": "2024-05-27T23:38:08.095Z"
   },
   {
    "duration": 768,
    "start_time": "2024-05-27T23:38:12.076Z"
   },
   {
    "duration": 700,
    "start_time": "2024-05-27T23:38:15.985Z"
   },
   {
    "duration": 706,
    "start_time": "2024-05-27T23:38:25.451Z"
   },
   {
    "duration": 693,
    "start_time": "2024-05-27T23:38:29.672Z"
   },
   {
    "duration": 703,
    "start_time": "2024-05-27T23:38:40.532Z"
   },
   {
    "duration": 709,
    "start_time": "2024-05-27T23:38:45.688Z"
   },
   {
    "duration": 752,
    "start_time": "2024-05-27T23:38:52.833Z"
   },
   {
    "duration": 735,
    "start_time": "2024-05-27T23:38:57.556Z"
   },
   {
    "duration": 706,
    "start_time": "2024-05-27T23:39:03.296Z"
   },
   {
    "duration": 702,
    "start_time": "2024-05-27T23:39:13.120Z"
   },
   {
    "duration": 76,
    "start_time": "2024-05-27T23:39:37.810Z"
   },
   {
    "duration": 1285,
    "start_time": "2024-05-27T23:39:39.685Z"
   },
   {
    "duration": 49,
    "start_time": "2024-05-27T23:39:53.573Z"
   },
   {
    "duration": 2226,
    "start_time": "2024-05-27T23:39:55.330Z"
   },
   {
    "duration": 26,
    "start_time": "2024-05-27T23:40:16.020Z"
   },
   {
    "duration": 2165,
    "start_time": "2024-05-27T23:40:16.768Z"
   },
   {
    "duration": 19,
    "start_time": "2024-05-27T23:40:25.410Z"
   },
   {
    "duration": 2154,
    "start_time": "2024-05-27T23:40:27.968Z"
   },
   {
    "duration": 2627,
    "start_time": "2024-05-27T23:40:44.593Z"
   },
   {
    "duration": 4866,
    "start_time": "2024-05-27T23:40:52.054Z"
   },
   {
    "duration": 1174,
    "start_time": "2024-05-27T23:41:02.132Z"
   },
   {
    "duration": 1814,
    "start_time": "2024-05-27T23:41:08.719Z"
   },
   {
    "duration": 1091,
    "start_time": "2024-05-27T23:41:14.150Z"
   },
   {
    "duration": 758,
    "start_time": "2024-05-27T23:41:17.825Z"
   },
   {
    "duration": 3520,
    "start_time": "2024-05-27T23:41:21.132Z"
   },
   {
    "duration": 6383,
    "start_time": "2024-05-27T23:41:28.997Z"
   },
   {
    "duration": 18161,
    "start_time": "2024-05-27T23:41:39.384Z"
   },
   {
    "duration": 24136,
    "start_time": "2024-05-27T23:42:01.889Z"
   },
   {
    "duration": 24890,
    "start_time": "2024-05-27T23:43:21.831Z"
   },
   {
    "duration": 11,
    "start_time": "2024-05-27T23:47:10.400Z"
   },
   {
    "duration": 0,
    "start_time": "2024-05-27T23:48:29.986Z"
   },
   {
    "duration": 168,
    "start_time": "2024-05-27T23:59:03.962Z"
   },
   {
    "duration": 159,
    "start_time": "2024-05-28T00:00:26.626Z"
   },
   {
    "duration": 31,
    "start_time": "2024-05-28T00:00:31.564Z"
   },
   {
    "duration": 21,
    "start_time": "2024-05-28T00:00:33.178Z"
   },
   {
    "duration": 3830,
    "start_time": "2024-05-28T00:00:35.104Z"
   },
   {
    "duration": 3717,
    "start_time": "2024-05-28T00:00:58.972Z"
   },
   {
    "duration": 3293,
    "start_time": "2024-05-28T00:01:35.831Z"
   },
   {
    "duration": 1469,
    "start_time": "2024-05-28T00:06:19.424Z"
   },
   {
    "duration": 26,
    "start_time": "2024-05-28T00:06:20.896Z"
   },
   {
    "duration": 9,
    "start_time": "2024-05-28T00:06:20.924Z"
   },
   {
    "duration": 6,
    "start_time": "2024-05-28T00:06:20.938Z"
   },
   {
    "duration": 17,
    "start_time": "2024-05-28T00:06:20.947Z"
   },
   {
    "duration": 19,
    "start_time": "2024-05-28T00:06:20.968Z"
   },
   {
    "duration": 78,
    "start_time": "2024-05-28T00:06:21.032Z"
   },
   {
    "duration": 62,
    "start_time": "2024-05-28T00:06:21.113Z"
   },
   {
    "duration": 1347,
    "start_time": "2024-05-28T00:06:48.390Z"
   },
   {
    "duration": 23,
    "start_time": "2024-05-28T00:06:49.741Z"
   },
   {
    "duration": 5,
    "start_time": "2024-05-28T00:06:49.767Z"
   },
   {
    "duration": 6,
    "start_time": "2024-05-28T00:06:49.776Z"
   },
   {
    "duration": 47,
    "start_time": "2024-05-28T00:06:49.787Z"
   },
   {
    "duration": 18,
    "start_time": "2024-05-28T00:06:49.837Z"
   },
   {
    "duration": 103,
    "start_time": "2024-05-28T00:06:49.858Z"
   },
   {
    "duration": 47,
    "start_time": "2024-05-28T00:06:49.964Z"
   },
   {
    "duration": 28572,
    "start_time": "2024-05-28T00:06:50.014Z"
   },
   {
    "duration": 0,
    "start_time": "2024-05-28T00:07:18.589Z"
   },
   {
    "duration": 7593,
    "start_time": "2024-05-28T00:07:26.347Z"
   },
   {
    "duration": 5449,
    "start_time": "2024-05-28T00:07:40.438Z"
   },
   {
    "duration": 4394,
    "start_time": "2024-05-28T00:07:50.554Z"
   },
   {
    "duration": 1418,
    "start_time": "2024-05-28T00:09:40.656Z"
   },
   {
    "duration": 24,
    "start_time": "2024-05-28T00:09:42.078Z"
   },
   {
    "duration": 5,
    "start_time": "2024-05-28T00:09:42.105Z"
   },
   {
    "duration": 23,
    "start_time": "2024-05-28T00:09:42.114Z"
   },
   {
    "duration": 19,
    "start_time": "2024-05-28T00:09:42.142Z"
   },
   {
    "duration": 21,
    "start_time": "2024-05-28T00:09:42.165Z"
   },
   {
    "duration": 111,
    "start_time": "2024-05-28T00:09:42.189Z"
   },
   {
    "duration": 65,
    "start_time": "2024-05-28T00:09:42.303Z"
   },
   {
    "duration": 17239,
    "start_time": "2024-05-28T00:09:42.371Z"
   },
   {
    "duration": 4,
    "start_time": "2024-05-28T00:09:59.615Z"
   },
   {
    "duration": 17224,
    "start_time": "2024-05-28T00:17:19.592Z"
   },
   {
    "duration": 160,
    "start_time": "2024-05-28T00:18:30.591Z"
   },
   {
    "duration": 13,
    "start_time": "2024-05-28T00:18:34.575Z"
   },
   {
    "duration": 36,
    "start_time": "2024-05-28T00:18:37.069Z"
   },
   {
    "duration": 658,
    "start_time": "2024-05-28T00:19:23.076Z"
   },
   {
    "duration": 343,
    "start_time": "2024-05-28T00:19:31.196Z"
   },
   {
    "duration": 219,
    "start_time": "2024-05-28T00:19:45.211Z"
   },
   {
    "duration": 215,
    "start_time": "2024-05-28T00:19:50.395Z"
   },
   {
    "duration": 214,
    "start_time": "2024-05-28T00:19:55.742Z"
   },
   {
    "duration": 219,
    "start_time": "2024-05-28T00:19:59.407Z"
   },
   {
    "duration": 226,
    "start_time": "2024-05-28T00:20:07.047Z"
   },
   {
    "duration": 348,
    "start_time": "2024-05-28T00:20:40.981Z"
   },
   {
    "duration": 344,
    "start_time": "2024-05-28T00:20:45.502Z"
   },
   {
    "duration": 377,
    "start_time": "2024-05-28T00:20:49.149Z"
   },
   {
    "duration": 383,
    "start_time": "2024-05-28T00:20:52.002Z"
   },
   {
    "duration": 338,
    "start_time": "2024-05-28T00:20:55.425Z"
   },
   {
    "duration": 343,
    "start_time": "2024-05-28T00:20:59.810Z"
   },
   {
    "duration": 346,
    "start_time": "2024-05-28T00:21:02.886Z"
   },
   {
    "duration": 352,
    "start_time": "2024-05-28T00:21:06.893Z"
   },
   {
    "duration": 348,
    "start_time": "2024-05-28T00:21:12.528Z"
   },
   {
    "duration": 350,
    "start_time": "2024-05-28T00:21:15.630Z"
   },
   {
    "duration": 351,
    "start_time": "2024-05-28T00:21:21.154Z"
   },
   {
    "duration": 338,
    "start_time": "2024-05-28T00:21:23.802Z"
   },
   {
    "duration": 382,
    "start_time": "2024-05-28T00:21:26.258Z"
   },
   {
    "duration": 363,
    "start_time": "2024-05-28T00:21:28.389Z"
   },
   {
    "duration": 466,
    "start_time": "2024-05-28T00:21:31.128Z"
   },
   {
    "duration": 347,
    "start_time": "2024-05-28T00:21:35.599Z"
   },
   {
    "duration": 338,
    "start_time": "2024-05-28T00:21:39.249Z"
   },
   {
    "duration": 344,
    "start_time": "2024-05-28T00:21:42.563Z"
   },
   {
    "duration": 344,
    "start_time": "2024-05-28T00:21:47.926Z"
   },
   {
    "duration": 341,
    "start_time": "2024-05-28T00:21:52.496Z"
   },
   {
    "duration": 337,
    "start_time": "2024-05-28T00:22:27.977Z"
   },
   {
    "duration": 27,
    "start_time": "2024-05-28T00:23:38.975Z"
   },
   {
    "duration": 380,
    "start_time": "2024-05-28T00:23:48.789Z"
   },
   {
    "duration": 348,
    "start_time": "2024-05-28T00:23:55.192Z"
   },
   {
    "duration": 342,
    "start_time": "2024-05-28T00:23:59.967Z"
   },
   {
    "duration": 337,
    "start_time": "2024-05-28T00:24:09.139Z"
   },
   {
    "duration": 384,
    "start_time": "2024-05-28T00:24:14.735Z"
   },
   {
    "duration": 344,
    "start_time": "2024-05-28T00:24:26.660Z"
   },
   {
    "duration": 334,
    "start_time": "2024-05-28T00:24:34.593Z"
   },
   {
    "duration": 355,
    "start_time": "2024-05-28T00:24:50.950Z"
   },
   {
    "duration": 342,
    "start_time": "2024-05-28T00:24:54.640Z"
   },
   {
    "duration": 355,
    "start_time": "2024-05-28T00:25:03.692Z"
   },
   {
    "duration": 338,
    "start_time": "2024-05-28T00:25:10.152Z"
   },
   {
    "duration": 339,
    "start_time": "2024-05-28T00:25:23.653Z"
   },
   {
    "duration": 371,
    "start_time": "2024-05-28T00:25:31.228Z"
   },
   {
    "duration": 7,
    "start_time": "2024-05-28T00:25:41.724Z"
   },
   {
    "duration": 350,
    "start_time": "2024-05-28T00:25:46.743Z"
   },
   {
    "duration": 350,
    "start_time": "2024-05-28T00:25:51.698Z"
   },
   {
    "duration": 345,
    "start_time": "2024-05-28T00:26:00.209Z"
   },
   {
    "duration": 307,
    "start_time": "2024-05-28T00:26:13.552Z"
   },
   {
    "duration": 298,
    "start_time": "2024-05-28T00:26:18.306Z"
   },
   {
    "duration": 295,
    "start_time": "2024-05-28T00:26:35.705Z"
   },
   {
    "duration": 23,
    "start_time": "2024-05-28T00:27:30.498Z"
   },
   {
    "duration": 10,
    "start_time": "2024-05-28T00:27:49.547Z"
   },
   {
    "duration": 410,
    "start_time": "2024-05-28T00:27:51.970Z"
   },
   {
    "duration": 400,
    "start_time": "2024-05-28T00:28:26.464Z"
   },
   {
    "duration": 414,
    "start_time": "2024-05-28T00:28:31.611Z"
   },
   {
    "duration": 542,
    "start_time": "2024-05-28T00:28:39.373Z"
   },
   {
    "duration": 320,
    "start_time": "2024-05-28T00:28:44.112Z"
   },
   {
    "duration": 427,
    "start_time": "2024-05-28T00:28:47.665Z"
   },
   {
    "duration": 543,
    "start_time": "2024-05-28T00:28:51.018Z"
   },
   {
    "duration": 468,
    "start_time": "2024-05-28T00:28:53.814Z"
   },
   {
    "duration": 448,
    "start_time": "2024-05-28T00:28:57.088Z"
   },
   {
    "duration": 7,
    "start_time": "2024-05-28T00:29:09.510Z"
   },
   {
    "duration": 429,
    "start_time": "2024-05-28T00:29:18.393Z"
   },
   {
    "duration": 440,
    "start_time": "2024-05-28T00:29:28.374Z"
   },
   {
    "duration": 454,
    "start_time": "2024-05-28T00:29:34.803Z"
   },
   {
    "duration": 453,
    "start_time": "2024-05-28T00:30:09.053Z"
   },
   {
    "duration": 451,
    "start_time": "2024-05-28T00:30:14.276Z"
   },
   {
    "duration": 172,
    "start_time": "2024-05-28T00:30:29.781Z"
   },
   {
    "duration": 427,
    "start_time": "2024-05-28T00:30:38.227Z"
   },
   {
    "duration": 130,
    "start_time": "2024-05-28T00:30:49.096Z"
   },
   {
    "duration": 40,
    "start_time": "2024-05-28T00:30:59.346Z"
   },
   {
    "duration": 471,
    "start_time": "2024-05-28T00:31:59.157Z"
   },
   {
    "duration": 444,
    "start_time": "2024-05-28T00:32:02.709Z"
   },
   {
    "duration": 458,
    "start_time": "2024-05-28T00:32:06.966Z"
   },
   {
    "duration": 415,
    "start_time": "2024-05-28T00:32:10.060Z"
   },
   {
    "duration": 438,
    "start_time": "2024-05-28T00:32:13.638Z"
   },
   {
    "duration": 424,
    "start_time": "2024-05-28T00:32:18.815Z"
   },
   {
    "duration": 434,
    "start_time": "2024-05-28T00:32:23.825Z"
   },
   {
    "duration": 430,
    "start_time": "2024-05-28T00:32:27.307Z"
   },
   {
    "duration": 425,
    "start_time": "2024-05-28T00:32:30.142Z"
   },
   {
    "duration": 442,
    "start_time": "2024-05-28T00:32:32.723Z"
   },
   {
    "duration": 438,
    "start_time": "2024-05-28T00:32:35.715Z"
   },
   {
    "duration": 452,
    "start_time": "2024-05-28T00:32:38.336Z"
   },
   {
    "duration": 449,
    "start_time": "2024-05-28T00:32:41.072Z"
   },
   {
    "duration": 483,
    "start_time": "2024-05-28T00:32:45.019Z"
   },
   {
    "duration": 443,
    "start_time": "2024-05-28T00:32:47.949Z"
   },
   {
    "duration": 426,
    "start_time": "2024-05-28T00:32:50.347Z"
   },
   {
    "duration": 445,
    "start_time": "2024-05-28T00:32:57.159Z"
   },
   {
    "duration": 439,
    "start_time": "2024-05-28T00:33:24.467Z"
   },
   {
    "duration": 470,
    "start_time": "2024-05-28T00:33:28.980Z"
   },
   {
    "duration": 472,
    "start_time": "2024-05-28T00:33:34.807Z"
   },
   {
    "duration": 444,
    "start_time": "2024-05-28T00:33:37.966Z"
   },
   {
    "duration": 493,
    "start_time": "2024-05-28T00:33:41.225Z"
   },
   {
    "duration": 479,
    "start_time": "2024-05-28T00:33:44.803Z"
   },
   {
    "duration": 432,
    "start_time": "2024-05-28T00:33:47.464Z"
   },
   {
    "duration": 439,
    "start_time": "2024-05-28T00:33:51.805Z"
   },
   {
    "duration": 459,
    "start_time": "2024-05-28T00:33:57.014Z"
   },
   {
    "duration": 418,
    "start_time": "2024-05-28T01:16:36.241Z"
   },
   {
    "duration": 215,
    "start_time": "2024-05-28T01:17:05.234Z"
   },
   {
    "duration": 218,
    "start_time": "2024-05-28T01:17:14.182Z"
   },
   {
    "duration": 33,
    "start_time": "2024-05-28T01:17:17.342Z"
   },
   {
    "duration": 33,
    "start_time": "2024-05-28T01:17:24.253Z"
   },
   {
    "duration": 182,
    "start_time": "2024-05-28T01:18:21.576Z"
   },
   {
    "duration": 15,
    "start_time": "2024-05-28T01:18:48.130Z"
   },
   {
    "duration": 3,
    "start_time": "2024-05-28T01:19:12.086Z"
   },
   {
    "duration": 3,
    "start_time": "2024-05-28T01:19:17.697Z"
   },
   {
    "duration": 1314,
    "start_time": "2024-05-28T01:19:26.182Z"
   },
   {
    "duration": 216,
    "start_time": "2024-05-28T01:19:47.275Z"
   },
   {
    "duration": 35,
    "start_time": "2024-05-28T01:20:09.955Z"
   },
   {
    "duration": 1177,
    "start_time": "2024-05-28T01:20:12.141Z"
   },
   {
    "duration": 15,
    "start_time": "2024-05-28T01:20:19.440Z"
   },
   {
    "duration": 1196,
    "start_time": "2024-05-28T01:20:21.603Z"
   },
   {
    "duration": 10853,
    "start_time": "2024-05-28T01:20:34.758Z"
   },
   {
    "duration": 11012,
    "start_time": "2024-05-28T01:21:48.346Z"
   },
   {
    "duration": 7520,
    "start_time": "2024-05-28T01:22:00.415Z"
   },
   {
    "duration": 7718,
    "start_time": "2024-05-28T01:22:26.141Z"
   },
   {
    "duration": 7739,
    "start_time": "2024-05-28T01:22:51.647Z"
   },
   {
    "duration": 18,
    "start_time": "2024-05-28T01:27:28.271Z"
   },
   {
    "duration": 8009,
    "start_time": "2024-05-28T01:27:30.660Z"
   },
   {
    "duration": 17,
    "start_time": "2024-05-28T01:27:43.613Z"
   },
   {
    "duration": 7698,
    "start_time": "2024-05-28T01:27:45.456Z"
   },
   {
    "duration": 162,
    "start_time": "2024-05-28T01:28:02.006Z"
   },
   {
    "duration": 6,
    "start_time": "2024-05-28T01:28:07.788Z"
   },
   {
    "duration": 6,
    "start_time": "2024-05-28T01:28:20.038Z"
   },
   {
    "duration": 1355,
    "start_time": "2024-05-28T01:28:34.384Z"
   },
   {
    "duration": 25,
    "start_time": "2024-05-28T01:28:35.743Z"
   },
   {
    "duration": 5,
    "start_time": "2024-05-28T01:28:35.771Z"
   },
   {
    "duration": 7,
    "start_time": "2024-05-28T01:28:35.779Z"
   },
   {
    "duration": 50,
    "start_time": "2024-05-28T01:28:35.790Z"
   },
   {
    "duration": 7,
    "start_time": "2024-05-28T01:28:35.843Z"
   },
   {
    "duration": 9,
    "start_time": "2024-05-28T01:28:35.853Z"
   },
   {
    "duration": 7,
    "start_time": "2024-05-28T01:28:35.865Z"
   },
   {
    "duration": 7,
    "start_time": "2024-05-28T01:28:35.876Z"
   },
   {
    "duration": 301,
    "start_time": "2024-05-28T01:28:35.886Z"
   },
   {
    "duration": 6,
    "start_time": "2024-05-28T01:28:41.819Z"
   },
   {
    "duration": 6,
    "start_time": "2024-05-28T01:28:57.674Z"
   },
   {
    "duration": 6,
    "start_time": "2024-05-28T01:29:52.230Z"
   },
   {
    "duration": 5,
    "start_time": "2024-05-28T01:30:09.401Z"
   },
   {
    "duration": 3,
    "start_time": "2024-05-28T01:30:19.402Z"
   },
   {
    "duration": 4,
    "start_time": "2024-05-28T01:31:14.812Z"
   },
   {
    "duration": 50,
    "start_time": "2024-05-28T01:31:29.837Z"
   },
   {
    "duration": 3,
    "start_time": "2024-05-28T01:32:01.960Z"
   },
   {
    "duration": 234,
    "start_time": "2024-05-28T01:32:14.974Z"
   },
   {
    "duration": 51,
    "start_time": "2024-05-28T01:32:22.812Z"
   },
   {
    "duration": 5,
    "start_time": "2024-05-28T01:33:06.983Z"
   },
   {
    "duration": 7,
    "start_time": "2024-05-28T01:33:07.449Z"
   },
   {
    "duration": 121,
    "start_time": "2024-05-28T01:33:09.302Z"
   },
   {
    "duration": 8,
    "start_time": "2024-05-28T01:33:13.448Z"
   },
   {
    "duration": 133,
    "start_time": "2024-05-28T01:33:14.093Z"
   },
   {
    "duration": 118,
    "start_time": "2024-05-28T01:33:48.760Z"
   },
   {
    "duration": 126,
    "start_time": "2024-05-28T01:34:02.460Z"
   },
   {
    "duration": 113,
    "start_time": "2024-05-28T01:34:17.371Z"
   },
   {
    "duration": 125,
    "start_time": "2024-05-28T01:34:29.073Z"
   },
   {
    "duration": 182,
    "start_time": "2024-05-28T01:34:48.700Z"
   },
   {
    "duration": 178,
    "start_time": "2024-05-28T01:35:05.516Z"
   },
   {
    "duration": 6,
    "start_time": "2024-05-28T01:35:16.776Z"
   },
   {
    "duration": 7,
    "start_time": "2024-05-28T01:35:20.640Z"
   },
   {
    "duration": 197,
    "start_time": "2024-05-28T01:35:23.427Z"
   },
   {
    "duration": 180,
    "start_time": "2024-05-28T01:35:32.889Z"
   },
   {
    "duration": 181,
    "start_time": "2024-05-28T01:35:51.903Z"
   },
   {
    "duration": 188,
    "start_time": "2024-05-28T01:35:57.928Z"
   },
   {
    "duration": 182,
    "start_time": "2024-05-28T01:36:15.847Z"
   },
   {
    "duration": 183,
    "start_time": "2024-05-28T01:36:22.976Z"
   },
   {
    "duration": 185,
    "start_time": "2024-05-28T01:36:43.684Z"
   },
   {
    "duration": 181,
    "start_time": "2024-05-28T01:36:48.456Z"
   },
   {
    "duration": 5124,
    "start_time": "2024-05-28T06:30:18.450Z"
   },
   {
    "duration": 40,
    "start_time": "2024-05-28T06:30:23.577Z"
   },
   {
    "duration": 5,
    "start_time": "2024-05-28T06:30:23.620Z"
   },
   {
    "duration": 6,
    "start_time": "2024-05-28T06:30:23.629Z"
   },
   {
    "duration": 17,
    "start_time": "2024-05-28T06:30:23.640Z"
   },
   {
    "duration": 7,
    "start_time": "2024-05-28T06:30:23.660Z"
   },
   {
    "duration": 8,
    "start_time": "2024-05-28T06:30:23.709Z"
   },
   {
    "duration": 6,
    "start_time": "2024-05-28T06:30:23.720Z"
   },
   {
    "duration": 9,
    "start_time": "2024-05-28T06:30:23.729Z"
   },
   {
    "duration": 229,
    "start_time": "2024-05-28T06:30:23.741Z"
   },
   {
    "duration": 4,
    "start_time": "2024-05-28T06:30:37.376Z"
   },
   {
    "duration": 424,
    "start_time": "2024-05-28T06:30:54.335Z"
   },
   {
    "duration": 175,
    "start_time": "2024-05-28T06:31:01.565Z"
   },
   {
    "duration": 190,
    "start_time": "2024-05-28T06:31:17.330Z"
   },
   {
    "duration": 205,
    "start_time": "2024-05-28T06:31:55.749Z"
   },
   {
    "duration": 181,
    "start_time": "2024-05-28T06:32:05.772Z"
   },
   {
    "duration": 183,
    "start_time": "2024-05-28T06:33:22.168Z"
   },
   {
    "duration": 5105,
    "start_time": "2024-05-28T21:43:18.666Z"
   },
   {
    "duration": 38,
    "start_time": "2024-05-28T21:43:23.776Z"
   },
   {
    "duration": 10,
    "start_time": "2024-05-28T21:43:23.816Z"
   },
   {
    "duration": 6,
    "start_time": "2024-05-28T21:43:25.002Z"
   },
   {
    "duration": 20,
    "start_time": "2024-05-28T21:43:28.511Z"
   },
   {
    "duration": 36,
    "start_time": "2024-05-28T21:43:54.174Z"
   },
   {
    "duration": 1808,
    "start_time": "2024-05-28T21:44:46.894Z"
   },
   {
    "duration": 74,
    "start_time": "2024-05-28T21:45:14.415Z"
   },
   {
    "duration": 5,
    "start_time": "2024-05-28T21:45:26.892Z"
   },
   {
    "duration": 26,
    "start_time": "2024-05-28T21:45:29.091Z"
   },
   {
    "duration": 15,
    "start_time": "2024-05-28T21:48:31.010Z"
   },
   {
    "duration": 25,
    "start_time": "2024-05-28T21:50:12.793Z"
   },
   {
    "duration": 134,
    "start_time": "2024-05-28T21:50:19.845Z"
   },
   {
    "duration": 10,
    "start_time": "2024-05-28T21:50:28.970Z"
   },
   {
    "duration": 17,
    "start_time": "2024-05-28T21:50:33.188Z"
   },
   {
    "duration": 432,
    "start_time": "2024-05-28T21:50:45.054Z"
   },
   {
    "duration": 84,
    "start_time": "2024-05-28T21:50:57.290Z"
   },
   {
    "duration": 80,
    "start_time": "2024-05-28T21:51:01.029Z"
   },
   {
    "duration": 17,
    "start_time": "2024-05-28T21:51:08.684Z"
   },
   {
    "duration": 1409,
    "start_time": "2024-05-28T21:51:16.472Z"
   },
   {
    "duration": 25,
    "start_time": "2024-05-28T21:51:17.885Z"
   },
   {
    "duration": 11,
    "start_time": "2024-05-28T21:51:17.913Z"
   },
   {
    "duration": 6,
    "start_time": "2024-05-28T21:51:17.927Z"
   },
   {
    "duration": 20,
    "start_time": "2024-05-28T21:51:17.939Z"
   },
   {
    "duration": 7,
    "start_time": "2024-05-28T21:51:17.962Z"
   },
   {
    "duration": 70,
    "start_time": "2024-05-28T21:51:17.972Z"
   },
   {
    "duration": 16,
    "start_time": "2024-05-28T21:51:18.045Z"
   },
   {
    "duration": 10,
    "start_time": "2024-05-28T21:51:18.064Z"
   },
   {
    "duration": 54,
    "start_time": "2024-05-28T21:51:18.078Z"
   },
   {
    "duration": 1270,
    "start_time": "2024-05-28T21:51:28.212Z"
   },
   {
    "duration": 16,
    "start_time": "2024-05-28T21:51:42.641Z"
   },
   {
    "duration": 1408,
    "start_time": "2024-05-28T21:52:19.284Z"
   },
   {
    "duration": 33,
    "start_time": "2024-05-28T21:52:20.695Z"
   },
   {
    "duration": 4,
    "start_time": "2024-05-28T21:52:20.735Z"
   },
   {
    "duration": 7,
    "start_time": "2024-05-28T21:52:20.744Z"
   },
   {
    "duration": 22,
    "start_time": "2024-05-28T21:52:20.756Z"
   },
   {
    "duration": 7,
    "start_time": "2024-05-28T21:52:20.781Z"
   },
   {
    "duration": 29,
    "start_time": "2024-05-28T21:52:20.825Z"
   },
   {
    "duration": 16,
    "start_time": "2024-05-28T21:52:20.856Z"
   },
   {
    "duration": 52,
    "start_time": "2024-05-28T21:52:20.875Z"
   },
   {
    "duration": 12,
    "start_time": "2024-05-28T21:53:04.472Z"
   },
   {
    "duration": 15,
    "start_time": "2024-05-28T21:53:06.731Z"
   },
   {
    "duration": 11,
    "start_time": "2024-05-28T21:53:15.687Z"
   },
   {
    "duration": 16,
    "start_time": "2024-05-28T21:53:17.294Z"
   },
   {
    "duration": 25,
    "start_time": "2024-05-28T21:53:26.327Z"
   },
   {
    "duration": 32,
    "start_time": "2024-05-28T21:53:35.027Z"
   },
   {
    "duration": 31,
    "start_time": "2024-05-28T21:54:48.599Z"
   },
   {
    "duration": 7,
    "start_time": "2024-05-28T21:55:01.602Z"
   },
   {
    "duration": 506,
    "start_time": "2024-05-28T21:55:27.811Z"
   },
   {
    "duration": 2142,
    "start_time": "2024-05-28T21:55:37.955Z"
   },
   {
    "duration": 149,
    "start_time": "2024-05-28T21:55:48.555Z"
   },
   {
    "duration": 554,
    "start_time": "2024-05-28T21:56:00.654Z"
   },
   {
    "duration": 205,
    "start_time": "2024-05-28T21:56:10.454Z"
   },
   {
    "duration": 117,
    "start_time": "2024-05-28T22:04:02.396Z"
   },
   {
    "duration": 130,
    "start_time": "2024-05-28T22:04:26.727Z"
   },
   {
    "duration": 157,
    "start_time": "2024-05-28T22:04:36.540Z"
   },
   {
    "duration": 156,
    "start_time": "2024-05-28T22:04:44.866Z"
   },
   {
    "duration": 78,
    "start_time": "2024-05-28T22:06:51.409Z"
   },
   {
    "duration": 1596,
    "start_time": "2024-05-28T22:09:12.331Z"
   },
   {
    "duration": 26,
    "start_time": "2024-05-28T22:09:13.931Z"
   },
   {
    "duration": 4,
    "start_time": "2024-05-28T22:09:13.960Z"
   },
   {
    "duration": 5,
    "start_time": "2024-05-28T22:09:13.968Z"
   },
   {
    "duration": 57,
    "start_time": "2024-05-28T22:09:13.979Z"
   },
   {
    "duration": 6,
    "start_time": "2024-05-28T22:09:14.040Z"
   },
   {
    "duration": 35,
    "start_time": "2024-05-28T22:09:14.050Z"
   },
   {
    "duration": 44,
    "start_time": "2024-05-28T22:09:14.089Z"
   },
   {
    "duration": 11,
    "start_time": "2024-05-28T22:09:14.136Z"
   },
   {
    "duration": 16,
    "start_time": "2024-05-28T22:09:14.150Z"
   },
   {
    "duration": 62,
    "start_time": "2024-05-28T22:09:14.169Z"
   },
   {
    "duration": 8,
    "start_time": "2024-05-28T22:09:14.234Z"
   },
   {
    "duration": 193,
    "start_time": "2024-05-28T22:09:14.245Z"
   },
   {
    "duration": 5,
    "start_time": "2024-05-28T22:09:14.443Z"
   },
   {
    "duration": 5,
    "start_time": "2024-05-28T22:09:26.159Z"
   },
   {
    "duration": 6,
    "start_time": "2024-05-28T22:09:38.397Z"
   },
   {
    "duration": 6,
    "start_time": "2024-05-28T22:13:58.542Z"
   },
   {
    "duration": 8,
    "start_time": "2024-05-28T22:14:12.345Z"
   },
   {
    "duration": 9,
    "start_time": "2024-05-28T22:14:35.093Z"
   },
   {
    "duration": 9,
    "start_time": "2024-05-28T22:14:42.733Z"
   },
   {
    "duration": 934,
    "start_time": "2024-05-28T22:14:53.567Z"
   },
   {
    "duration": 11,
    "start_time": "2024-05-28T22:15:47.330Z"
   },
   {
    "duration": 7,
    "start_time": "2024-05-28T22:16:18.339Z"
   },
   {
    "duration": 12,
    "start_time": "2024-05-28T22:16:22.369Z"
   },
   {
    "duration": 9,
    "start_time": "2024-05-28T22:17:34.206Z"
   },
   {
    "duration": 5,
    "start_time": "2024-05-28T22:17:41.217Z"
   },
   {
    "duration": 8,
    "start_time": "2024-05-28T22:17:45.780Z"
   },
   {
    "duration": 5,
    "start_time": "2024-05-28T22:18:05.334Z"
   },
   {
    "duration": 16,
    "start_time": "2024-05-28T22:18:10.470Z"
   },
   {
    "duration": 142,
    "start_time": "2024-05-28T22:18:21.176Z"
   },
   {
    "duration": 19,
    "start_time": "2024-05-28T22:18:33.212Z"
   },
   {
    "duration": 28,
    "start_time": "2024-05-28T22:18:34.058Z"
   },
   {
    "duration": 8,
    "start_time": "2024-05-28T22:18:40.601Z"
   },
   {
    "duration": 160,
    "start_time": "2024-05-28T22:18:42.757Z"
   },
   {
    "duration": 5,
    "start_time": "2024-05-28T22:18:45.667Z"
   },
   {
    "duration": 219,
    "start_time": "2024-05-28T22:18:46.628Z"
   },
   {
    "duration": 150,
    "start_time": "2024-05-28T22:18:48.936Z"
   },
   {
    "duration": 9,
    "start_time": "2024-05-28T22:19:08.774Z"
   },
   {
    "duration": 10,
    "start_time": "2024-05-28T22:19:38.315Z"
   },
   {
    "duration": 17,
    "start_time": "2024-05-28T22:19:39.187Z"
   },
   {
    "duration": 23,
    "start_time": "2024-05-28T22:19:41.711Z"
   },
   {
    "duration": 7,
    "start_time": "2024-05-28T22:19:43.947Z"
   },
   {
    "duration": 155,
    "start_time": "2024-05-28T22:19:44.689Z"
   },
   {
    "duration": 7,
    "start_time": "2024-05-28T22:19:47.534Z"
   },
   {
    "duration": 200,
    "start_time": "2024-05-28T22:19:49.428Z"
   },
   {
    "duration": 213,
    "start_time": "2024-05-28T22:20:28.513Z"
   },
   {
    "duration": 210,
    "start_time": "2024-05-28T22:20:32.118Z"
   },
   {
    "duration": 164,
    "start_time": "2024-05-28T22:20:53.067Z"
   },
   {
    "duration": 1597,
    "start_time": "2024-05-28T22:20:57.912Z"
   },
   {
    "duration": 26,
    "start_time": "2024-05-28T22:20:59.513Z"
   },
   {
    "duration": 4,
    "start_time": "2024-05-28T22:20:59.542Z"
   },
   {
    "duration": 7,
    "start_time": "2024-05-28T22:20:59.551Z"
   },
   {
    "duration": 19,
    "start_time": "2024-05-28T22:20:59.562Z"
   },
   {
    "duration": 42,
    "start_time": "2024-05-28T22:20:59.584Z"
   },
   {
    "duration": 32,
    "start_time": "2024-05-28T22:20:59.629Z"
   },
   {
    "duration": 11,
    "start_time": "2024-05-28T22:20:59.664Z"
   },
   {
    "duration": 15,
    "start_time": "2024-05-28T22:20:59.722Z"
   },
   {
    "duration": 11,
    "start_time": "2024-05-28T22:20:59.743Z"
   },
   {
    "duration": 6,
    "start_time": "2024-05-28T22:20:59.757Z"
   },
   {
    "duration": 17,
    "start_time": "2024-05-28T22:20:59.766Z"
   },
   {
    "duration": 13,
    "start_time": "2024-05-28T22:20:59.824Z"
   },
   {
    "duration": 17,
    "start_time": "2024-05-28T22:20:59.840Z"
   },
   {
    "duration": 63,
    "start_time": "2024-05-28T22:20:59.860Z"
   },
   {
    "duration": 9,
    "start_time": "2024-05-28T22:20:59.925Z"
   },
   {
    "duration": 201,
    "start_time": "2024-05-28T22:20:59.937Z"
   },
   {
    "duration": 6,
    "start_time": "2024-05-28T22:21:00.143Z"
   },
   {
    "duration": 274,
    "start_time": "2024-05-28T22:21:00.152Z"
   },
   {
    "duration": 181,
    "start_time": "2024-05-28T22:21:03.659Z"
   },
   {
    "duration": 8,
    "start_time": "2024-05-28T22:21:37.844Z"
   },
   {
    "duration": 149,
    "start_time": "2024-05-28T22:21:43.481Z"
   },
   {
    "duration": 218,
    "start_time": "2024-05-28T22:21:52.812Z"
   },
   {
    "duration": 134,
    "start_time": "2024-05-28T22:21:57.803Z"
   },
   {
    "duration": 183,
    "start_time": "2024-05-28T22:22:04.945Z"
   },
   {
    "duration": 421,
    "start_time": "2024-05-28T22:22:21.802Z"
   },
   {
    "duration": 212,
    "start_time": "2024-05-28T22:22:34.114Z"
   },
   {
    "duration": 200,
    "start_time": "2024-05-28T22:24:14.327Z"
   },
   {
    "duration": 66,
    "start_time": "2024-05-28T22:25:28.745Z"
   },
   {
    "duration": 56,
    "start_time": "2024-05-28T22:25:40.640Z"
   },
   {
    "duration": 209,
    "start_time": "2024-05-28T22:26:00.327Z"
   },
   {
    "duration": 179,
    "start_time": "2024-05-28T22:26:18.047Z"
   },
   {
    "duration": 1520,
    "start_time": "2024-05-28T22:31:18.280Z"
   },
   {
    "duration": 1717,
    "start_time": "2024-05-28T22:31:38.998Z"
   },
   {
    "duration": 33,
    "start_time": "2024-05-28T22:31:40.720Z"
   },
   {
    "duration": 6,
    "start_time": "2024-05-28T22:31:40.755Z"
   },
   {
    "duration": 7,
    "start_time": "2024-05-28T22:31:40.765Z"
   },
   {
    "duration": 53,
    "start_time": "2024-05-28T22:31:40.776Z"
   },
   {
    "duration": 7,
    "start_time": "2024-05-28T22:31:40.833Z"
   },
   {
    "duration": 27,
    "start_time": "2024-05-28T22:31:40.842Z"
   },
   {
    "duration": 9,
    "start_time": "2024-05-28T22:31:40.873Z"
   },
   {
    "duration": 48,
    "start_time": "2024-05-28T22:31:40.885Z"
   },
   {
    "duration": 12,
    "start_time": "2024-05-28T22:31:40.936Z"
   },
   {
    "duration": 10,
    "start_time": "2024-05-28T22:31:40.953Z"
   },
   {
    "duration": 16,
    "start_time": "2024-05-28T22:31:40.966Z"
   },
   {
    "duration": 1262,
    "start_time": "2024-05-28T22:31:40.986Z"
   },
   {
    "duration": 0,
    "start_time": "2024-05-28T22:31:42.252Z"
   },
   {
    "duration": 0,
    "start_time": "2024-05-28T22:31:42.254Z"
   },
   {
    "duration": 0,
    "start_time": "2024-05-28T22:31:42.257Z"
   },
   {
    "duration": 0,
    "start_time": "2024-05-28T22:31:42.259Z"
   },
   {
    "duration": 0,
    "start_time": "2024-05-28T22:31:42.261Z"
   },
   {
    "duration": 0,
    "start_time": "2024-05-28T22:31:42.265Z"
   },
   {
    "duration": 28,
    "start_time": "2024-05-28T22:32:04.702Z"
   },
   {
    "duration": 16,
    "start_time": "2024-05-28T22:32:11.769Z"
   },
   {
    "duration": 28,
    "start_time": "2024-05-28T22:32:15.585Z"
   },
   {
    "duration": 14,
    "start_time": "2024-05-28T22:32:19.328Z"
   },
   {
    "duration": 26,
    "start_time": "2024-05-28T22:32:23.195Z"
   },
   {
    "duration": 8,
    "start_time": "2024-05-28T22:32:26.120Z"
   },
   {
    "duration": 181,
    "start_time": "2024-05-28T22:32:29.911Z"
   },
   {
    "duration": 5,
    "start_time": "2024-05-28T22:32:38.548Z"
   },
   {
    "duration": 210,
    "start_time": "2024-05-28T22:32:43.333Z"
   },
   {
    "duration": 5,
    "start_time": "2024-05-28T22:32:52.576Z"
   },
   {
    "duration": 47,
    "start_time": "2024-05-28T22:33:08.715Z"
   },
   {
    "duration": 80,
    "start_time": "2024-05-28T22:33:18.417Z"
   },
   {
    "duration": 57,
    "start_time": "2024-05-28T22:33:23.731Z"
   },
   {
    "duration": 54,
    "start_time": "2024-05-28T22:33:33.501Z"
   },
   {
    "duration": 131,
    "start_time": "2024-05-28T22:33:51.715Z"
   },
   {
    "duration": 5,
    "start_time": "2024-05-28T22:34:08.473Z"
   },
   {
    "duration": 64,
    "start_time": "2024-05-28T22:34:13.320Z"
   },
   {
    "duration": 65,
    "start_time": "2024-05-28T22:34:18.113Z"
   },
   {
    "duration": 9,
    "start_time": "2024-05-28T22:34:41.422Z"
   },
   {
    "duration": 58,
    "start_time": "2024-05-28T22:34:49.131Z"
   },
   {
    "duration": 5,
    "start_time": "2024-05-28T22:58:23.878Z"
   },
   {
    "duration": 62,
    "start_time": "2024-05-28T22:58:24.473Z"
   },
   {
    "duration": 23,
    "start_time": "2024-05-28T23:00:11.557Z"
   },
   {
    "duration": 31,
    "start_time": "2024-05-28T23:00:25.411Z"
   },
   {
    "duration": 5,
    "start_time": "2024-05-28T23:00:44.827Z"
   },
   {
    "duration": 25,
    "start_time": "2024-05-28T23:01:12.424Z"
   },
   {
    "duration": 7,
    "start_time": "2024-05-28T23:01:25.417Z"
   },
   {
    "duration": 28,
    "start_time": "2024-05-28T23:01:30.419Z"
   },
   {
    "duration": 13,
    "start_time": "2024-05-28T23:01:44.939Z"
   },
   {
    "duration": 7,
    "start_time": "2024-05-28T23:02:21.701Z"
   },
   {
    "duration": 24,
    "start_time": "2024-05-28T23:02:28.519Z"
   },
   {
    "duration": 7,
    "start_time": "2024-05-28T23:02:40.882Z"
   },
   {
    "duration": 23,
    "start_time": "2024-05-28T23:02:47.006Z"
   },
   {
    "duration": 6,
    "start_time": "2024-05-28T23:04:53.409Z"
   },
   {
    "duration": 21,
    "start_time": "2024-05-28T23:04:58.975Z"
   },
   {
    "duration": 27,
    "start_time": "2024-05-28T23:05:50.130Z"
   },
   {
    "duration": 22,
    "start_time": "2024-05-28T23:06:53.384Z"
   },
   {
    "duration": 13,
    "start_time": "2024-05-28T23:07:00.752Z"
   },
   {
    "duration": 10,
    "start_time": "2024-05-28T23:07:05.242Z"
   },
   {
    "duration": 16,
    "start_time": "2024-05-28T23:08:04.516Z"
   },
   {
    "duration": 16,
    "start_time": "2024-05-28T23:08:41.807Z"
   },
   {
    "duration": 24,
    "start_time": "2024-05-28T23:08:47.311Z"
   },
   {
    "duration": 34,
    "start_time": "2024-05-28T23:08:55.846Z"
   },
   {
    "duration": 5,
    "start_time": "2024-05-28T23:09:42.861Z"
   },
   {
    "duration": 28,
    "start_time": "2024-05-28T23:10:04.382Z"
   },
   {
    "duration": 150,
    "start_time": "2024-05-28T23:10:26.340Z"
   },
   {
    "duration": 87,
    "start_time": "2024-05-28T23:10:34.546Z"
   },
   {
    "duration": 442,
    "start_time": "2024-05-28T23:10:46.736Z"
   },
   {
    "duration": 29,
    "start_time": "2024-05-28T23:11:04.407Z"
   },
   {
    "duration": 52,
    "start_time": "2024-05-28T23:11:14.188Z"
   },
   {
    "duration": 19,
    "start_time": "2024-05-28T23:11:20.764Z"
   },
   {
    "duration": 17,
    "start_time": "2024-05-28T23:12:22.868Z"
   },
   {
    "duration": 40,
    "start_time": "2024-05-28T23:12:27.588Z"
   },
   {
    "duration": 14,
    "start_time": "2024-05-28T23:12:37.956Z"
   },
   {
    "duration": 16,
    "start_time": "2024-05-28T23:12:41.528Z"
   },
   {
    "duration": 178,
    "start_time": "2024-05-28T23:16:35.644Z"
   },
   {
    "duration": 264,
    "start_time": "2024-05-28T23:17:52.011Z"
   },
   {
    "duration": 37,
    "start_time": "2024-05-28T23:18:04.255Z"
   },
   {
    "duration": 53,
    "start_time": "2024-05-28T23:18:49.257Z"
   },
   {
    "duration": 49,
    "start_time": "2024-05-28T23:19:09.181Z"
   },
   {
    "duration": 83,
    "start_time": "2024-05-28T23:19:23.641Z"
   },
   {
    "duration": 184,
    "start_time": "2024-05-28T23:19:37.858Z"
   },
   {
    "duration": 69,
    "start_time": "2024-05-28T23:19:52.710Z"
   },
   {
    "duration": 80,
    "start_time": "2024-05-28T23:22:38.661Z"
   },
   {
    "duration": 1293,
    "start_time": "2024-05-28T23:23:09.439Z"
   },
   {
    "duration": 37,
    "start_time": "2024-05-28T23:23:18.104Z"
   },
   {
    "duration": 39,
    "start_time": "2024-05-28T23:24:58.868Z"
   },
   {
    "duration": 30,
    "start_time": "2024-05-28T23:25:19.146Z"
   },
   {
    "duration": 31,
    "start_time": "2024-05-28T23:25:29.793Z"
   },
   {
    "duration": 32,
    "start_time": "2024-05-28T23:25:32.902Z"
   },
   {
    "duration": 43,
    "start_time": "2024-05-28T23:25:56.060Z"
   },
   {
    "duration": 17868,
    "start_time": "2024-05-28T23:27:05.256Z"
   },
   {
    "duration": 36,
    "start_time": "2024-05-28T23:27:23.128Z"
   },
   {
    "duration": 29,
    "start_time": "2024-05-28T23:27:36.872Z"
   },
   {
    "duration": 28,
    "start_time": "2024-05-28T23:27:45.268Z"
   },
   {
    "duration": 26,
    "start_time": "2024-05-28T23:27:56.815Z"
   },
   {
    "duration": 40,
    "start_time": "2024-05-28T23:28:01.483Z"
   },
   {
    "duration": 37,
    "start_time": "2024-05-28T23:28:04.857Z"
   },
   {
    "duration": 2685,
    "start_time": "2024-05-28T23:28:19.496Z"
   },
   {
    "duration": 1427,
    "start_time": "2024-05-28T23:28:22.188Z"
   },
   {
    "duration": 0,
    "start_time": "2024-05-28T23:28:23.626Z"
   },
   {
    "duration": 0,
    "start_time": "2024-05-28T23:28:23.627Z"
   },
   {
    "duration": 0,
    "start_time": "2024-05-28T23:28:23.632Z"
   },
   {
    "duration": 0,
    "start_time": "2024-05-28T23:28:23.634Z"
   },
   {
    "duration": 0,
    "start_time": "2024-05-28T23:28:23.637Z"
   },
   {
    "duration": 0,
    "start_time": "2024-05-28T23:28:23.640Z"
   },
   {
    "duration": 0,
    "start_time": "2024-05-28T23:28:23.642Z"
   },
   {
    "duration": 0,
    "start_time": "2024-05-28T23:28:23.645Z"
   },
   {
    "duration": 0,
    "start_time": "2024-05-28T23:28:23.648Z"
   },
   {
    "duration": 0,
    "start_time": "2024-05-28T23:28:23.650Z"
   },
   {
    "duration": 0,
    "start_time": "2024-05-28T23:28:23.651Z"
   },
   {
    "duration": 0,
    "start_time": "2024-05-28T23:28:23.653Z"
   },
   {
    "duration": 0,
    "start_time": "2024-05-28T23:28:23.655Z"
   },
   {
    "duration": 0,
    "start_time": "2024-05-28T23:28:23.657Z"
   },
   {
    "duration": 0,
    "start_time": "2024-05-28T23:28:23.661Z"
   },
   {
    "duration": 0,
    "start_time": "2024-05-28T23:28:23.665Z"
   },
   {
    "duration": 0,
    "start_time": "2024-05-28T23:28:23.667Z"
   },
   {
    "duration": 0,
    "start_time": "2024-05-28T23:28:23.669Z"
   },
   {
    "duration": 0,
    "start_time": "2024-05-28T23:28:23.725Z"
   },
   {
    "duration": 37,
    "start_time": "2024-05-28T23:28:41.760Z"
   },
   {
    "duration": 32,
    "start_time": "2024-05-28T23:28:46.768Z"
   },
   {
    "duration": 35,
    "start_time": "2024-05-28T23:28:51.130Z"
   },
   {
    "duration": 2653,
    "start_time": "2024-05-28T23:28:57.015Z"
   },
   {
    "duration": 1367,
    "start_time": "2024-05-28T23:28:59.676Z"
   },
   {
    "duration": 0,
    "start_time": "2024-05-28T23:29:01.048Z"
   },
   {
    "duration": 0,
    "start_time": "2024-05-28T23:29:01.049Z"
   },
   {
    "duration": 0,
    "start_time": "2024-05-28T23:29:01.051Z"
   },
   {
    "duration": 0,
    "start_time": "2024-05-28T23:29:01.053Z"
   },
   {
    "duration": 0,
    "start_time": "2024-05-28T23:29:01.055Z"
   },
   {
    "duration": 0,
    "start_time": "2024-05-28T23:29:01.057Z"
   },
   {
    "duration": 0,
    "start_time": "2024-05-28T23:29:01.061Z"
   },
   {
    "duration": 0,
    "start_time": "2024-05-28T23:29:01.063Z"
   },
   {
    "duration": 0,
    "start_time": "2024-05-28T23:29:01.066Z"
   },
   {
    "duration": 0,
    "start_time": "2024-05-28T23:29:01.068Z"
   },
   {
    "duration": 0,
    "start_time": "2024-05-28T23:29:01.070Z"
   },
   {
    "duration": 0,
    "start_time": "2024-05-28T23:29:01.072Z"
   },
   {
    "duration": 0,
    "start_time": "2024-05-28T23:29:01.074Z"
   },
   {
    "duration": 0,
    "start_time": "2024-05-28T23:29:01.076Z"
   },
   {
    "duration": 0,
    "start_time": "2024-05-28T23:29:01.078Z"
   },
   {
    "duration": 0,
    "start_time": "2024-05-28T23:29:01.080Z"
   },
   {
    "duration": 0,
    "start_time": "2024-05-28T23:29:01.081Z"
   },
   {
    "duration": 0,
    "start_time": "2024-05-28T23:29:01.084Z"
   },
   {
    "duration": 0,
    "start_time": "2024-05-28T23:29:01.123Z"
   },
   {
    "duration": 36,
    "start_time": "2024-05-28T23:29:04.104Z"
   },
   {
    "duration": 895,
    "start_time": "2024-05-28T23:29:15.939Z"
   },
   {
    "duration": 33,
    "start_time": "2024-05-28T23:29:17.728Z"
   },
   {
    "duration": 7,
    "start_time": "2024-05-28T23:29:18.526Z"
   },
   {
    "duration": 8,
    "start_time": "2024-05-28T23:29:18.913Z"
   },
   {
    "duration": 22,
    "start_time": "2024-05-28T23:29:19.301Z"
   },
   {
    "duration": 6,
    "start_time": "2024-05-28T23:29:20.598Z"
   },
   {
    "duration": 28,
    "start_time": "2024-05-28T23:29:20.954Z"
   },
   {
    "duration": 11,
    "start_time": "2024-05-28T23:29:22.042Z"
   },
   {
    "duration": 16,
    "start_time": "2024-05-28T23:29:23.006Z"
   },
   {
    "duration": 8,
    "start_time": "2024-05-28T23:29:24.026Z"
   },
   {
    "duration": 6,
    "start_time": "2024-05-28T23:29:24.872Z"
   },
   {
    "duration": 17,
    "start_time": "2024-05-28T23:29:25.729Z"
   },
   {
    "duration": 16,
    "start_time": "2024-05-28T23:29:26.278Z"
   },
   {
    "duration": 26,
    "start_time": "2024-05-28T23:29:26.859Z"
   },
   {
    "duration": 9,
    "start_time": "2024-05-28T23:29:27.833Z"
   },
   {
    "duration": 176,
    "start_time": "2024-05-28T23:29:28.367Z"
   },
   {
    "duration": 6,
    "start_time": "2024-05-28T23:29:30.187Z"
   },
   {
    "duration": 749,
    "start_time": "2024-05-28T23:29:31.315Z"
   },
   {
    "duration": 59,
    "start_time": "2024-05-28T23:29:47.986Z"
   },
   {
    "duration": 1092,
    "start_time": "2024-05-28T23:34:37.508Z"
   },
   {
    "duration": 1650,
    "start_time": "2024-05-28T23:34:52.460Z"
   },
   {
    "duration": 30,
    "start_time": "2024-05-28T23:34:54.122Z"
   },
   {
    "duration": 5,
    "start_time": "2024-05-28T23:34:54.485Z"
   },
   {
    "duration": 9,
    "start_time": "2024-05-28T23:34:54.876Z"
   },
   {
    "duration": 19,
    "start_time": "2024-05-28T23:34:55.212Z"
   },
   {
    "duration": 6,
    "start_time": "2024-05-28T23:35:00.411Z"
   },
   {
    "duration": 28,
    "start_time": "2024-05-28T23:35:02.620Z"
   },
   {
    "duration": 11,
    "start_time": "2024-05-28T23:35:08.080Z"
   },
   {
    "duration": 11,
    "start_time": "2024-05-28T23:35:11.873Z"
   },
   {
    "duration": 8,
    "start_time": "2024-05-28T23:35:15.977Z"
   },
   {
    "duration": 4,
    "start_time": "2024-05-28T23:35:19.973Z"
   },
   {
    "duration": 15,
    "start_time": "2024-05-28T23:35:26.495Z"
   },
   {
    "duration": 15,
    "start_time": "2024-05-28T23:36:15.200Z"
   },
   {
    "duration": 26,
    "start_time": "2024-05-28T23:36:19.969Z"
   },
   {
    "duration": 17,
    "start_time": "2024-05-28T23:36:35.867Z"
   },
   {
    "duration": 8,
    "start_time": "2024-05-28T23:36:47.805Z"
   },
   {
    "duration": 173,
    "start_time": "2024-05-28T23:36:52.049Z"
   },
   {
    "duration": 7,
    "start_time": "2024-05-28T23:37:02.929Z"
   },
   {
    "duration": 70,
    "start_time": "2024-05-28T23:37:11.776Z"
   },
   {
    "duration": 426,
    "start_time": "2024-05-28T23:37:24.753Z"
   },
   {
    "duration": 222,
    "start_time": "2024-05-28T23:37:33.711Z"
   },
   {
    "duration": 69,
    "start_time": "2024-05-28T23:37:45.959Z"
   },
   {
    "duration": 86,
    "start_time": "2024-05-28T23:37:54.557Z"
   },
   {
    "duration": 113,
    "start_time": "2024-05-28T23:38:14.586Z"
   },
   {
    "duration": 153,
    "start_time": "2024-05-28T23:38:32.453Z"
   },
   {
    "duration": 220,
    "start_time": "2024-05-28T23:39:39.403Z"
   },
   {
    "duration": 9,
    "start_time": "2024-05-28T23:39:45.078Z"
   },
   {
    "duration": 168,
    "start_time": "2024-05-28T23:39:48.575Z"
   },
   {
    "duration": 43,
    "start_time": "2024-05-28T23:39:55.087Z"
   },
   {
    "duration": 41,
    "start_time": "2024-05-28T23:39:59.616Z"
   },
   {
    "duration": 205,
    "start_time": "2024-05-28T23:40:27.753Z"
   },
   {
    "duration": 176,
    "start_time": "2024-05-28T23:40:32.349Z"
   },
   {
    "duration": 38,
    "start_time": "2024-05-28T23:40:45.625Z"
   },
   {
    "duration": 40,
    "start_time": "2024-05-28T23:40:50.163Z"
   },
   {
    "duration": 30,
    "start_time": "2024-05-28T23:41:23.008Z"
   },
   {
    "duration": 4,
    "start_time": "2024-05-28T23:44:47.966Z"
   },
   {
    "duration": 5,
    "start_time": "2024-05-28T23:47:09.188Z"
   },
   {
    "duration": 5,
    "start_time": "2024-05-28T23:47:28.408Z"
   },
   {
    "duration": 18,
    "start_time": "2024-05-28T23:48:03.598Z"
   },
   {
    "duration": 18,
    "start_time": "2024-05-28T23:48:07.585Z"
   },
   {
    "duration": 18,
    "start_time": "2024-05-28T23:48:47.876Z"
   },
   {
    "duration": 86,
    "start_time": "2024-05-28T23:49:44.840Z"
   },
   {
    "duration": 89,
    "start_time": "2024-05-28T23:50:21.809Z"
   },
   {
    "duration": 97,
    "start_time": "2024-05-28T23:50:26.860Z"
   },
   {
    "duration": 81,
    "start_time": "2024-05-28T23:50:42.044Z"
   },
   {
    "duration": 215,
    "start_time": "2024-05-28T23:50:53.150Z"
   },
   {
    "duration": 90,
    "start_time": "2024-05-28T23:50:57.734Z"
   },
   {
    "duration": 94,
    "start_time": "2024-05-28T23:51:03.563Z"
   },
   {
    "duration": 133,
    "start_time": "2024-05-28T23:51:06.934Z"
   },
   {
    "duration": 113,
    "start_time": "2024-05-28T23:51:09.358Z"
   },
   {
    "duration": 121,
    "start_time": "2024-05-28T23:51:11.570Z"
   },
   {
    "duration": 141,
    "start_time": "2024-05-28T23:51:13.989Z"
   },
   {
    "duration": 1158,
    "start_time": "2024-05-28T23:51:18.189Z"
   },
   {
    "duration": 384,
    "start_time": "2024-05-28T23:51:23.544Z"
   },
   {
    "duration": 211,
    "start_time": "2024-05-28T23:51:26.915Z"
   },
   {
    "duration": 94,
    "start_time": "2024-05-28T23:51:30.131Z"
   },
   {
    "duration": 1541,
    "start_time": "2024-05-28T23:52:06.002Z"
   },
   {
    "duration": 1624,
    "start_time": "2024-05-28T23:52:19.262Z"
   },
   {
    "duration": 35,
    "start_time": "2024-05-28T23:52:20.890Z"
   },
   {
    "duration": 4,
    "start_time": "2024-05-28T23:52:20.928Z"
   },
   {
    "duration": 5,
    "start_time": "2024-05-28T23:52:20.938Z"
   },
   {
    "duration": 19,
    "start_time": "2024-05-28T23:52:20.946Z"
   },
   {
    "duration": 6,
    "start_time": "2024-05-28T23:52:20.968Z"
   },
   {
    "duration": 69,
    "start_time": "2024-05-28T23:52:20.978Z"
   },
   {
    "duration": 13,
    "start_time": "2024-05-28T23:52:21.050Z"
   },
   {
    "duration": 4,
    "start_time": "2024-05-28T23:52:21.065Z"
   },
   {
    "duration": 3,
    "start_time": "2024-05-28T23:52:21.074Z"
   },
   {
    "duration": 43,
    "start_time": "2024-05-28T23:52:21.080Z"
   },
   {
    "duration": 19,
    "start_time": "2024-05-28T23:52:21.126Z"
   },
   {
    "duration": 18,
    "start_time": "2024-05-28T23:52:21.148Z"
   },
   {
    "duration": 55,
    "start_time": "2024-05-28T23:52:21.168Z"
   },
   {
    "duration": 8,
    "start_time": "2024-05-28T23:52:21.226Z"
   },
   {
    "duration": 189,
    "start_time": "2024-05-28T23:52:21.237Z"
   },
   {
    "duration": 7,
    "start_time": "2024-05-28T23:52:21.429Z"
   },
   {
    "duration": 89,
    "start_time": "2024-05-28T23:52:21.438Z"
   },
   {
    "duration": 195,
    "start_time": "2024-05-28T23:52:21.530Z"
   },
   {
    "duration": 113,
    "start_time": "2024-05-28T23:52:21.728Z"
   },
   {
    "duration": 28,
    "start_time": "2024-05-28T23:52:26.292Z"
   },
   {
    "duration": 66,
    "start_time": "2024-05-28T23:52:39.777Z"
   },
   {
    "duration": 90,
    "start_time": "2024-05-28T23:52:43.598Z"
   },
   {
    "duration": 1871,
    "start_time": "2024-05-28T23:52:53.426Z"
   },
   {
    "duration": 1606,
    "start_time": "2024-05-28T23:59:58.604Z"
   },
   {
    "duration": 34,
    "start_time": "2024-05-29T00:00:00.214Z"
   },
   {
    "duration": 4,
    "start_time": "2024-05-29T00:00:02.101Z"
   },
   {
    "duration": 6,
    "start_time": "2024-05-29T00:00:02.486Z"
   },
   {
    "duration": 18,
    "start_time": "2024-05-29T00:00:02.837Z"
   },
   {
    "duration": 6,
    "start_time": "2024-05-29T00:00:11.483Z"
   },
   {
    "duration": 28,
    "start_time": "2024-05-29T00:00:12.092Z"
   },
   {
    "duration": 11,
    "start_time": "2024-05-29T00:00:15.483Z"
   },
   {
    "duration": 12,
    "start_time": "2024-05-29T00:00:19.932Z"
   },
   {
    "duration": 7,
    "start_time": "2024-05-29T00:00:26.154Z"
   },
   {
    "duration": 6,
    "start_time": "2024-05-29T00:00:53.227Z"
   },
   {
    "duration": 15,
    "start_time": "2024-05-29T00:00:56.046Z"
   },
   {
    "duration": 13,
    "start_time": "2024-05-29T00:01:02.627Z"
   },
   {
    "duration": 16,
    "start_time": "2024-05-29T00:01:03.359Z"
   },
   {
    "duration": 9,
    "start_time": "2024-05-29T00:01:10.002Z"
   },
   {
    "duration": 165,
    "start_time": "2024-05-29T00:01:12.370Z"
   },
   {
    "duration": 7,
    "start_time": "2024-05-29T00:01:23.311Z"
   },
   {
    "duration": 58,
    "start_time": "2024-05-29T00:01:35.169Z"
   },
   {
    "duration": 5,
    "start_time": "2024-05-29T00:03:23.325Z"
   },
   {
    "duration": 10,
    "start_time": "2024-05-29T00:03:43.758Z"
   },
   {
    "duration": 440,
    "start_time": "2024-05-29T00:06:40.562Z"
   },
   {
    "duration": 8,
    "start_time": "2024-05-29T00:08:12.044Z"
   },
   {
    "duration": 22,
    "start_time": "2024-05-29T00:08:36.431Z"
   },
   {
    "duration": 20,
    "start_time": "2024-05-29T00:08:47.107Z"
   },
   {
    "duration": 22,
    "start_time": "2024-05-29T00:08:59.584Z"
   },
   {
    "duration": 63,
    "start_time": "2024-05-29T00:09:32.307Z"
   },
   {
    "duration": 28,
    "start_time": "2024-05-29T00:09:39.355Z"
   },
   {
    "duration": 32,
    "start_time": "2024-05-29T00:11:46.275Z"
   },
   {
    "duration": 2647,
    "start_time": "2024-05-29T00:12:35.462Z"
   },
   {
    "duration": 30,
    "start_time": "2024-05-29T00:12:45.635Z"
   },
   {
    "duration": 1608,
    "start_time": "2024-05-29T00:14:16.553Z"
   },
   {
    "duration": 24,
    "start_time": "2024-05-29T00:14:18.165Z"
   },
   {
    "duration": 4,
    "start_time": "2024-05-29T00:14:18.192Z"
   },
   {
    "duration": 26,
    "start_time": "2024-05-29T00:14:18.200Z"
   },
   {
    "duration": 16,
    "start_time": "2024-05-29T00:14:18.231Z"
   },
   {
    "duration": 7,
    "start_time": "2024-05-29T00:14:18.250Z"
   },
   {
    "duration": 64,
    "start_time": "2024-05-29T00:14:18.260Z"
   },
   {
    "duration": 10,
    "start_time": "2024-05-29T00:14:18.327Z"
   },
   {
    "duration": 12,
    "start_time": "2024-05-29T00:14:18.339Z"
   },
   {
    "duration": 9,
    "start_time": "2024-05-29T00:14:18.354Z"
   },
   {
    "duration": 6,
    "start_time": "2024-05-29T00:14:18.367Z"
   },
   {
    "duration": 63,
    "start_time": "2024-05-29T00:14:18.376Z"
   },
   {
    "duration": 13,
    "start_time": "2024-05-29T00:14:18.443Z"
   },
   {
    "duration": 17,
    "start_time": "2024-05-29T00:14:18.463Z"
   },
   {
    "duration": 44,
    "start_time": "2024-05-29T00:14:18.483Z"
   },
   {
    "duration": 187,
    "start_time": "2024-05-29T00:14:18.530Z"
   },
   {
    "duration": 8,
    "start_time": "2024-05-29T00:14:18.719Z"
   },
   {
    "duration": 93,
    "start_time": "2024-05-29T00:14:18.730Z"
   },
   {
    "duration": 2480,
    "start_time": "2024-05-29T00:14:20.726Z"
   },
   {
    "duration": 436,
    "start_time": "2024-05-29T00:14:23.640Z"
   },
   {
    "duration": 5,
    "start_time": "2024-05-29T00:16:17.463Z"
   },
   {
    "duration": 1259,
    "start_time": "2024-05-29T00:16:39.159Z"
   },
   {
    "duration": 4471,
    "start_time": "2024-05-29T00:17:13.166Z"
   },
   {
    "duration": 2458,
    "start_time": "2024-05-29T00:18:07.468Z"
   },
   {
    "duration": 323,
    "start_time": "2024-05-29T00:18:29.315Z"
   },
   {
    "duration": 36,
    "start_time": "2024-05-29T00:18:56.633Z"
   },
   {
    "duration": 1810,
    "start_time": "2024-05-29T00:19:02.304Z"
   },
   {
    "duration": 31,
    "start_time": "2024-05-29T00:19:04.117Z"
   },
   {
    "duration": 6,
    "start_time": "2024-05-29T00:19:04.151Z"
   },
   {
    "duration": 7,
    "start_time": "2024-05-29T00:19:04.164Z"
   },
   {
    "duration": 51,
    "start_time": "2024-05-29T00:19:04.174Z"
   },
   {
    "duration": 6,
    "start_time": "2024-05-29T00:19:04.229Z"
   },
   {
    "duration": 30,
    "start_time": "2024-05-29T00:19:04.238Z"
   },
   {
    "duration": 11,
    "start_time": "2024-05-29T00:19:04.271Z"
   },
   {
    "duration": 13,
    "start_time": "2024-05-29T00:19:04.325Z"
   },
   {
    "duration": 10,
    "start_time": "2024-05-29T00:19:04.349Z"
   },
   {
    "duration": 8,
    "start_time": "2024-05-29T00:19:04.362Z"
   },
   {
    "duration": 64,
    "start_time": "2024-05-29T00:19:04.374Z"
   },
   {
    "duration": 16,
    "start_time": "2024-05-29T00:19:04.441Z"
   },
   {
    "duration": 22,
    "start_time": "2024-05-29T00:19:04.460Z"
   },
   {
    "duration": 43,
    "start_time": "2024-05-29T00:19:04.486Z"
   },
   {
    "duration": 207,
    "start_time": "2024-05-29T00:19:04.533Z"
   },
   {
    "duration": 13,
    "start_time": "2024-05-29T00:19:04.746Z"
   },
   {
    "duration": 118,
    "start_time": "2024-05-29T00:19:04.764Z"
   },
   {
    "duration": 241,
    "start_time": "2024-05-29T00:19:04.884Z"
   },
   {
    "duration": 115,
    "start_time": "2024-05-29T00:19:05.129Z"
   },
   {
    "duration": 8,
    "start_time": "2024-05-29T00:20:32.695Z"
   },
   {
    "duration": 426,
    "start_time": "2024-05-29T00:20:57.632Z"
   },
   {
    "duration": 2851,
    "start_time": "2024-05-29T00:21:47.230Z"
   },
   {
    "duration": 41,
    "start_time": "2024-05-29T00:21:52.861Z"
   },
   {
    "duration": 2092,
    "start_time": "2024-05-29T00:21:58.581Z"
   },
   {
    "duration": 0,
    "start_time": "2024-05-29T00:22:00.680Z"
   },
   {
    "duration": 1,
    "start_time": "2024-05-29T00:22:00.682Z"
   },
   {
    "duration": 0,
    "start_time": "2024-05-29T00:22:00.685Z"
   },
   {
    "duration": 0,
    "start_time": "2024-05-29T00:22:00.687Z"
   },
   {
    "duration": 0,
    "start_time": "2024-05-29T00:22:00.689Z"
   },
   {
    "duration": 0,
    "start_time": "2024-05-29T00:22:00.692Z"
   },
   {
    "duration": 0,
    "start_time": "2024-05-29T00:22:00.694Z"
   },
   {
    "duration": 0,
    "start_time": "2024-05-29T00:22:00.696Z"
   },
   {
    "duration": 0,
    "start_time": "2024-05-29T00:22:00.698Z"
   },
   {
    "duration": 0,
    "start_time": "2024-05-29T00:22:00.700Z"
   },
   {
    "duration": 0,
    "start_time": "2024-05-29T00:22:00.734Z"
   },
   {
    "duration": 0,
    "start_time": "2024-05-29T00:22:00.739Z"
   },
   {
    "duration": 0,
    "start_time": "2024-05-29T00:22:00.745Z"
   },
   {
    "duration": 0,
    "start_time": "2024-05-29T00:22:00.756Z"
   },
   {
    "duration": 0,
    "start_time": "2024-05-29T00:22:00.760Z"
   },
   {
    "duration": 0,
    "start_time": "2024-05-29T00:22:00.767Z"
   },
   {
    "duration": 0,
    "start_time": "2024-05-29T00:22:00.769Z"
   },
   {
    "duration": 0,
    "start_time": "2024-05-29T00:22:00.773Z"
   },
   {
    "duration": 0,
    "start_time": "2024-05-29T00:22:00.779Z"
   },
   {
    "duration": 0,
    "start_time": "2024-05-29T00:22:00.781Z"
   },
   {
    "duration": 2440,
    "start_time": "2024-05-29T00:22:05.472Z"
   },
   {
    "duration": 2429,
    "start_time": "2024-05-29T00:22:11.773Z"
   },
   {
    "duration": 33,
    "start_time": "2024-05-29T00:22:15.064Z"
   },
   {
    "duration": 5,
    "start_time": "2024-05-29T00:23:25.445Z"
   },
   {
    "duration": 37,
    "start_time": "2024-05-29T00:23:29.735Z"
   },
   {
    "duration": 2417,
    "start_time": "2024-05-29T00:23:34.522Z"
   },
   {
    "duration": 1636,
    "start_time": "2024-05-29T00:23:36.943Z"
   },
   {
    "duration": 27,
    "start_time": "2024-05-29T00:23:38.582Z"
   },
   {
    "duration": 16,
    "start_time": "2024-05-29T00:23:38.611Z"
   },
   {
    "duration": 6,
    "start_time": "2024-05-29T00:23:38.632Z"
   },
   {
    "duration": 19,
    "start_time": "2024-05-29T00:23:38.641Z"
   },
   {
    "duration": 6,
    "start_time": "2024-05-29T00:23:38.663Z"
   },
   {
    "duration": 72,
    "start_time": "2024-05-29T00:23:38.672Z"
   },
   {
    "duration": 11,
    "start_time": "2024-05-29T00:23:38.747Z"
   },
   {
    "duration": 12,
    "start_time": "2024-05-29T00:23:38.762Z"
   },
   {
    "duration": 49,
    "start_time": "2024-05-29T00:23:38.778Z"
   },
   {
    "duration": 8,
    "start_time": "2024-05-29T00:23:38.830Z"
   },
   {
    "duration": 17,
    "start_time": "2024-05-29T00:23:38.843Z"
   },
   {
    "duration": 16,
    "start_time": "2024-05-29T00:23:38.866Z"
   },
   {
    "duration": 53,
    "start_time": "2024-05-29T00:23:38.884Z"
   },
   {
    "duration": 8,
    "start_time": "2024-05-29T00:23:38.940Z"
   },
   {
    "duration": 205,
    "start_time": "2024-05-29T00:23:38.952Z"
   },
   {
    "duration": 7,
    "start_time": "2024-05-29T00:23:39.161Z"
   },
   {
    "duration": 79,
    "start_time": "2024-05-29T00:23:39.171Z"
   },
   {
    "duration": 229,
    "start_time": "2024-05-29T00:23:39.252Z"
   },
   {
    "duration": 153,
    "start_time": "2024-05-29T00:23:39.485Z"
   },
   {
    "duration": 12,
    "start_time": "2024-05-29T00:23:46.846Z"
   },
   {
    "duration": 8,
    "start_time": "2024-05-29T00:23:47.268Z"
   },
   {
    "duration": 5,
    "start_time": "2024-05-29T00:23:47.690Z"
   },
   {
    "duration": 18,
    "start_time": "2024-05-29T00:23:48.581Z"
   },
   {
    "duration": 12,
    "start_time": "2024-05-29T00:23:49.844Z"
   },
   {
    "duration": 16,
    "start_time": "2024-05-29T00:23:50.230Z"
   },
   {
    "duration": 8,
    "start_time": "2024-05-29T00:23:51.389Z"
   },
   {
    "duration": 165,
    "start_time": "2024-05-29T00:23:51.909Z"
   },
   {
    "duration": 8,
    "start_time": "2024-05-29T00:23:55.128Z"
   },
   {
    "duration": 59,
    "start_time": "2024-05-29T00:23:55.779Z"
   },
   {
    "duration": 4,
    "start_time": "2024-05-29T00:24:14.212Z"
   },
   {
    "duration": 8,
    "start_time": "2024-05-29T00:26:12.638Z"
   },
   {
    "duration": 33,
    "start_time": "2024-05-29T00:26:38.842Z"
   },
   {
    "duration": 1201,
    "start_time": "2024-05-29T00:27:22.034Z"
   },
   {
    "duration": 314,
    "start_time": "2024-05-29T22:07:20.792Z"
   },
   {
    "duration": 27,
    "start_time": "2024-05-29T22:07:27.628Z"
   },
   {
    "duration": 5169,
    "start_time": "2024-05-29T22:07:33.579Z"
   },
   {
    "duration": 34,
    "start_time": "2024-05-29T22:07:38.752Z"
   },
   {
    "duration": 5,
    "start_time": "2024-05-29T22:07:38.788Z"
   },
   {
    "duration": 9,
    "start_time": "2024-05-29T22:07:38.807Z"
   },
   {
    "duration": 18,
    "start_time": "2024-05-29T22:07:38.820Z"
   },
   {
    "duration": 6,
    "start_time": "2024-05-29T22:07:38.841Z"
   },
   {
    "duration": 69,
    "start_time": "2024-05-29T22:07:38.850Z"
   },
   {
    "duration": 12,
    "start_time": "2024-05-29T22:07:38.922Z"
   },
   {
    "duration": 11,
    "start_time": "2024-05-29T22:07:38.937Z"
   },
   {
    "duration": 7,
    "start_time": "2024-05-29T22:07:38.951Z"
   },
   {
    "duration": 47,
    "start_time": "2024-05-29T22:07:38.961Z"
   },
   {
    "duration": 17,
    "start_time": "2024-05-29T22:07:39.012Z"
   },
   {
    "duration": 13,
    "start_time": "2024-05-29T22:07:39.032Z"
   },
   {
    "duration": 57,
    "start_time": "2024-05-29T22:07:39.049Z"
   },
   {
    "duration": 12,
    "start_time": "2024-05-29T22:07:39.109Z"
   },
   {
    "duration": 228,
    "start_time": "2024-05-29T22:07:39.124Z"
   },
   {
    "duration": 8,
    "start_time": "2024-05-29T22:07:39.356Z"
   },
   {
    "duration": 140,
    "start_time": "2024-05-29T22:07:39.367Z"
   },
   {
    "duration": 26,
    "start_time": "2024-05-29T22:07:54.332Z"
   },
   {
    "duration": 16,
    "start_time": "2024-05-29T22:07:58.558Z"
   },
   {
    "duration": 16,
    "start_time": "2024-05-29T22:08:10.551Z"
   },
   {
    "duration": 12,
    "start_time": "2024-05-29T22:08:14.045Z"
   },
   {
    "duration": 4,
    "start_time": "2024-05-29T22:08:56.032Z"
   },
   {
    "duration": 5,
    "start_time": "2024-05-29T22:09:27.854Z"
   },
   {
    "duration": 4,
    "start_time": "2024-05-29T22:09:31.110Z"
   },
   {
    "duration": 4,
    "start_time": "2024-05-29T22:09:45.149Z"
   },
   {
    "duration": 11,
    "start_time": "2024-05-29T22:09:54.727Z"
   },
   {
    "duration": 13,
    "start_time": "2024-05-29T22:12:30.388Z"
   },
   {
    "duration": 6,
    "start_time": "2024-05-29T22:12:48.594Z"
   },
   {
    "duration": 26,
    "start_time": "2024-05-29T22:12:50.914Z"
   },
   {
    "duration": 28,
    "start_time": "2024-05-29T22:13:01.702Z"
   },
   {
    "duration": 9,
    "start_time": "2024-05-29T22:13:27.959Z"
   },
   {
    "duration": 7,
    "start_time": "2024-05-29T22:13:52.200Z"
   },
   {
    "duration": 6,
    "start_time": "2024-05-29T22:14:52.113Z"
   },
   {
    "duration": 7,
    "start_time": "2024-05-29T22:15:03.373Z"
   },
   {
    "duration": 6,
    "start_time": "2024-05-29T22:15:21.624Z"
   },
   {
    "duration": 8,
    "start_time": "2024-05-29T22:16:25.877Z"
   },
   {
    "duration": 9,
    "start_time": "2024-05-29T22:16:35.624Z"
   },
   {
    "duration": 160,
    "start_time": "2024-05-29T22:17:57.283Z"
   },
   {
    "duration": 516,
    "start_time": "2024-05-29T22:19:11.367Z"
   },
   {
    "duration": 26,
    "start_time": "2024-05-29T22:19:27.352Z"
   },
   {
    "duration": 6,
    "start_time": "2024-05-29T22:20:04.383Z"
   },
   {
    "duration": 36,
    "start_time": "2024-05-29T22:20:30.412Z"
   },
   {
    "duration": 6,
    "start_time": "2024-05-29T22:20:36.149Z"
   },
   {
    "duration": 7,
    "start_time": "2024-05-29T22:20:39.732Z"
   },
   {
    "duration": 8,
    "start_time": "2024-05-29T22:20:59.041Z"
   },
   {
    "duration": 42,
    "start_time": "2024-05-29T22:21:17.779Z"
   },
   {
    "duration": 62,
    "start_time": "2024-05-29T22:21:36.758Z"
   },
   {
    "duration": 99,
    "start_time": "2024-05-29T22:22:03.420Z"
   },
   {
    "duration": 183,
    "start_time": "2024-05-29T22:22:09.424Z"
   },
   {
    "duration": 433,
    "start_time": "2024-05-29T22:22:25.983Z"
   },
   {
    "duration": 131,
    "start_time": "2024-05-29T22:22:40.898Z"
   },
   {
    "duration": 105,
    "start_time": "2024-05-29T22:23:07.617Z"
   },
   {
    "duration": 94,
    "start_time": "2024-05-29T22:23:12.828Z"
   },
   {
    "duration": 65,
    "start_time": "2024-05-29T22:23:34.359Z"
   },
   {
    "duration": 4433,
    "start_time": "2024-05-29T22:23:54.931Z"
   },
   {
    "duration": 4849,
    "start_time": "2024-05-29T22:24:25.765Z"
   },
   {
    "duration": 4187,
    "start_time": "2024-05-29T22:24:42.425Z"
   },
   {
    "duration": 1659,
    "start_time": "2024-05-29T22:34:59.306Z"
   },
   {
    "duration": 25,
    "start_time": "2024-05-29T22:35:00.969Z"
   },
   {
    "duration": 13,
    "start_time": "2024-05-29T22:35:00.996Z"
   },
   {
    "duration": 5,
    "start_time": "2024-05-29T22:35:01.016Z"
   },
   {
    "duration": 17,
    "start_time": "2024-05-29T22:35:01.025Z"
   },
   {
    "duration": 6,
    "start_time": "2024-05-29T22:35:01.045Z"
   },
   {
    "duration": 73,
    "start_time": "2024-05-29T22:35:01.054Z"
   },
   {
    "duration": 9,
    "start_time": "2024-05-29T22:35:01.130Z"
   },
   {
    "duration": 12,
    "start_time": "2024-05-29T22:35:01.142Z"
   },
   {
    "duration": 8,
    "start_time": "2024-05-29T22:35:01.156Z"
   },
   {
    "duration": 17,
    "start_time": "2024-05-29T22:35:01.207Z"
   },
   {
    "duration": 16,
    "start_time": "2024-05-29T22:35:01.227Z"
   },
   {
    "duration": 14,
    "start_time": "2024-05-29T22:35:01.250Z"
   },
   {
    "duration": 55,
    "start_time": "2024-05-29T22:35:01.267Z"
   },
   {
    "duration": 7,
    "start_time": "2024-05-29T22:35:01.326Z"
   },
   {
    "duration": 236,
    "start_time": "2024-05-29T22:35:01.337Z"
   },
   {
    "duration": 9,
    "start_time": "2024-05-29T22:35:01.578Z"
   },
   {
    "duration": 117,
    "start_time": "2024-05-29T22:35:01.590Z"
   },
   {
    "duration": 4618,
    "start_time": "2024-05-29T22:35:01.710Z"
   },
   {
    "duration": 5,
    "start_time": "2024-05-29T22:35:09.959Z"
   },
   {
    "duration": 30,
    "start_time": "2024-05-29T22:35:10.559Z"
   },
   {
    "duration": 4,
    "start_time": "2024-05-29T22:35:11.091Z"
   },
   {
    "duration": 6,
    "start_time": "2024-05-29T22:35:11.409Z"
   },
   {
    "duration": 22,
    "start_time": "2024-05-29T22:35:11.716Z"
   },
   {
    "duration": 10,
    "start_time": "2024-05-29T22:35:12.982Z"
   },
   {
    "duration": 28,
    "start_time": "2024-05-29T22:35:13.618Z"
   },
   {
    "duration": 10,
    "start_time": "2024-05-29T22:35:14.623Z"
   },
   {
    "duration": 18,
    "start_time": "2024-05-29T22:35:15.606Z"
   },
   {
    "duration": 8,
    "start_time": "2024-05-29T22:35:16.464Z"
   },
   {
    "duration": 15,
    "start_time": "2024-05-29T22:35:16.973Z"
   },
   {
    "duration": 14,
    "start_time": "2024-05-29T22:35:17.972Z"
   },
   {
    "duration": 18,
    "start_time": "2024-05-29T22:35:18.397Z"
   },
   {
    "duration": 18,
    "start_time": "2024-05-29T22:35:18.789Z"
   },
   {
    "duration": 10,
    "start_time": "2024-05-29T22:35:19.729Z"
   },
   {
    "duration": 9,
    "start_time": "2024-05-29T22:35:23.967Z"
   },
   {
    "duration": 83,
    "start_time": "2024-05-29T22:35:26.174Z"
   },
   {
    "duration": 10,
    "start_time": "2024-05-29T22:35:53.202Z"
   },
   {
    "duration": 345,
    "start_time": "2024-05-29T22:36:02.289Z"
   },
   {
    "duration": 67,
    "start_time": "2024-05-29T22:36:11.036Z"
   },
   {
    "duration": 1863,
    "start_time": "2024-05-29T22:43:35.916Z"
   },
   {
    "duration": 33,
    "start_time": "2024-05-29T22:43:58.061Z"
   },
   {
    "duration": 44,
    "start_time": "2024-05-29T22:46:45.273Z"
   },
   {
    "duration": 4064,
    "start_time": "2024-05-29T23:10:29.029Z"
   },
   {
    "duration": 6,
    "start_time": "2024-05-29T23:11:05.004Z"
   },
   {
    "duration": 4091,
    "start_time": "2024-05-29T23:11:09.751Z"
   },
   {
    "duration": 6824,
    "start_time": "2024-05-29T23:11:17.504Z"
   },
   {
    "duration": 3477,
    "start_time": "2024-05-29T23:11:37.096Z"
   },
   {
    "duration": 1446,
    "start_time": "2024-05-29T23:11:40.578Z"
   },
   {
    "duration": 28,
    "start_time": "2024-05-29T23:11:42.029Z"
   },
   {
    "duration": 5,
    "start_time": "2024-05-29T23:11:42.059Z"
   },
   {
    "duration": 6,
    "start_time": "2024-05-29T23:11:42.069Z"
   },
   {
    "duration": 42,
    "start_time": "2024-05-29T23:11:42.078Z"
   },
   {
    "duration": 6,
    "start_time": "2024-05-29T23:11:42.123Z"
   },
   {
    "duration": 110,
    "start_time": "2024-05-29T23:11:42.131Z"
   },
   {
    "duration": 10,
    "start_time": "2024-05-29T23:11:42.244Z"
   },
   {
    "duration": 12,
    "start_time": "2024-05-29T23:11:42.256Z"
   },
   {
    "duration": 41,
    "start_time": "2024-05-29T23:11:42.271Z"
   },
   {
    "duration": 17,
    "start_time": "2024-05-29T23:11:42.315Z"
   },
   {
    "duration": 15,
    "start_time": "2024-05-29T23:11:42.335Z"
   },
   {
    "duration": 51,
    "start_time": "2024-05-29T23:11:42.355Z"
   },
   {
    "duration": 19,
    "start_time": "2024-05-29T23:11:42.409Z"
   },
   {
    "duration": 10,
    "start_time": "2024-05-29T23:11:42.434Z"
   },
   {
    "duration": 207,
    "start_time": "2024-05-29T23:11:42.447Z"
   },
   {
    "duration": 7,
    "start_time": "2024-05-29T23:11:42.656Z"
   },
   {
    "duration": 93,
    "start_time": "2024-05-29T23:11:42.666Z"
   },
   {
    "duration": 346,
    "start_time": "2024-05-29T23:11:42.762Z"
   },
   {
    "duration": 5,
    "start_time": "2024-05-29T23:11:44.681Z"
   },
   {
    "duration": 5,
    "start_time": "2024-05-29T23:11:51.355Z"
   },
   {
    "duration": 6,
    "start_time": "2024-05-29T23:12:14.882Z"
   },
   {
    "duration": 29,
    "start_time": "2024-05-29T23:12:16.263Z"
   },
   {
    "duration": 5,
    "start_time": "2024-05-29T23:12:17.147Z"
   },
   {
    "duration": 8,
    "start_time": "2024-05-29T23:12:19.208Z"
   },
   {
    "duration": 15,
    "start_time": "2024-05-29T23:12:19.800Z"
   },
   {
    "duration": 126,
    "start_time": "2024-05-29T23:12:27.844Z"
   },
   {
    "duration": 66,
    "start_time": "2024-05-29T23:13:16.287Z"
   },
   {
    "duration": 90,
    "start_time": "2024-05-29T23:13:25.540Z"
   },
   {
    "duration": 9,
    "start_time": "2024-05-29T23:13:55.315Z"
   },
   {
    "duration": 121,
    "start_time": "2024-05-29T23:13:58.630Z"
   },
   {
    "duration": 489,
    "start_time": "2024-05-29T23:14:44.777Z"
   },
   {
    "duration": 279,
    "start_time": "2024-05-29T23:15:22.140Z"
   },
   {
    "duration": 411,
    "start_time": "2024-05-29T23:15:27.831Z"
   },
   {
    "duration": 118,
    "start_time": "2024-05-29T23:16:04.889Z"
   },
   {
    "duration": 121,
    "start_time": "2024-05-29T23:17:19.715Z"
   },
   {
    "duration": 114,
    "start_time": "2024-05-29T23:17:25.831Z"
   },
   {
    "duration": 136,
    "start_time": "2024-05-29T23:17:31.581Z"
   },
   {
    "duration": 140,
    "start_time": "2024-05-29T23:17:38.771Z"
   },
   {
    "duration": 159,
    "start_time": "2024-05-29T23:19:50.463Z"
   },
   {
    "duration": 130,
    "start_time": "2024-05-29T23:20:06.648Z"
   },
   {
    "duration": 132,
    "start_time": "2024-05-29T23:20:33.790Z"
   },
   {
    "duration": 146,
    "start_time": "2024-05-29T23:21:01.666Z"
   },
   {
    "duration": 118,
    "start_time": "2024-05-29T23:21:22.507Z"
   },
   {
    "duration": 122,
    "start_time": "2024-05-29T23:22:06.704Z"
   },
   {
    "duration": 137,
    "start_time": "2024-05-29T23:25:00.370Z"
   },
   {
    "duration": 122,
    "start_time": "2024-05-29T23:25:08.847Z"
   },
   {
    "duration": 11,
    "start_time": "2024-05-29T23:34:00.513Z"
   },
   {
    "duration": 14,
    "start_time": "2024-05-29T23:34:08.082Z"
   },
   {
    "duration": 16,
    "start_time": "2024-05-29T23:34:16.891Z"
   },
   {
    "duration": 12,
    "start_time": "2024-05-29T23:34:25.566Z"
   },
   {
    "duration": 12,
    "start_time": "2024-05-29T23:34:31.245Z"
   },
   {
    "duration": 13,
    "start_time": "2024-05-29T23:34:33.826Z"
   },
   {
    "duration": 12,
    "start_time": "2024-05-29T23:34:40.834Z"
   },
   {
    "duration": 13,
    "start_time": "2024-05-29T23:34:46.815Z"
   },
   {
    "duration": 13,
    "start_time": "2024-05-29T23:34:51.074Z"
   },
   {
    "duration": 12,
    "start_time": "2024-05-29T23:35:06.843Z"
   },
   {
    "duration": 24,
    "start_time": "2024-05-29T23:35:42.413Z"
   },
   {
    "duration": 5,
    "start_time": "2024-05-29T23:36:24.921Z"
   },
   {
    "duration": 5,
    "start_time": "2024-05-29T23:36:38.792Z"
   },
   {
    "duration": 5,
    "start_time": "2024-05-29T23:36:45.998Z"
   },
   {
    "duration": 353,
    "start_time": "2024-05-29T23:38:07.500Z"
   },
   {
    "duration": 29,
    "start_time": "2024-05-29T23:38:27.300Z"
   },
   {
    "duration": 13,
    "start_time": "2024-05-29T23:38:52.443Z"
   },
   {
    "duration": 38,
    "start_time": "2024-05-29T23:39:48.112Z"
   },
   {
    "duration": 43,
    "start_time": "2024-05-29T23:41:09.108Z"
   },
   {
    "duration": 43,
    "start_time": "2024-05-29T23:41:21.228Z"
   },
   {
    "duration": 49,
    "start_time": "2024-05-29T23:41:55.044Z"
   },
   {
    "duration": 54,
    "start_time": "2024-05-29T23:42:40.900Z"
   },
   {
    "duration": 270,
    "start_time": "2024-05-29T23:43:20.136Z"
   },
   {
    "duration": 47,
    "start_time": "2024-05-29T23:43:43.905Z"
   },
   {
    "duration": 75,
    "start_time": "2024-05-29T23:43:55.805Z"
   },
   {
    "duration": 103,
    "start_time": "2024-05-29T23:44:06.711Z"
   },
   {
    "duration": 107,
    "start_time": "2024-05-29T23:48:03.103Z"
   },
   {
    "duration": 55,
    "start_time": "2024-05-29T23:48:15.863Z"
   },
   {
    "duration": 63,
    "start_time": "2024-05-29T23:49:07.995Z"
   },
   {
    "duration": 54,
    "start_time": "2024-05-29T23:49:26.073Z"
   },
   {
    "duration": 240,
    "start_time": "2024-05-29T23:52:41.523Z"
   },
   {
    "duration": 47,
    "start_time": "2024-05-29T23:52:56.146Z"
   },
   {
    "duration": 50,
    "start_time": "2024-05-29T23:53:01.675Z"
   },
   {
    "duration": 38,
    "start_time": "2024-05-29T23:53:14.094Z"
   },
   {
    "duration": 227,
    "start_time": "2024-05-29T23:53:19.183Z"
   },
   {
    "duration": 244,
    "start_time": "2024-05-29T23:54:09.874Z"
   },
   {
    "duration": 42,
    "start_time": "2024-05-29T23:54:17.247Z"
   },
   {
    "duration": 19,
    "start_time": "2024-05-29T23:55:05.226Z"
   },
   {
    "duration": 38,
    "start_time": "2024-05-29T23:55:07.543Z"
   },
   {
    "duration": 1633,
    "start_time": "2024-05-29T23:55:14.584Z"
   },
   {
    "duration": 29,
    "start_time": "2024-05-29T23:55:16.221Z"
   },
   {
    "duration": 4,
    "start_time": "2024-05-29T23:55:16.255Z"
   },
   {
    "duration": 6,
    "start_time": "2024-05-29T23:55:16.263Z"
   },
   {
    "duration": 48,
    "start_time": "2024-05-29T23:55:16.272Z"
   },
   {
    "duration": 6,
    "start_time": "2024-05-29T23:55:16.324Z"
   },
   {
    "duration": 30,
    "start_time": "2024-05-29T23:55:16.333Z"
   },
   {
    "duration": 43,
    "start_time": "2024-05-29T23:55:16.366Z"
   },
   {
    "duration": 12,
    "start_time": "2024-05-29T23:55:16.412Z"
   },
   {
    "duration": 7,
    "start_time": "2024-05-29T23:55:16.429Z"
   },
   {
    "duration": 16,
    "start_time": "2024-05-29T23:55:16.439Z"
   },
   {
    "duration": 60,
    "start_time": "2024-05-29T23:55:16.458Z"
   },
   {
    "duration": 13,
    "start_time": "2024-05-29T23:55:16.520Z"
   },
   {
    "duration": 16,
    "start_time": "2024-05-29T23:55:16.536Z"
   },
   {
    "duration": 8,
    "start_time": "2024-05-29T23:55:16.555Z"
   },
   {
    "duration": 223,
    "start_time": "2024-05-29T23:55:16.566Z"
   },
   {
    "duration": 121,
    "start_time": "2024-05-29T23:55:16.792Z"
   },
   {
    "duration": 292,
    "start_time": "2024-05-29T23:55:16.915Z"
   },
   {
    "duration": 12,
    "start_time": "2024-05-29T23:55:17.210Z"
   },
   {
    "duration": 521,
    "start_time": "2024-05-29T23:55:17.225Z"
   },
   {
    "duration": 6,
    "start_time": "2024-05-29T23:56:04.578Z"
   },
   {
    "duration": 42,
    "start_time": "2024-05-29T23:56:06.368Z"
   },
   {
    "duration": 44,
    "start_time": "2024-05-29T23:56:30.430Z"
   },
   {
    "duration": 236,
    "start_time": "2024-05-29T23:57:28.086Z"
   },
   {
    "duration": 45,
    "start_time": "2024-05-29T23:59:21.819Z"
   },
   {
    "duration": 6,
    "start_time": "2024-05-29T23:59:39.027Z"
   },
   {
    "duration": 42,
    "start_time": "2024-05-29T23:59:43.314Z"
   },
   {
    "duration": 36,
    "start_time": "2024-05-30T00:00:09.836Z"
   },
   {
    "duration": 5,
    "start_time": "2024-05-30T00:01:27.255Z"
   },
   {
    "duration": 37,
    "start_time": "2024-05-30T00:02:19.048Z"
   },
   {
    "duration": 44,
    "start_time": "2024-05-30T00:02:25.047Z"
   },
   {
    "duration": 40,
    "start_time": "2024-05-30T00:02:38.023Z"
   },
   {
    "duration": 146,
    "start_time": "2024-05-30T00:03:24.164Z"
   },
   {
    "duration": 151,
    "start_time": "2024-05-30T00:05:35.963Z"
   },
   {
    "duration": 152,
    "start_time": "2024-05-30T00:06:04.669Z"
   },
   {
    "duration": 131,
    "start_time": "2024-05-30T00:06:14.189Z"
   },
   {
    "duration": 52,
    "start_time": "2024-05-30T00:10:17.925Z"
   },
   {
    "duration": 141,
    "start_time": "2024-05-30T00:11:53.180Z"
   },
   {
    "duration": 116,
    "start_time": "2024-05-30T00:12:39.040Z"
   },
   {
    "duration": 139,
    "start_time": "2024-05-30T00:14:00.611Z"
   },
   {
    "duration": 73,
    "start_time": "2024-05-30T00:14:57.535Z"
   },
   {
    "duration": 487,
    "start_time": "2024-05-30T00:15:28.749Z"
   },
   {
    "duration": 82,
    "start_time": "2024-05-30T00:15:41.829Z"
   },
   {
    "duration": 5959,
    "start_time": "2024-05-30T16:29:59.700Z"
   },
   {
    "duration": 0,
    "start_time": "2024-05-30T16:30:05.665Z"
   },
   {
    "duration": 0,
    "start_time": "2024-05-30T16:30:05.667Z"
   },
   {
    "duration": 0,
    "start_time": "2024-05-30T16:30:05.669Z"
   },
   {
    "duration": 0,
    "start_time": "2024-05-30T16:30:05.671Z"
   },
   {
    "duration": 0,
    "start_time": "2024-05-30T16:30:05.674Z"
   },
   {
    "duration": 0,
    "start_time": "2024-05-30T16:30:05.676Z"
   },
   {
    "duration": 0,
    "start_time": "2024-05-30T16:30:05.679Z"
   },
   {
    "duration": 0,
    "start_time": "2024-05-30T16:30:05.682Z"
   },
   {
    "duration": 0,
    "start_time": "2024-05-30T16:30:05.685Z"
   },
   {
    "duration": 0,
    "start_time": "2024-05-30T16:30:05.687Z"
   },
   {
    "duration": 0,
    "start_time": "2024-05-30T16:30:05.724Z"
   },
   {
    "duration": 0,
    "start_time": "2024-05-30T16:30:05.730Z"
   },
   {
    "duration": 0,
    "start_time": "2024-05-30T16:30:05.735Z"
   },
   {
    "duration": 0,
    "start_time": "2024-05-30T16:30:05.737Z"
   },
   {
    "duration": 0,
    "start_time": "2024-05-30T16:30:05.740Z"
   },
   {
    "duration": 0,
    "start_time": "2024-05-30T16:30:05.752Z"
   },
   {
    "duration": 0,
    "start_time": "2024-05-30T16:30:05.755Z"
   },
   {
    "duration": 1,
    "start_time": "2024-05-30T16:30:05.757Z"
   },
   {
    "duration": 0,
    "start_time": "2024-05-30T16:30:05.760Z"
   },
   {
    "duration": 0,
    "start_time": "2024-05-30T16:30:05.762Z"
   },
   {
    "duration": 5904,
    "start_time": "2024-05-30T21:36:15.108Z"
   },
   {
    "duration": 0,
    "start_time": "2024-05-30T21:36:21.015Z"
   },
   {
    "duration": 25,
    "start_time": "2024-05-30T21:36:21.460Z"
   },
   {
    "duration": 26,
    "start_time": "2024-05-30T21:36:24.085Z"
   },
   {
    "duration": 41,
    "start_time": "2024-05-30T21:36:26.045Z"
   },
   {
    "duration": 31,
    "start_time": "2024-05-30T21:36:28.697Z"
   },
   {
    "duration": 23,
    "start_time": "2024-05-30T21:36:35.555Z"
   },
   {
    "duration": 4,
    "start_time": "2024-05-30T21:36:38.297Z"
   },
   {
    "duration": 2116,
    "start_time": "2024-05-30T21:36:44.518Z"
   },
   {
    "duration": 0,
    "start_time": "2024-05-30T21:36:46.639Z"
   },
   {
    "duration": 0,
    "start_time": "2024-05-30T21:36:46.642Z"
   },
   {
    "duration": 0,
    "start_time": "2024-05-30T21:36:46.645Z"
   },
   {
    "duration": 0,
    "start_time": "2024-05-30T21:36:46.650Z"
   },
   {
    "duration": 0,
    "start_time": "2024-05-30T21:36:46.653Z"
   },
   {
    "duration": 0,
    "start_time": "2024-05-30T21:36:46.655Z"
   },
   {
    "duration": 0,
    "start_time": "2024-05-30T21:36:46.661Z"
   },
   {
    "duration": 0,
    "start_time": "2024-05-30T21:36:46.663Z"
   },
   {
    "duration": 0,
    "start_time": "2024-05-30T21:36:46.665Z"
   },
   {
    "duration": 0,
    "start_time": "2024-05-30T21:36:46.667Z"
   },
   {
    "duration": 0,
    "start_time": "2024-05-30T21:36:46.671Z"
   },
   {
    "duration": 0,
    "start_time": "2024-05-30T21:36:46.672Z"
   },
   {
    "duration": 1,
    "start_time": "2024-05-30T21:36:46.674Z"
   },
   {
    "duration": 0,
    "start_time": "2024-05-30T21:36:46.678Z"
   },
   {
    "duration": 0,
    "start_time": "2024-05-30T21:36:46.681Z"
   },
   {
    "duration": 0,
    "start_time": "2024-05-30T21:36:46.723Z"
   },
   {
    "duration": 0,
    "start_time": "2024-05-30T21:36:46.726Z"
   },
   {
    "duration": 0,
    "start_time": "2024-05-30T21:36:46.729Z"
   },
   {
    "duration": 0,
    "start_time": "2024-05-30T21:36:46.731Z"
   },
   {
    "duration": 0,
    "start_time": "2024-05-30T21:36:46.735Z"
   },
   {
    "duration": 8175,
    "start_time": "2024-05-30T21:38:22.154Z"
   },
   {
    "duration": 3670,
    "start_time": "2024-05-30T21:38:41.878Z"
   },
   {
    "duration": 1767,
    "start_time": "2024-05-30T21:38:45.556Z"
   },
   {
    "duration": 37,
    "start_time": "2024-05-30T21:38:47.326Z"
   },
   {
    "duration": 13,
    "start_time": "2024-05-30T21:38:47.368Z"
   },
   {
    "duration": 8,
    "start_time": "2024-05-30T21:38:47.385Z"
   },
   {
    "duration": 34,
    "start_time": "2024-05-30T21:38:47.397Z"
   },
   {
    "duration": 7,
    "start_time": "2024-05-30T21:38:47.434Z"
   },
   {
    "duration": 31,
    "start_time": "2024-05-30T21:38:47.445Z"
   },
   {
    "duration": 42,
    "start_time": "2024-05-30T21:38:47.483Z"
   },
   {
    "duration": 12,
    "start_time": "2024-05-30T21:38:47.532Z"
   },
   {
    "duration": 8,
    "start_time": "2024-05-30T21:38:47.546Z"
   },
   {
    "duration": 18,
    "start_time": "2024-05-30T21:38:47.557Z"
   },
   {
    "duration": 17,
    "start_time": "2024-05-30T21:38:47.622Z"
   },
   {
    "duration": 14,
    "start_time": "2024-05-30T21:38:47.642Z"
   },
   {
    "duration": 16,
    "start_time": "2024-05-30T21:38:47.659Z"
   },
   {
    "duration": 49,
    "start_time": "2024-05-30T21:38:47.679Z"
   },
   {
    "duration": 199,
    "start_time": "2024-05-30T21:38:47.732Z"
   },
   {
    "duration": 455,
    "start_time": "2024-05-30T21:38:47.934Z"
   },
   {
    "duration": 0,
    "start_time": "2024-05-30T21:38:48.395Z"
   },
   {
    "duration": 0,
    "start_time": "2024-05-30T21:38:48.397Z"
   },
   {
    "duration": 0,
    "start_time": "2024-05-30T21:38:48.400Z"
   },
   {
    "duration": 0,
    "start_time": "2024-05-30T21:38:48.403Z"
   },
   {
    "duration": 1377,
    "start_time": "2024-05-30T21:41:06.707Z"
   },
   {
    "duration": 162,
    "start_time": "2024-05-30T21:41:22.888Z"
   },
   {
    "duration": 279,
    "start_time": "2024-05-30T21:41:46.055Z"
   },
   {
    "duration": 160,
    "start_time": "2024-05-30T21:42:34.598Z"
   },
   {
    "duration": 187,
    "start_time": "2024-05-30T21:42:47.863Z"
   },
   {
    "duration": 195,
    "start_time": "2024-05-30T21:43:05.769Z"
   },
   {
    "duration": 196,
    "start_time": "2024-05-30T21:43:49.430Z"
   },
   {
    "duration": 186,
    "start_time": "2024-05-30T21:44:31.782Z"
   },
   {
    "duration": 167,
    "start_time": "2024-05-30T21:44:37.046Z"
   },
   {
    "duration": 195,
    "start_time": "2024-05-30T22:21:48.845Z"
   },
   {
    "duration": 186,
    "start_time": "2024-05-30T22:22:02.253Z"
   },
   {
    "duration": 234,
    "start_time": "2024-05-30T22:22:14.729Z"
   },
   {
    "duration": 183,
    "start_time": "2024-05-30T22:22:20.119Z"
   },
   {
    "duration": 214,
    "start_time": "2024-05-30T22:22:32.875Z"
   },
   {
    "duration": 228,
    "start_time": "2024-05-30T22:22:47.297Z"
   },
   {
    "duration": 231,
    "start_time": "2024-05-30T22:22:52.312Z"
   },
   {
    "duration": 1402,
    "start_time": "2024-05-30T22:23:20.563Z"
   },
   {
    "duration": 481,
    "start_time": "2024-05-30T22:23:49.681Z"
   },
   {
    "duration": 4272,
    "start_time": "2024-05-30T22:24:20.706Z"
   },
   {
    "duration": 1917,
    "start_time": "2024-05-30T22:24:24.982Z"
   },
   {
    "duration": 38,
    "start_time": "2024-05-30T22:24:26.903Z"
   },
   {
    "duration": 7,
    "start_time": "2024-05-30T22:24:26.946Z"
   },
   {
    "duration": 8,
    "start_time": "2024-05-30T22:24:26.957Z"
   },
   {
    "duration": 58,
    "start_time": "2024-05-30T22:24:26.969Z"
   },
   {
    "duration": 9,
    "start_time": "2024-05-30T22:24:27.030Z"
   },
   {
    "duration": 39,
    "start_time": "2024-05-30T22:24:27.044Z"
   },
   {
    "duration": 13,
    "start_time": "2024-05-30T22:24:27.125Z"
   },
   {
    "duration": 15,
    "start_time": "2024-05-30T22:24:27.144Z"
   },
   {
    "duration": 9,
    "start_time": "2024-05-30T22:24:27.163Z"
   },
   {
    "duration": 64,
    "start_time": "2024-05-30T22:24:27.175Z"
   },
   {
    "duration": 22,
    "start_time": "2024-05-30T22:24:27.244Z"
   },
   {
    "duration": 57,
    "start_time": "2024-05-30T22:24:27.270Z"
   },
   {
    "duration": 25,
    "start_time": "2024-05-30T22:24:27.331Z"
   },
   {
    "duration": 16,
    "start_time": "2024-05-30T22:24:27.359Z"
   },
   {
    "duration": 263,
    "start_time": "2024-05-30T22:24:27.379Z"
   },
   {
    "duration": 529,
    "start_time": "2024-05-30T22:24:27.646Z"
   },
   {
    "duration": 504,
    "start_time": "2024-05-30T22:24:28.179Z"
   },
   {
    "duration": 0,
    "start_time": "2024-05-30T22:24:28.687Z"
   },
   {
    "duration": 0,
    "start_time": "2024-05-30T22:24:28.690Z"
   },
   {
    "duration": 0,
    "start_time": "2024-05-30T22:24:28.693Z"
   },
   {
    "duration": 0,
    "start_time": "2024-05-30T22:24:28.696Z"
   },
   {
    "duration": 8,
    "start_time": "2024-05-30T22:25:27.932Z"
   },
   {
    "duration": 237,
    "start_time": "2024-05-30T22:25:35.686Z"
   },
   {
    "duration": 227,
    "start_time": "2024-05-30T22:25:59.375Z"
   },
   {
    "duration": 201,
    "start_time": "2024-05-30T22:26:04.757Z"
   },
   {
    "duration": 307,
    "start_time": "2024-05-30T22:26:14.847Z"
   },
   {
    "duration": 404,
    "start_time": "2024-05-30T22:26:35.285Z"
   },
   {
    "duration": 443,
    "start_time": "2024-05-30T22:26:49.128Z"
   },
   {
    "duration": 487,
    "start_time": "2024-05-30T22:26:52.859Z"
   },
   {
    "duration": 239,
    "start_time": "2024-05-30T22:28:04.818Z"
   },
   {
    "duration": 233,
    "start_time": "2024-05-30T22:28:48.231Z"
   },
   {
    "duration": 200,
    "start_time": "2024-05-30T22:29:22.478Z"
   },
   {
    "duration": 230,
    "start_time": "2024-05-30T22:29:37.643Z"
   },
   {
    "duration": 327,
    "start_time": "2024-05-30T22:29:52.532Z"
   },
   {
    "duration": 192,
    "start_time": "2024-05-30T22:30:25.622Z"
   },
   {
    "duration": 168,
    "start_time": "2024-05-30T22:30:32.601Z"
   },
   {
    "duration": 967,
    "start_time": "2024-05-30T22:31:00.005Z"
   },
   {
    "duration": 1366,
    "start_time": "2024-05-30T22:31:04.538Z"
   },
   {
    "duration": 13,
    "start_time": "2024-05-30T22:31:31.286Z"
   },
   {
    "duration": 18,
    "start_time": "2024-05-30T22:31:34.234Z"
   },
   {
    "duration": 8,
    "start_time": "2024-05-30T22:31:38.318Z"
   },
   {
    "duration": 264,
    "start_time": "2024-05-30T22:32:05.490Z"
   },
   {
    "duration": 53,
    "start_time": "2024-05-30T22:32:14.839Z"
   },
   {
    "duration": 97,
    "start_time": "2024-05-30T22:32:41.173Z"
   },
   {
    "duration": 175,
    "start_time": "2024-05-30T22:33:32.906Z"
   },
   {
    "duration": 206,
    "start_time": "2024-05-30T22:33:39.407Z"
   },
   {
    "duration": 163,
    "start_time": "2024-05-30T22:34:15.367Z"
   },
   {
    "duration": 210,
    "start_time": "2024-05-30T22:34:30.155Z"
   },
   {
    "duration": 208,
    "start_time": "2024-05-30T22:34:46.563Z"
   },
   {
    "duration": 224,
    "start_time": "2024-05-30T22:35:09.628Z"
   },
   {
    "duration": 172,
    "start_time": "2024-05-30T22:35:29.474Z"
   },
   {
    "duration": 219,
    "start_time": "2024-05-30T22:37:02.304Z"
   },
   {
    "duration": 220,
    "start_time": "2024-05-30T22:37:21.356Z"
   },
   {
    "duration": 209,
    "start_time": "2024-05-30T22:37:26.445Z"
   },
   {
    "duration": 216,
    "start_time": "2024-05-30T22:38:17.840Z"
   },
   {
    "duration": 211,
    "start_time": "2024-05-30T22:42:53.563Z"
   },
   {
    "duration": 203,
    "start_time": "2024-05-30T22:43:01.274Z"
   },
   {
    "duration": 250,
    "start_time": "2024-05-30T22:43:15.081Z"
   },
   {
    "duration": 216,
    "start_time": "2024-05-30T22:43:31.833Z"
   },
   {
    "duration": 36,
    "start_time": "2024-05-30T22:47:57.327Z"
   },
   {
    "duration": 148,
    "start_time": "2024-05-30T22:48:12.885Z"
   },
   {
    "duration": 636,
    "start_time": "2024-05-30T23:09:36.362Z"
   },
   {
    "duration": 91,
    "start_time": "2024-05-30T23:09:49.734Z"
   },
   {
    "duration": 40,
    "start_time": "2024-05-30T23:10:39.483Z"
   },
   {
    "duration": 44,
    "start_time": "2024-05-30T23:10:45.943Z"
   },
   {
    "duration": 37,
    "start_time": "2024-05-30T23:10:51.094Z"
   },
   {
    "duration": 35,
    "start_time": "2024-05-30T23:11:53.178Z"
   },
   {
    "duration": 38,
    "start_time": "2024-05-30T23:11:54.565Z"
   },
   {
    "duration": 3595,
    "start_time": "2024-05-30T23:12:02.277Z"
   },
   {
    "duration": 1767,
    "start_time": "2024-05-30T23:12:05.880Z"
   },
   {
    "duration": 27,
    "start_time": "2024-05-30T23:12:07.651Z"
   },
   {
    "duration": 4,
    "start_time": "2024-05-30T23:12:07.684Z"
   },
   {
    "duration": 7,
    "start_time": "2024-05-30T23:12:07.692Z"
   },
   {
    "duration": 18,
    "start_time": "2024-05-30T23:12:07.725Z"
   },
   {
    "duration": 7,
    "start_time": "2024-05-30T23:12:07.747Z"
   },
   {
    "duration": 65,
    "start_time": "2024-05-30T23:12:07.758Z"
   },
   {
    "duration": 11,
    "start_time": "2024-05-30T23:12:07.825Z"
   },
   {
    "duration": 12,
    "start_time": "2024-05-30T23:12:07.841Z"
   },
   {
    "duration": 8,
    "start_time": "2024-05-30T23:12:07.856Z"
   },
   {
    "duration": 61,
    "start_time": "2024-05-30T23:12:07.867Z"
   },
   {
    "duration": 17,
    "start_time": "2024-05-30T23:12:07.932Z"
   },
   {
    "duration": 15,
    "start_time": "2024-05-30T23:12:07.953Z"
   },
   {
    "duration": 54,
    "start_time": "2024-05-30T23:12:07.970Z"
   },
   {
    "duration": 8,
    "start_time": "2024-05-30T23:12:08.027Z"
   },
   {
    "duration": 216,
    "start_time": "2024-05-30T23:12:08.038Z"
   },
   {
    "duration": 226,
    "start_time": "2024-05-30T23:12:08.257Z"
   },
   {
    "duration": 237,
    "start_time": "2024-05-30T23:12:08.486Z"
   },
   {
    "duration": 179,
    "start_time": "2024-05-30T23:12:08.725Z"
   },
   {
    "duration": 49,
    "start_time": "2024-05-30T23:12:08.908Z"
   },
   {
    "duration": 453,
    "start_time": "2024-05-30T23:12:08.960Z"
   },
   {
    "duration": 0,
    "start_time": "2024-05-30T23:12:09.424Z"
   },
   {
    "duration": 0,
    "start_time": "2024-05-30T23:12:09.427Z"
   },
   {
    "duration": 0,
    "start_time": "2024-05-30T23:12:09.430Z"
   },
   {
    "duration": 0,
    "start_time": "2024-05-30T23:12:09.433Z"
   },
   {
    "duration": 72,
    "start_time": "2024-05-30T23:12:32.799Z"
   },
   {
    "duration": 100,
    "start_time": "2024-05-30T23:13:00.253Z"
   },
   {
    "duration": 90,
    "start_time": "2024-05-30T23:13:13.757Z"
   },
   {
    "duration": 84,
    "start_time": "2024-05-30T23:13:19.842Z"
   },
   {
    "duration": 13,
    "start_time": "2024-05-30T23:16:56.649Z"
   },
   {
    "duration": 12,
    "start_time": "2024-05-30T23:16:58.617Z"
   },
   {
    "duration": 12,
    "start_time": "2024-05-30T23:17:21.691Z"
   },
   {
    "duration": 12,
    "start_time": "2024-05-30T23:17:31.907Z"
   },
   {
    "duration": 13,
    "start_time": "2024-05-30T23:17:45.247Z"
   },
   {
    "duration": 14,
    "start_time": "2024-05-30T23:17:56.641Z"
   },
   {
    "duration": 13,
    "start_time": "2024-05-30T23:18:08.013Z"
   },
   {
    "duration": 11,
    "start_time": "2024-05-30T23:20:34.165Z"
   },
   {
    "duration": 11,
    "start_time": "2024-05-30T23:20:43.685Z"
   },
   {
    "duration": 13,
    "start_time": "2024-05-30T23:20:52.453Z"
   },
   {
    "duration": 14,
    "start_time": "2024-05-30T23:21:09.504Z"
   },
   {
    "duration": 245,
    "start_time": "2024-05-30T23:21:44.891Z"
   },
   {
    "duration": 263,
    "start_time": "2024-05-30T23:22:02.765Z"
   },
   {
    "duration": 3991,
    "start_time": "2024-05-30T23:22:36.842Z"
   },
   {
    "duration": 1889,
    "start_time": "2024-05-30T23:22:40.838Z"
   },
   {
    "duration": 30,
    "start_time": "2024-05-30T23:22:42.732Z"
   },
   {
    "duration": 6,
    "start_time": "2024-05-30T23:22:42.768Z"
   },
   {
    "duration": 8,
    "start_time": "2024-05-30T23:22:42.778Z"
   },
   {
    "duration": 55,
    "start_time": "2024-05-30T23:22:42.789Z"
   },
   {
    "duration": 8,
    "start_time": "2024-05-30T23:22:42.849Z"
   },
   {
    "duration": 82,
    "start_time": "2024-05-30T23:22:42.861Z"
   },
   {
    "duration": 12,
    "start_time": "2024-05-30T23:22:42.946Z"
   },
   {
    "duration": 14,
    "start_time": "2024-05-30T23:22:42.967Z"
   },
   {
    "duration": 13,
    "start_time": "2024-05-30T23:22:43.025Z"
   },
   {
    "duration": 19,
    "start_time": "2024-05-30T23:22:43.041Z"
   },
   {
    "duration": 62,
    "start_time": "2024-05-30T23:22:43.065Z"
   },
   {
    "duration": 15,
    "start_time": "2024-05-30T23:22:43.131Z"
   },
   {
    "duration": 20,
    "start_time": "2024-05-30T23:22:43.150Z"
   },
   {
    "duration": 50,
    "start_time": "2024-05-30T23:22:43.173Z"
   },
   {
    "duration": 232,
    "start_time": "2024-05-30T23:22:43.227Z"
   },
   {
    "duration": 268,
    "start_time": "2024-05-30T23:22:43.462Z"
   },
   {
    "duration": 267,
    "start_time": "2024-05-30T23:22:43.733Z"
   },
   {
    "duration": 206,
    "start_time": "2024-05-30T23:22:44.005Z"
   },
   {
    "duration": 12,
    "start_time": "2024-05-30T23:22:44.223Z"
   },
   {
    "duration": 934,
    "start_time": "2024-05-30T23:22:44.239Z"
   },
   {
    "duration": 781,
    "start_time": "2024-05-30T23:23:53.973Z"
   },
   {
    "duration": 241,
    "start_time": "2024-05-30T23:24:06.203Z"
   },
   {
    "duration": 296,
    "start_time": "2024-05-30T23:24:12.539Z"
   },
   {
    "duration": 803,
    "start_time": "2024-05-30T23:25:24.510Z"
   },
   {
    "duration": 256,
    "start_time": "2024-05-30T23:25:36.872Z"
   },
   {
    "duration": 297,
    "start_time": "2024-05-30T23:25:45.439Z"
   },
   {
    "duration": 329,
    "start_time": "2024-05-30T23:26:26.300Z"
   },
   {
    "duration": 61,
    "start_time": "2024-05-30T23:28:03.294Z"
   },
   {
    "duration": 240,
    "start_time": "2024-05-30T23:28:13.193Z"
   },
   {
    "duration": 311,
    "start_time": "2024-05-30T23:28:19.228Z"
   },
   {
    "duration": 248,
    "start_time": "2024-05-30T23:28:41.288Z"
   },
   {
    "duration": 15,
    "start_time": "2024-05-30T23:32:07.200Z"
   },
   {
    "duration": 30,
    "start_time": "2024-05-30T23:32:45.512Z"
   },
   {
    "duration": 8,
    "start_time": "2024-05-30T23:33:19.401Z"
   },
   {
    "duration": 6,
    "start_time": "2024-05-30T23:33:23.645Z"
   },
   {
    "duration": 3,
    "start_time": "2024-05-30T23:33:34.887Z"
   },
   {
    "duration": 55,
    "start_time": "2024-05-30T23:33:54.652Z"
   },
   {
    "duration": 52,
    "start_time": "2024-05-30T23:34:21.349Z"
   },
   {
    "duration": 57,
    "start_time": "2024-05-30T23:36:00.604Z"
   },
   {
    "duration": 60,
    "start_time": "2024-05-30T23:36:20.579Z"
   },
   {
    "duration": 62,
    "start_time": "2024-05-30T23:36:28.418Z"
   },
   {
    "duration": 58,
    "start_time": "2024-05-30T23:36:37.476Z"
   },
   {
    "duration": 9,
    "start_time": "2024-05-30T23:38:44.562Z"
   },
   {
    "duration": 6,
    "start_time": "2024-05-30T23:38:47.281Z"
   },
   {
    "duration": 4,
    "start_time": "2024-05-30T23:39:03.039Z"
   },
   {
    "duration": 4,
    "start_time": "2024-05-30T23:39:14.949Z"
   },
   {
    "duration": 1091,
    "start_time": "2024-05-30T23:39:29.067Z"
   },
   {
    "duration": 1110,
    "start_time": "2024-05-30T23:39:53.851Z"
   },
   {
    "duration": 1100,
    "start_time": "2024-05-30T23:40:16.143Z"
   },
   {
    "duration": 1137,
    "start_time": "2024-05-30T23:40:39.428Z"
   },
   {
    "duration": 13861,
    "start_time": "2024-05-30T23:42:54.924Z"
   },
   {
    "duration": 54,
    "start_time": "2024-05-30T23:43:11.881Z"
   },
   {
    "duration": 3581,
    "start_time": "2024-05-30T23:43:33.977Z"
   },
   {
    "duration": 1632,
    "start_time": "2024-05-30T23:43:37.562Z"
   },
   {
    "duration": 43,
    "start_time": "2024-05-30T23:43:39.197Z"
   },
   {
    "duration": 6,
    "start_time": "2024-05-30T23:43:39.244Z"
   },
   {
    "duration": 6,
    "start_time": "2024-05-30T23:43:39.257Z"
   },
   {
    "duration": 19,
    "start_time": "2024-05-30T23:43:39.267Z"
   },
   {
    "duration": 6,
    "start_time": "2024-05-30T23:43:39.322Z"
   },
   {
    "duration": 31,
    "start_time": "2024-05-30T23:43:39.332Z"
   },
   {
    "duration": 11,
    "start_time": "2024-05-30T23:43:39.366Z"
   },
   {
    "duration": 52,
    "start_time": "2024-05-30T23:43:39.379Z"
   },
   {
    "duration": 8,
    "start_time": "2024-05-30T23:43:39.435Z"
   },
   {
    "duration": 19,
    "start_time": "2024-05-30T23:43:39.448Z"
   },
   {
    "duration": 57,
    "start_time": "2024-05-30T23:43:39.471Z"
   },
   {
    "duration": 12,
    "start_time": "2024-05-30T23:43:39.536Z"
   },
   {
    "duration": 17,
    "start_time": "2024-05-30T23:43:39.550Z"
   },
   {
    "duration": 52,
    "start_time": "2024-05-30T23:43:39.571Z"
   },
   {
    "duration": 239,
    "start_time": "2024-05-30T23:43:39.626Z"
   },
   {
    "duration": 247,
    "start_time": "2024-05-30T23:43:39.868Z"
   },
   {
    "duration": 240,
    "start_time": "2024-05-30T23:43:40.122Z"
   },
   {
    "duration": 192,
    "start_time": "2024-05-30T23:43:40.365Z"
   },
   {
    "duration": 15,
    "start_time": "2024-05-30T23:43:40.561Z"
   },
   {
    "duration": 370,
    "start_time": "2024-05-30T23:43:40.578Z"
   },
   {
    "duration": 139,
    "start_time": "2024-05-30T23:43:41.025Z"
   },
   {
    "duration": 13470,
    "start_time": "2024-05-30T23:44:07.086Z"
   },
   {
    "duration": 182,
    "start_time": "2024-05-30T23:44:20.560Z"
   },
   {
    "duration": 25828,
    "start_time": "2024-05-30T23:44:54.537Z"
   },
   {
    "duration": 104780,
    "start_time": "2024-05-30T23:48:05.230Z"
   },
   {
    "duration": 573,
    "start_time": "2024-05-30T23:49:59.387Z"
   },
   {
    "duration": 174,
    "start_time": "2024-05-30T23:50:19.650Z"
   },
   {
    "duration": 103475,
    "start_time": "2024-05-30T23:50:55.137Z"
   },
   {
    "duration": 0,
    "start_time": "2024-05-30T23:52:38.615Z"
   },
   {
    "duration": 1018,
    "start_time": "2024-05-30T23:52:43.148Z"
   },
   {
    "duration": 26425,
    "start_time": "2024-05-30T23:52:51.468Z"
   },
   {
    "duration": 26115,
    "start_time": "2024-05-30T23:56:56.398Z"
   },
   {
    "duration": 25862,
    "start_time": "2024-05-30T23:57:38.042Z"
   },
   {
    "duration": 13141,
    "start_time": "2024-05-30T23:58:39.010Z"
   },
   {
    "duration": 10117,
    "start_time": "2024-05-30T23:59:01.416Z"
   },
   {
    "duration": 26326,
    "start_time": "2024-05-30T23:59:19.022Z"
   },
   {
    "duration": 4,
    "start_time": "2024-05-30T23:59:58.614Z"
   },
   {
    "duration": 1270,
    "start_time": "2024-05-31T00:02:35.232Z"
   },
   {
    "duration": 458,
    "start_time": "2024-05-31T00:03:08.080Z"
   },
   {
    "duration": 583,
    "start_time": "2024-05-31T00:03:19.757Z"
   },
   {
    "duration": 466,
    "start_time": "2024-05-31T00:04:19.167Z"
   },
   {
    "duration": 494,
    "start_time": "2024-05-31T00:04:45.744Z"
   },
   {
    "duration": 596,
    "start_time": "2024-05-31T00:05:20.347Z"
   },
   {
    "duration": 608,
    "start_time": "2024-05-31T00:05:29.632Z"
   },
   {
    "duration": 462,
    "start_time": "2024-05-31T00:05:48.673Z"
   },
   {
    "duration": 114,
    "start_time": "2024-05-31T00:07:06.257Z"
   },
   {
    "duration": 141,
    "start_time": "2024-05-31T00:08:29.000Z"
   },
   {
    "duration": 121,
    "start_time": "2024-05-31T00:08:35.586Z"
   },
   {
    "duration": 116,
    "start_time": "2024-05-31T00:08:49.210Z"
   },
   {
    "duration": 26785,
    "start_time": "2024-05-31T00:10:29.627Z"
   },
   {
    "duration": 25799,
    "start_time": "2024-05-31T00:11:07.000Z"
   },
   {
    "duration": 19821,
    "start_time": "2024-05-31T00:11:58.569Z"
   },
   {
    "duration": 25882,
    "start_time": "2024-05-31T00:12:28.642Z"
   },
   {
    "duration": 26206,
    "start_time": "2024-05-31T00:13:36.995Z"
   },
   {
    "duration": 1084,
    "start_time": "2024-05-31T00:14:21.885Z"
   },
   {
    "duration": 26785,
    "start_time": "2024-05-31T00:14:28.639Z"
   },
   {
    "duration": 26808,
    "start_time": "2024-05-31T00:16:25.919Z"
   },
   {
    "duration": 26755,
    "start_time": "2024-05-31T00:17:05.143Z"
   },
   {
    "duration": 27287,
    "start_time": "2024-05-31T00:19:26.965Z"
   },
   {
    "duration": 26634,
    "start_time": "2024-05-31T00:21:04.548Z"
   },
   {
    "duration": 7176,
    "start_time": "2024-05-31T23:16:15.513Z"
   },
   {
    "duration": 6255,
    "start_time": "2024-05-31T23:16:22.694Z"
   },
   {
    "duration": 0,
    "start_time": "2024-05-31T23:16:28.954Z"
   },
   {
    "duration": 0,
    "start_time": "2024-05-31T23:16:28.955Z"
   },
   {
    "duration": 0,
    "start_time": "2024-05-31T23:16:28.957Z"
   },
   {
    "duration": 0,
    "start_time": "2024-05-31T23:16:28.959Z"
   },
   {
    "duration": 0,
    "start_time": "2024-05-31T23:16:28.960Z"
   },
   {
    "duration": 0,
    "start_time": "2024-05-31T23:16:28.962Z"
   },
   {
    "duration": 0,
    "start_time": "2024-05-31T23:16:28.964Z"
   },
   {
    "duration": 0,
    "start_time": "2024-05-31T23:16:28.966Z"
   },
   {
    "duration": 0,
    "start_time": "2024-05-31T23:16:28.968Z"
   },
   {
    "duration": 0,
    "start_time": "2024-05-31T23:16:28.970Z"
   },
   {
    "duration": 0,
    "start_time": "2024-05-31T23:16:28.972Z"
   },
   {
    "duration": 0,
    "start_time": "2024-05-31T23:16:29.007Z"
   },
   {
    "duration": 0,
    "start_time": "2024-05-31T23:16:29.012Z"
   },
   {
    "duration": 0,
    "start_time": "2024-05-31T23:16:29.015Z"
   },
   {
    "duration": 0,
    "start_time": "2024-05-31T23:16:29.018Z"
   },
   {
    "duration": 0,
    "start_time": "2024-05-31T23:16:29.020Z"
   },
   {
    "duration": 0,
    "start_time": "2024-05-31T23:16:29.023Z"
   },
   {
    "duration": 0,
    "start_time": "2024-05-31T23:16:29.026Z"
   },
   {
    "duration": 27,
    "start_time": "2024-05-31T23:16:37.295Z"
   },
   {
    "duration": 29,
    "start_time": "2024-05-31T23:16:38.823Z"
   },
   {
    "duration": 3415,
    "start_time": "2024-05-31T23:16:45.284Z"
   },
   {
    "duration": 34,
    "start_time": "2024-05-31T23:16:48.704Z"
   },
   {
    "duration": 0,
    "start_time": "2024-05-31T23:16:48.742Z"
   },
   {
    "duration": 0,
    "start_time": "2024-05-31T23:16:48.745Z"
   },
   {
    "duration": 0,
    "start_time": "2024-05-31T23:16:48.747Z"
   },
   {
    "duration": 0,
    "start_time": "2024-05-31T23:16:48.749Z"
   },
   {
    "duration": 0,
    "start_time": "2024-05-31T23:16:48.751Z"
   },
   {
    "duration": 0,
    "start_time": "2024-05-31T23:16:48.753Z"
   },
   {
    "duration": 0,
    "start_time": "2024-05-31T23:16:48.755Z"
   },
   {
    "duration": 0,
    "start_time": "2024-05-31T23:16:48.758Z"
   },
   {
    "duration": 0,
    "start_time": "2024-05-31T23:16:48.760Z"
   },
   {
    "duration": 0,
    "start_time": "2024-05-31T23:16:48.762Z"
   },
   {
    "duration": 0,
    "start_time": "2024-05-31T23:16:48.764Z"
   },
   {
    "duration": 0,
    "start_time": "2024-05-31T23:16:48.765Z"
   },
   {
    "duration": 0,
    "start_time": "2024-05-31T23:16:48.767Z"
   },
   {
    "duration": 0,
    "start_time": "2024-05-31T23:16:48.809Z"
   },
   {
    "duration": 0,
    "start_time": "2024-05-31T23:16:48.811Z"
   },
   {
    "duration": 0,
    "start_time": "2024-05-31T23:16:48.814Z"
   },
   {
    "duration": 0,
    "start_time": "2024-05-31T23:16:48.816Z"
   },
   {
    "duration": 0,
    "start_time": "2024-05-31T23:16:48.818Z"
   },
   {
    "duration": 0,
    "start_time": "2024-05-31T23:16:48.821Z"
   },
   {
    "duration": 31,
    "start_time": "2024-05-31T23:16:50.455Z"
   },
   {
    "duration": 26,
    "start_time": "2024-05-31T23:16:54.067Z"
   },
   {
    "duration": 24,
    "start_time": "2024-05-31T23:16:55.246Z"
   },
   {
    "duration": 27,
    "start_time": "2024-05-31T23:17:03.740Z"
   },
   {
    "duration": 3542,
    "start_time": "2024-05-31T23:17:08.192Z"
   },
   {
    "duration": 34,
    "start_time": "2024-05-31T23:17:11.737Z"
   },
   {
    "duration": 1593,
    "start_time": "2024-05-31T23:17:30.225Z"
   },
   {
    "duration": 42,
    "start_time": "2024-05-31T23:17:32.071Z"
   },
   {
    "duration": 4,
    "start_time": "2024-05-31T23:17:33.973Z"
   },
   {
    "duration": 5,
    "start_time": "2024-05-31T23:17:34.380Z"
   },
   {
    "duration": 18,
    "start_time": "2024-05-31T23:17:34.820Z"
   },
   {
    "duration": 6,
    "start_time": "2024-05-31T23:17:37.759Z"
   },
   {
    "duration": 32,
    "start_time": "2024-05-31T23:17:38.439Z"
   },
   {
    "duration": 11,
    "start_time": "2024-05-31T23:17:39.274Z"
   },
   {
    "duration": 12,
    "start_time": "2024-05-31T23:17:39.954Z"
   },
   {
    "duration": 8,
    "start_time": "2024-05-31T23:17:40.228Z"
   },
   {
    "duration": 17,
    "start_time": "2024-05-31T23:17:40.559Z"
   },
   {
    "duration": 16,
    "start_time": "2024-05-31T23:17:41.475Z"
   },
   {
    "duration": 11,
    "start_time": "2024-05-31T23:17:41.750Z"
   },
   {
    "duration": 20,
    "start_time": "2024-05-31T23:17:42.303Z"
   },
   {
    "duration": 8,
    "start_time": "2024-05-31T23:17:42.854Z"
   },
   {
    "duration": 183,
    "start_time": "2024-05-31T23:17:43.137Z"
   },
   {
    "duration": 227,
    "start_time": "2024-05-31T23:17:43.666Z"
   },
   {
    "duration": 212,
    "start_time": "2024-05-31T23:17:44.623Z"
   },
   {
    "duration": 247,
    "start_time": "2024-05-31T23:17:48.175Z"
   },
   {
    "duration": 164,
    "start_time": "2024-05-31T23:17:49.468Z"
   },
   {
    "duration": 13,
    "start_time": "2024-05-31T23:17:54.724Z"
   },
   {
    "duration": 236,
    "start_time": "2024-05-31T23:17:55.585Z"
   },
   {
    "duration": 285,
    "start_time": "2024-05-31T23:19:19.343Z"
   },
   {
    "duration": 272,
    "start_time": "2024-05-31T23:20:00.736Z"
   },
   {
    "duration": 309,
    "start_time": "2024-05-31T23:20:18.803Z"
   },
   {
    "duration": 279,
    "start_time": "2024-05-31T23:20:51.028Z"
   },
   {
    "duration": 271,
    "start_time": "2024-05-31T23:20:54.846Z"
   },
   {
    "duration": 303,
    "start_time": "2024-05-31T23:20:57.204Z"
   },
   {
    "duration": 288,
    "start_time": "2024-05-31T23:21:29.047Z"
   },
   {
    "duration": 292,
    "start_time": "2024-05-31T23:21:31.617Z"
   },
   {
    "duration": 5,
    "start_time": "2024-05-31T23:22:36.751Z"
   },
   {
    "duration": 5,
    "start_time": "2024-05-31T23:22:54.656Z"
   },
   {
    "duration": 4,
    "start_time": "2024-05-31T23:22:58.582Z"
   },
   {
    "duration": 4,
    "start_time": "2024-05-31T23:23:18.629Z"
   },
   {
    "duration": 57,
    "start_time": "2024-05-31T23:23:31.322Z"
   },
   {
    "duration": 68,
    "start_time": "2024-05-31T23:24:17.559Z"
   },
   {
    "duration": 58,
    "start_time": "2024-05-31T23:24:19.379Z"
   },
   {
    "duration": 63,
    "start_time": "2024-05-31T23:24:21.338Z"
   },
   {
    "duration": 6,
    "start_time": "2024-05-31T23:24:58.411Z"
   },
   {
    "duration": 5,
    "start_time": "2024-05-31T23:26:47.882Z"
   },
   {
    "duration": 5,
    "start_time": "2024-05-31T23:27:16.127Z"
   },
   {
    "duration": 13081,
    "start_time": "2024-05-31T23:27:22.308Z"
   },
   {
    "duration": 13028,
    "start_time": "2024-05-31T23:32:10.971Z"
   },
   {
    "duration": 7688,
    "start_time": "2024-05-31T23:33:01.139Z"
   },
   {
    "duration": 9904,
    "start_time": "2024-05-31T23:33:15.814Z"
   },
   {
    "duration": 5443,
    "start_time": "2024-05-31T23:33:31.438Z"
   },
   {
    "duration": 6196,
    "start_time": "2024-05-31T23:33:42.105Z"
   },
   {
    "duration": 7797,
    "start_time": "2024-05-31T23:33:57.457Z"
   },
   {
    "duration": 6885,
    "start_time": "2024-05-31T23:34:08.921Z"
   },
   {
    "duration": 9166,
    "start_time": "2024-05-31T23:34:19.847Z"
   },
   {
    "duration": 10676,
    "start_time": "2024-05-31T23:34:33.190Z"
   },
   {
    "duration": 10701,
    "start_time": "2024-05-31T23:34:57.757Z"
   },
   {
    "duration": 5,
    "start_time": "2024-05-31T23:38:06.598Z"
   },
   {
    "duration": 4,
    "start_time": "2024-05-31T23:38:13.130Z"
   },
   {
    "duration": 511,
    "start_time": "2024-05-31T23:47:31.147Z"
   },
   {
    "duration": 33,
    "start_time": "2024-05-31T23:47:38.226Z"
   },
   {
    "duration": 35,
    "start_time": "2024-05-31T23:47:59.446Z"
   },
   {
    "duration": 34,
    "start_time": "2024-05-31T23:48:09.520Z"
   },
   {
    "duration": 33,
    "start_time": "2024-05-31T23:48:13.883Z"
   },
   {
    "duration": 37,
    "start_time": "2024-05-31T23:49:36.660Z"
   },
   {
    "duration": 5,
    "start_time": "2024-05-31T23:50:15.133Z"
   },
   {
    "duration": 12,
    "start_time": "2024-05-31T23:51:43.922Z"
   },
   {
    "duration": 15,
    "start_time": "2024-05-31T23:51:51.003Z"
   },
   {
    "duration": 15,
    "start_time": "2024-05-31T23:52:08.671Z"
   },
   {
    "duration": 24,
    "start_time": "2024-05-31T23:52:43.204Z"
   },
   {
    "duration": 13,
    "start_time": "2024-05-31T23:52:59.276Z"
   },
   {
    "duration": 238,
    "start_time": "2024-05-31T23:59:13.134Z"
   },
   {
    "duration": 29,
    "start_time": "2024-05-31T23:59:31.931Z"
   },
   {
    "duration": 15,
    "start_time": "2024-06-01T00:00:31.801Z"
   },
   {
    "duration": 436,
    "start_time": "2024-06-01T00:01:50.272Z"
   },
   {
    "duration": 209,
    "start_time": "2024-06-01T00:03:35.116Z"
   },
   {
    "duration": 17,
    "start_time": "2024-06-01T00:03:51.161Z"
   },
   {
    "duration": 175,
    "start_time": "2024-06-01T00:03:55.632Z"
   },
   {
    "duration": 86,
    "start_time": "2024-06-01T00:05:20.278Z"
   },
   {
    "duration": 87,
    "start_time": "2024-06-01T00:05:27.237Z"
   },
   {
    "duration": 509,
    "start_time": "2024-06-01T00:05:31.732Z"
   },
   {
    "duration": 70,
    "start_time": "2024-06-01T00:05:52.056Z"
   },
   {
    "duration": 28,
    "start_time": "2024-06-01T00:06:25.167Z"
   },
   {
    "duration": 71,
    "start_time": "2024-06-01T00:07:15.623Z"
   },
   {
    "duration": 71,
    "start_time": "2024-06-01T00:07:40.332Z"
   },
   {
    "duration": 71,
    "start_time": "2024-06-01T00:07:55.653Z"
   },
   {
    "duration": 30,
    "start_time": "2024-06-01T00:09:24.919Z"
   },
   {
    "duration": 270,
    "start_time": "2024-06-01T00:10:51.257Z"
   },
   {
    "duration": 72,
    "start_time": "2024-06-01T00:11:09.215Z"
   },
   {
    "duration": 28,
    "start_time": "2024-06-01T00:11:17.653Z"
   },
   {
    "duration": 13249,
    "start_time": "2024-06-01T00:14:29.957Z"
   },
   {
    "duration": 5220,
    "start_time": "2024-06-01T00:15:53.942Z"
   },
   {
    "duration": 5459,
    "start_time": "2024-06-01T00:25:07.646Z"
   },
   {
    "duration": 13140,
    "start_time": "2024-06-01T00:25:41.812Z"
   },
   {
    "duration": 179,
    "start_time": "2024-06-01T00:27:20.399Z"
   },
   {
    "duration": 13154,
    "start_time": "2024-06-01T00:27:40.229Z"
   },
   {
    "duration": 167,
    "start_time": "2024-06-01T00:29:38.135Z"
   },
   {
    "duration": 13123,
    "start_time": "2024-06-01T00:30:10.323Z"
   },
   {
    "duration": 7098,
    "start_time": "2024-06-01T02:41:34.485Z"
   },
   {
    "duration": 5225,
    "start_time": "2024-06-01T02:41:50.798Z"
   },
   {
    "duration": 42,
    "start_time": "2024-06-01T02:41:56.026Z"
   },
   {
    "duration": 5,
    "start_time": "2024-06-01T02:41:56.070Z"
   },
   {
    "duration": 5,
    "start_time": "2024-06-01T02:41:56.079Z"
   },
   {
    "duration": 18,
    "start_time": "2024-06-01T02:41:56.088Z"
   },
   {
    "duration": 25,
    "start_time": "2024-06-01T02:41:56.109Z"
   },
   {
    "duration": 30,
    "start_time": "2024-06-01T02:41:56.137Z"
   },
   {
    "duration": 9,
    "start_time": "2024-06-01T02:41:56.629Z"
   },
   {
    "duration": 11,
    "start_time": "2024-06-01T02:41:57.338Z"
   },
   {
    "duration": 9,
    "start_time": "2024-06-01T02:41:57.679Z"
   },
   {
    "duration": 16,
    "start_time": "2024-06-01T02:41:57.962Z"
   },
   {
    "duration": 23,
    "start_time": "2024-06-01T02:41:58.822Z"
   },
   {
    "duration": 12,
    "start_time": "2024-06-01T02:41:59.054Z"
   },
   {
    "duration": 16,
    "start_time": "2024-06-01T02:41:59.561Z"
   },
   {
    "duration": 7,
    "start_time": "2024-06-01T02:41:59.993Z"
   },
   {
    "duration": 185,
    "start_time": "2024-06-01T02:42:00.197Z"
   },
   {
    "duration": 269,
    "start_time": "2024-06-01T02:42:00.592Z"
   },
   {
    "duration": 221,
    "start_time": "2024-06-01T02:42:00.965Z"
   },
   {
    "duration": 3510,
    "start_time": "2024-06-01T02:42:18.202Z"
   },
   {
    "duration": 1588,
    "start_time": "2024-06-01T02:42:21.717Z"
   },
   {
    "duration": 34,
    "start_time": "2024-06-01T02:42:23.309Z"
   },
   {
    "duration": 5,
    "start_time": "2024-06-01T02:42:23.346Z"
   },
   {
    "duration": 7,
    "start_time": "2024-06-01T02:42:23.357Z"
   },
   {
    "duration": 22,
    "start_time": "2024-06-01T02:42:23.368Z"
   },
   {
    "duration": 41,
    "start_time": "2024-06-01T02:42:23.393Z"
   },
   {
    "duration": 33,
    "start_time": "2024-06-01T02:42:23.437Z"
   },
   {
    "duration": 11,
    "start_time": "2024-06-01T02:42:23.473Z"
   },
   {
    "duration": 11,
    "start_time": "2024-06-01T02:42:23.487Z"
   },
   {
    "duration": 8,
    "start_time": "2024-06-01T02:42:23.533Z"
   },
   {
    "duration": 19,
    "start_time": "2024-06-01T02:42:23.543Z"
   },
   {
    "duration": 16,
    "start_time": "2024-06-01T02:42:23.565Z"
   },
   {
    "duration": 48,
    "start_time": "2024-06-01T02:42:23.588Z"
   },
   {
    "duration": 17,
    "start_time": "2024-06-01T02:42:23.639Z"
   },
   {
    "duration": 8,
    "start_time": "2024-06-01T02:42:23.658Z"
   },
   {
    "duration": 224,
    "start_time": "2024-06-01T02:42:23.669Z"
   },
   {
    "duration": 239,
    "start_time": "2024-06-01T02:42:23.896Z"
   },
   {
    "duration": 226,
    "start_time": "2024-06-01T02:42:24.137Z"
   },
   {
    "duration": 174,
    "start_time": "2024-06-01T02:42:24.366Z"
   },
   {
    "duration": 15,
    "start_time": "2024-06-01T02:42:24.543Z"
   },
   {
    "duration": 574,
    "start_time": "2024-06-01T02:42:24.560Z"
   },
   {
    "duration": 400,
    "start_time": "2024-06-01T02:42:25.141Z"
   },
   {
    "duration": 85,
    "start_time": "2024-06-01T02:42:25.548Z"
   },
   {
    "duration": 57,
    "start_time": "2024-06-01T02:42:25.636Z"
   },
   {
    "duration": 82,
    "start_time": "2024-06-01T02:42:25.696Z"
   },
   {
    "duration": 4,
    "start_time": "2024-06-01T02:42:25.781Z"
   },
   {
    "duration": 10730,
    "start_time": "2024-06-01T02:42:25.788Z"
   },
   {
    "duration": 10735,
    "start_time": "2024-06-01T02:42:36.521Z"
   },
   {
    "duration": 5,
    "start_time": "2024-06-01T02:42:47.259Z"
   },
   {
    "duration": 31,
    "start_time": "2024-06-01T02:42:47.266Z"
   },
   {
    "duration": 44,
    "start_time": "2024-06-01T02:42:47.300Z"
   },
   {
    "duration": 393,
    "start_time": "2024-06-01T02:42:47.348Z"
   },
   {
    "duration": 289,
    "start_time": "2024-06-01T02:42:47.746Z"
   },
   {
    "duration": 143,
    "start_time": "2024-06-01T02:42:48.039Z"
   },
   {
    "duration": 29,
    "start_time": "2024-06-01T02:42:48.185Z"
   },
   {
    "duration": 13342,
    "start_time": "2024-06-01T02:42:48.217Z"
   },
   {
    "duration": 5272,
    "start_time": "2024-06-01T02:43:01.562Z"
   },
   {
    "duration": 13731,
    "start_time": "2024-06-01T02:43:06.837Z"
   },
   {
    "duration": 5,
    "start_time": "2024-06-01T02:43:41.766Z"
   },
   {
    "duration": 377,
    "start_time": "2024-06-01T02:44:49.879Z"
   },
   {
    "duration": 877,
    "start_time": "2024-06-01T02:45:32.333Z"
   },
   {
    "duration": 508,
    "start_time": "2024-06-01T02:45:54.132Z"
   },
   {
    "duration": 512,
    "start_time": "2024-06-01T02:46:05.709Z"
   },
   {
    "duration": 768,
    "start_time": "2024-06-01T02:47:07.569Z"
   },
   {
    "duration": 462,
    "start_time": "2024-06-01T02:47:26.401Z"
   },
   {
    "duration": 396,
    "start_time": "2024-06-01T02:47:47.083Z"
   },
   {
    "duration": 375,
    "start_time": "2024-06-01T02:48:15.279Z"
   },
   {
    "duration": 396,
    "start_time": "2024-06-01T02:48:33.349Z"
   },
   {
    "duration": 1409,
    "start_time": "2024-06-01T02:52:19.397Z"
   },
   {
    "duration": 1094,
    "start_time": "2024-06-01T02:52:36.095Z"
   },
   {
    "duration": 1130,
    "start_time": "2024-06-01T02:52:44.080Z"
   },
   {
    "duration": 1241,
    "start_time": "2024-06-01T02:52:59.857Z"
   },
   {
    "duration": 408,
    "start_time": "2024-06-01T02:53:29.937Z"
   },
   {
    "duration": 402,
    "start_time": "2024-06-01T02:53:44.746Z"
   },
   {
    "duration": 422,
    "start_time": "2024-06-01T02:54:36.242Z"
   },
   {
    "duration": 415,
    "start_time": "2024-06-01T02:54:43.437Z"
   },
   {
    "duration": 6992,
    "start_time": "2024-06-01T13:43:57.197Z"
   },
   {
    "duration": 5575,
    "start_time": "2024-06-01T13:44:04.193Z"
   },
   {
    "duration": 0,
    "start_time": "2024-06-01T13:44:09.774Z"
   },
   {
    "duration": 0,
    "start_time": "2024-06-01T13:44:09.776Z"
   },
   {
    "duration": 0,
    "start_time": "2024-06-01T13:44:09.778Z"
   },
   {
    "duration": 0,
    "start_time": "2024-06-01T13:44:09.781Z"
   },
   {
    "duration": 0,
    "start_time": "2024-06-01T13:44:09.784Z"
   },
   {
    "duration": 1,
    "start_time": "2024-06-01T13:44:09.786Z"
   },
   {
    "duration": 0,
    "start_time": "2024-06-01T13:44:09.789Z"
   },
   {
    "duration": 0,
    "start_time": "2024-06-01T13:44:09.791Z"
   },
   {
    "duration": 0,
    "start_time": "2024-06-01T13:44:09.793Z"
   },
   {
    "duration": 0,
    "start_time": "2024-06-01T13:44:09.832Z"
   },
   {
    "duration": 0,
    "start_time": "2024-06-01T13:44:09.834Z"
   },
   {
    "duration": 0,
    "start_time": "2024-06-01T13:44:09.837Z"
   },
   {
    "duration": 1,
    "start_time": "2024-06-01T13:44:09.839Z"
   },
   {
    "duration": 0,
    "start_time": "2024-06-01T13:44:09.842Z"
   },
   {
    "duration": 0,
    "start_time": "2024-06-01T13:44:09.843Z"
   },
   {
    "duration": 0,
    "start_time": "2024-06-01T13:44:09.845Z"
   },
   {
    "duration": 0,
    "start_time": "2024-06-01T13:44:09.846Z"
   },
   {
    "duration": 0,
    "start_time": "2024-06-01T13:44:09.847Z"
   },
   {
    "duration": 0,
    "start_time": "2024-06-01T13:44:09.848Z"
   },
   {
    "duration": 0,
    "start_time": "2024-06-01T13:44:09.850Z"
   },
   {
    "duration": 0,
    "start_time": "2024-06-01T13:44:09.853Z"
   },
   {
    "duration": 0,
    "start_time": "2024-06-01T13:44:09.854Z"
   },
   {
    "duration": 0,
    "start_time": "2024-06-01T13:44:09.856Z"
   },
   {
    "duration": 1,
    "start_time": "2024-06-01T13:44:09.857Z"
   },
   {
    "duration": 0,
    "start_time": "2024-06-01T13:44:09.860Z"
   },
   {
    "duration": 0,
    "start_time": "2024-06-01T13:44:09.862Z"
   },
   {
    "duration": 0,
    "start_time": "2024-06-01T13:44:09.864Z"
   },
   {
    "duration": 0,
    "start_time": "2024-06-01T13:44:09.866Z"
   },
   {
    "duration": 0,
    "start_time": "2024-06-01T13:44:09.869Z"
   },
   {
    "duration": 0,
    "start_time": "2024-06-01T13:44:09.871Z"
   },
   {
    "duration": 0,
    "start_time": "2024-06-01T13:44:09.873Z"
   },
   {
    "duration": 0,
    "start_time": "2024-06-01T13:44:09.874Z"
   },
   {
    "duration": 0,
    "start_time": "2024-06-01T13:44:09.933Z"
   },
   {
    "duration": 0,
    "start_time": "2024-06-01T13:44:09.934Z"
   },
   {
    "duration": 0,
    "start_time": "2024-06-01T13:44:09.937Z"
   },
   {
    "duration": 0,
    "start_time": "2024-06-01T13:44:09.940Z"
   },
   {
    "duration": 0,
    "start_time": "2024-06-01T13:44:09.942Z"
   },
   {
    "duration": 4488,
    "start_time": "2024-06-01T13:45:23.747Z"
   },
   {
    "duration": 1693,
    "start_time": "2024-06-01T13:45:28.241Z"
   },
   {
    "duration": 39,
    "start_time": "2024-06-01T13:45:29.937Z"
   },
   {
    "duration": 4,
    "start_time": "2024-06-01T13:45:29.981Z"
   },
   {
    "duration": 7,
    "start_time": "2024-06-01T13:45:29.988Z"
   },
   {
    "duration": 38,
    "start_time": "2024-06-01T13:45:29.998Z"
   },
   {
    "duration": 6,
    "start_time": "2024-06-01T13:45:30.038Z"
   },
   {
    "duration": 30,
    "start_time": "2024-06-01T13:45:30.047Z"
   },
   {
    "duration": 9,
    "start_time": "2024-06-01T13:45:30.081Z"
   },
   {
    "duration": 12,
    "start_time": "2024-06-01T13:45:30.132Z"
   },
   {
    "duration": 8,
    "start_time": "2024-06-01T13:45:30.146Z"
   },
   {
    "duration": 16,
    "start_time": "2024-06-01T13:45:30.156Z"
   },
   {
    "duration": 59,
    "start_time": "2024-06-01T13:45:30.174Z"
   },
   {
    "duration": 12,
    "start_time": "2024-06-01T13:45:30.235Z"
   },
   {
    "duration": 17,
    "start_time": "2024-06-01T13:45:30.250Z"
   },
   {
    "duration": 9,
    "start_time": "2024-06-01T13:45:30.270Z"
   },
   {
    "duration": 224,
    "start_time": "2024-06-01T13:45:30.281Z"
   },
   {
    "duration": 229,
    "start_time": "2024-06-01T13:45:30.508Z"
   },
   {
    "duration": 223,
    "start_time": "2024-06-01T13:45:30.740Z"
   },
   {
    "duration": 178,
    "start_time": "2024-06-01T13:45:30.967Z"
   },
   {
    "duration": 14,
    "start_time": "2024-06-01T13:45:31.148Z"
   },
   {
    "duration": 289,
    "start_time": "2024-06-01T13:45:31.164Z"
   },
   {
    "duration": 487,
    "start_time": "2024-06-01T13:45:31.456Z"
   },
   {
    "duration": 4,
    "start_time": "2024-06-01T13:45:31.947Z"
   },
   {
    "duration": 194,
    "start_time": "2024-06-01T13:45:31.955Z"
   },
   {
    "duration": 62,
    "start_time": "2024-06-01T13:45:32.152Z"
   },
   {
    "duration": 5,
    "start_time": "2024-06-01T13:45:32.233Z"
   },
   {
    "duration": 10787,
    "start_time": "2024-06-01T13:45:32.245Z"
   },
   {
    "duration": 10718,
    "start_time": "2024-06-01T13:45:43.035Z"
   },
   {
    "duration": 5,
    "start_time": "2024-06-01T13:45:53.756Z"
   },
   {
    "duration": 35,
    "start_time": "2024-06-01T13:45:53.764Z"
   },
   {
    "duration": 43,
    "start_time": "2024-06-01T13:45:53.803Z"
   },
   {
    "duration": 382,
    "start_time": "2024-06-01T13:45:53.850Z"
   },
   {
    "duration": 210,
    "start_time": "2024-06-01T13:45:54.235Z"
   },
   {
    "duration": 193,
    "start_time": "2024-06-01T13:45:54.448Z"
   },
   {
    "duration": 28,
    "start_time": "2024-06-01T13:45:54.645Z"
   },
   {
    "duration": 13051,
    "start_time": "2024-06-01T13:45:54.676Z"
   },
   {
    "duration": 5198,
    "start_time": "2024-06-01T13:46:07.734Z"
   },
   {
    "duration": 404,
    "start_time": "2024-06-01T13:46:12.936Z"
   },
   {
    "duration": 36,
    "start_time": "2024-06-01T13:47:11.522Z"
   },
   {
    "duration": 7,
    "start_time": "2024-06-01T13:47:20.063Z"
   },
   {
    "duration": 23,
    "start_time": "2024-06-01T13:47:29.299Z"
   },
   {
    "duration": 273,
    "start_time": "2024-06-01T13:49:08.265Z"
   },
   {
    "duration": 3035,
    "start_time": "2024-06-01T13:49:21.099Z"
   },
   {
    "duration": 7176,
    "start_time": "2024-06-01T17:42:35.011Z"
   },
   {
    "duration": 5334,
    "start_time": "2024-06-01T17:42:52.625Z"
   },
   {
    "duration": 38,
    "start_time": "2024-06-01T17:42:57.963Z"
   },
   {
    "duration": 8,
    "start_time": "2024-06-01T17:42:58.004Z"
   },
   {
    "duration": 6,
    "start_time": "2024-06-01T17:42:58.015Z"
   },
   {
    "duration": 18,
    "start_time": "2024-06-01T17:42:58.024Z"
   },
   {
    "duration": 5,
    "start_time": "2024-06-01T17:42:59.180Z"
   },
   {
    "duration": 30,
    "start_time": "2024-06-01T17:43:01.209Z"
   },
   {
    "duration": 10,
    "start_time": "2024-06-01T17:43:02.321Z"
   },
   {
    "duration": 12,
    "start_time": "2024-06-01T17:43:03.093Z"
   },
   {
    "duration": 9,
    "start_time": "2024-06-01T17:43:03.502Z"
   },
   {
    "duration": 16,
    "start_time": "2024-06-01T17:43:03.832Z"
   },
   {
    "duration": 16,
    "start_time": "2024-06-01T17:43:04.958Z"
   },
   {
    "duration": 13,
    "start_time": "2024-06-01T17:43:05.681Z"
   },
   {
    "duration": 17,
    "start_time": "2024-06-01T17:43:06.340Z"
   },
   {
    "duration": 7,
    "start_time": "2024-06-01T17:43:07.140Z"
   },
   {
    "duration": 191,
    "start_time": "2024-06-01T17:43:07.465Z"
   },
   {
    "duration": 210,
    "start_time": "2024-06-01T17:43:08.108Z"
   },
   {
    "duration": 216,
    "start_time": "2024-06-01T17:43:08.925Z"
   },
   {
    "duration": 164,
    "start_time": "2024-06-01T17:43:09.467Z"
   },
   {
    "duration": 13,
    "start_time": "2024-06-01T17:43:13.832Z"
   },
   {
    "duration": 15,
    "start_time": "2024-06-01T17:43:35.001Z"
   },
   {
    "duration": 16,
    "start_time": "2024-06-01T17:43:59.052Z"
   },
   {
    "duration": 14,
    "start_time": "2024-06-01T17:44:03.948Z"
   },
   {
    "duration": 15,
    "start_time": "2024-06-01T17:44:15.788Z"
   },
   {
    "duration": 13,
    "start_time": "2024-06-01T17:44:24.763Z"
   },
   {
    "duration": 15,
    "start_time": "2024-06-01T17:44:40.775Z"
   },
   {
    "duration": 15,
    "start_time": "2024-06-01T17:44:57.472Z"
   },
   {
    "duration": 20,
    "start_time": "2024-06-01T17:45:06.416Z"
   },
   {
    "duration": 17,
    "start_time": "2024-06-01T17:45:45.142Z"
   },
   {
    "duration": 14,
    "start_time": "2024-06-01T17:45:53.545Z"
   },
   {
    "duration": 468,
    "start_time": "2024-06-01T17:46:07.276Z"
   },
   {
    "duration": 24,
    "start_time": "2024-06-01T17:47:25.242Z"
   },
   {
    "duration": 23,
    "start_time": "2024-06-01T17:47:28.106Z"
   },
   {
    "duration": 23,
    "start_time": "2024-06-01T17:47:29.942Z"
   },
   {
    "duration": 256,
    "start_time": "2024-06-01T17:47:33.175Z"
   },
   {
    "duration": 27,
    "start_time": "2024-06-01T17:47:39.465Z"
   },
   {
    "duration": 87,
    "start_time": "2024-06-01T17:47:42.626Z"
   },
   {
    "duration": 357,
    "start_time": "2024-06-01T17:47:53.856Z"
   },
   {
    "duration": 633,
    "start_time": "2024-06-01T17:48:47.887Z"
   },
   {
    "duration": 1489,
    "start_time": "2024-06-01T17:48:53.338Z"
   },
   {
    "duration": 2793,
    "start_time": "2024-06-01T17:48:58.326Z"
   },
   {
    "duration": 1090,
    "start_time": "2024-06-01T17:49:10.342Z"
   },
   {
    "duration": 1630,
    "start_time": "2024-06-01T17:49:14.202Z"
   },
   {
    "duration": 2315,
    "start_time": "2024-06-01T17:49:21.520Z"
   },
   {
    "duration": 3152,
    "start_time": "2024-06-01T17:49:27.075Z"
   },
   {
    "duration": 2070,
    "start_time": "2024-06-01T17:49:34.865Z"
   },
   {
    "duration": 2611,
    "start_time": "2024-06-01T17:49:39.922Z"
   },
   {
    "duration": 25,
    "start_time": "2024-06-01T17:49:46.354Z"
   },
   {
    "duration": 1866,
    "start_time": "2024-06-01T17:49:49.056Z"
   },
   {
    "duration": 258,
    "start_time": "2024-06-01T17:51:41.476Z"
   },
   {
    "duration": 5,
    "start_time": "2024-06-01T17:51:41.913Z"
   },
   {
    "duration": 57,
    "start_time": "2024-06-01T17:51:46.433Z"
   },
   {
    "duration": 49,
    "start_time": "2024-06-01T17:53:20.446Z"
   },
   {
    "duration": 58,
    "start_time": "2024-06-01T17:53:28.525Z"
   },
   {
    "duration": 56,
    "start_time": "2024-06-01T17:53:45.255Z"
   },
   {
    "duration": 52,
    "start_time": "2024-06-01T17:53:47.722Z"
   },
   {
    "duration": 42,
    "start_time": "2024-06-01T17:53:50.200Z"
   },
   {
    "duration": 23,
    "start_time": "2024-06-01T17:53:53.982Z"
   },
   {
    "duration": 30,
    "start_time": "2024-06-01T17:53:57.124Z"
   },
   {
    "duration": 39,
    "start_time": "2024-06-01T17:53:59.597Z"
   },
   {
    "duration": 38,
    "start_time": "2024-06-01T17:54:01.943Z"
   },
   {
    "duration": 40,
    "start_time": "2024-06-01T17:54:04.129Z"
   },
   {
    "duration": 43,
    "start_time": "2024-06-01T17:54:14.188Z"
   },
   {
    "duration": 35,
    "start_time": "2024-06-01T17:54:18.562Z"
   },
   {
    "duration": 26,
    "start_time": "2024-06-01T17:54:21.218Z"
   },
   {
    "duration": 31,
    "start_time": "2024-06-01T17:54:23.639Z"
   },
   {
    "duration": 37,
    "start_time": "2024-06-01T17:54:25.417Z"
   },
   {
    "duration": 5,
    "start_time": "2024-06-01T17:54:32.797Z"
   },
   {
    "duration": 40,
    "start_time": "2024-06-01T17:55:05.843Z"
   },
   {
    "duration": 10645,
    "start_time": "2024-06-01T17:55:15.222Z"
   },
   {
    "duration": 10771,
    "start_time": "2024-06-01T17:55:30.248Z"
   },
   {
    "duration": 4,
    "start_time": "2024-06-01T17:55:58.061Z"
   },
   {
    "duration": 31,
    "start_time": "2024-06-01T17:56:09.870Z"
   },
   {
    "duration": 24,
    "start_time": "2024-06-01T17:56:24.169Z"
   },
   {
    "duration": 12,
    "start_time": "2024-06-01T17:56:42.930Z"
   },
   {
    "duration": 307,
    "start_time": "2024-06-01T17:56:50.420Z"
   },
   {
    "duration": 378,
    "start_time": "2024-06-01T17:56:55.942Z"
   },
   {
    "duration": 12,
    "start_time": "2024-06-01T17:57:49.692Z"
   },
   {
    "duration": 329,
    "start_time": "2024-06-01T17:58:39.594Z"
   },
   {
    "duration": 262,
    "start_time": "2024-06-01T17:59:05.760Z"
   },
   {
    "duration": 217,
    "start_time": "2024-06-01T17:59:22.701Z"
   },
   {
    "duration": 43,
    "start_time": "2024-06-01T18:00:23.816Z"
   },
   {
    "duration": 35,
    "start_time": "2024-06-01T18:00:34.706Z"
   },
   {
    "duration": 53,
    "start_time": "2024-06-01T18:00:50.499Z"
   },
   {
    "duration": 63,
    "start_time": "2024-06-01T18:01:06.592Z"
   },
   {
    "duration": 51,
    "start_time": "2024-06-01T18:01:22.003Z"
   },
   {
    "duration": 76,
    "start_time": "2024-06-01T18:01:31.684Z"
   },
   {
    "duration": 71,
    "start_time": "2024-06-01T18:02:35.413Z"
   },
   {
    "duration": 866,
    "start_time": "2024-06-01T18:02:49.166Z"
   },
   {
    "duration": 73,
    "start_time": "2024-06-01T18:02:57.244Z"
   },
   {
    "duration": 57,
    "start_time": "2024-06-01T18:03:00.396Z"
   },
   {
    "duration": 4076,
    "start_time": "2024-06-01T18:03:09.775Z"
   },
   {
    "duration": 1907,
    "start_time": "2024-06-01T18:03:13.855Z"
   },
   {
    "duration": 26,
    "start_time": "2024-06-01T18:03:15.764Z"
   },
   {
    "duration": 19,
    "start_time": "2024-06-01T18:03:15.793Z"
   },
   {
    "duration": 6,
    "start_time": "2024-06-01T18:03:15.816Z"
   },
   {
    "duration": 18,
    "start_time": "2024-06-01T18:03:15.825Z"
   },
   {
    "duration": 7,
    "start_time": "2024-06-01T18:03:15.846Z"
   },
   {
    "duration": 70,
    "start_time": "2024-06-01T18:03:15.856Z"
   },
   {
    "duration": 10,
    "start_time": "2024-06-01T18:03:15.929Z"
   },
   {
    "duration": 13,
    "start_time": "2024-06-01T18:03:15.942Z"
   },
   {
    "duration": 8,
    "start_time": "2024-06-01T18:03:15.959Z"
   },
   {
    "duration": 59,
    "start_time": "2024-06-01T18:03:15.969Z"
   },
   {
    "duration": 16,
    "start_time": "2024-06-01T18:03:16.032Z"
   },
   {
    "duration": 13,
    "start_time": "2024-06-01T18:03:16.056Z"
   },
   {
    "duration": 53,
    "start_time": "2024-06-01T18:03:16.072Z"
   },
   {
    "duration": 8,
    "start_time": "2024-06-01T18:03:16.128Z"
   },
   {
    "duration": 226,
    "start_time": "2024-06-01T18:03:16.139Z"
   },
   {
    "duration": 238,
    "start_time": "2024-06-01T18:03:16.368Z"
   },
   {
    "duration": 226,
    "start_time": "2024-06-01T18:03:16.613Z"
   },
   {
    "duration": 173,
    "start_time": "2024-06-01T18:03:16.842Z"
   },
   {
    "duration": 16,
    "start_time": "2024-06-01T18:03:17.018Z"
   },
   {
    "duration": 75,
    "start_time": "2024-06-01T18:03:17.038Z"
   },
   {
    "duration": 127,
    "start_time": "2024-06-01T18:03:17.116Z"
   },
   {
    "duration": 66,
    "start_time": "2024-06-01T18:03:17.247Z"
   },
   {
    "duration": 119,
    "start_time": "2024-06-01T18:03:17.318Z"
   },
   {
    "duration": 34,
    "start_time": "2024-06-01T18:03:17.440Z"
   },
   {
    "duration": 3,
    "start_time": "2024-06-01T18:03:17.478Z"
   },
   {
    "duration": 10680,
    "start_time": "2024-06-01T18:03:17.484Z"
   },
   {
    "duration": 10751,
    "start_time": "2024-06-01T18:03:28.167Z"
   },
   {
    "duration": 4,
    "start_time": "2024-06-01T18:03:38.921Z"
   },
   {
    "duration": 26,
    "start_time": "2024-06-01T18:03:38.929Z"
   },
   {
    "duration": 18,
    "start_time": "2024-06-01T18:03:38.958Z"
   },
   {
    "duration": 559,
    "start_time": "2024-06-01T18:03:39.013Z"
   },
   {
    "duration": 0,
    "start_time": "2024-06-01T18:03:39.575Z"
   },
   {
    "duration": 0,
    "start_time": "2024-06-01T18:03:39.577Z"
   },
   {
    "duration": 0,
    "start_time": "2024-06-01T18:03:39.580Z"
   },
   {
    "duration": 0,
    "start_time": "2024-06-01T18:03:39.582Z"
   },
   {
    "duration": 0,
    "start_time": "2024-06-01T18:03:39.585Z"
   },
   {
    "duration": 0,
    "start_time": "2024-06-01T18:03:39.586Z"
   },
   {
    "duration": 142,
    "start_time": "2024-06-01T18:04:25.377Z"
   },
   {
    "duration": 102,
    "start_time": "2024-06-01T18:04:36.930Z"
   },
   {
    "duration": 93,
    "start_time": "2024-06-01T18:04:40.319Z"
   },
   {
    "duration": 28,
    "start_time": "2024-06-01T18:05:02.623Z"
   },
   {
    "duration": 27,
    "start_time": "2024-06-01T18:05:12.974Z"
   },
   {
    "duration": 93,
    "start_time": "2024-06-01T18:05:47.882Z"
   },
   {
    "duration": 35,
    "start_time": "2024-06-01T18:06:15.616Z"
   },
   {
    "duration": 29,
    "start_time": "2024-06-01T18:06:39.508Z"
   },
   {
    "duration": 88,
    "start_time": "2024-06-01T18:06:47.225Z"
   },
   {
    "duration": 51,
    "start_time": "2024-06-01T18:06:54.578Z"
   },
   {
    "duration": 73,
    "start_time": "2024-06-01T18:06:58.694Z"
   },
   {
    "duration": 90,
    "start_time": "2024-06-01T18:07:02.272Z"
   },
   {
    "duration": 77,
    "start_time": "2024-06-01T18:07:05.671Z"
   },
   {
    "duration": 71,
    "start_time": "2024-06-01T18:07:08.797Z"
   },
   {
    "duration": 68,
    "start_time": "2024-06-01T18:07:12.544Z"
   },
   {
    "duration": 66,
    "start_time": "2024-06-01T18:07:16.002Z"
   },
   {
    "duration": 67,
    "start_time": "2024-06-01T18:07:18.117Z"
   },
   {
    "duration": 28,
    "start_time": "2024-06-01T18:07:28.096Z"
   },
   {
    "duration": 31,
    "start_time": "2024-06-01T18:07:33.294Z"
   },
   {
    "duration": 26,
    "start_time": "2024-06-01T18:07:36.036Z"
   },
   {
    "duration": 28,
    "start_time": "2024-06-01T18:07:39.739Z"
   },
   {
    "duration": 24,
    "start_time": "2024-06-01T18:07:42.200Z"
   },
   {
    "duration": 27,
    "start_time": "2024-06-01T18:07:44.572Z"
   },
   {
    "duration": 26,
    "start_time": "2024-06-01T18:07:46.402Z"
   },
   {
    "duration": 313,
    "start_time": "2024-06-01T18:08:13.092Z"
   },
   {
    "duration": 26,
    "start_time": "2024-06-01T18:08:50.556Z"
   },
   {
    "duration": 16822,
    "start_time": "2024-06-01T18:09:05.005Z"
   },
   {
    "duration": 6,
    "start_time": "2024-06-01T18:10:13.434Z"
   },
   {
    "duration": 6109,
    "start_time": "2024-06-01T18:10:20.425Z"
   },
   {
    "duration": 5159,
    "start_time": "2024-06-01T18:10:37.827Z"
   },
   {
    "duration": 5497,
    "start_time": "2024-06-01T18:10:54.166Z"
   },
   {
    "duration": 6118,
    "start_time": "2024-06-01T18:11:07.420Z"
   },
   {
    "duration": 63,
    "start_time": "2024-06-01T18:14:07.169Z"
   },
   {
    "duration": 27,
    "start_time": "2024-06-01T18:14:09.732Z"
   },
   {
    "duration": 15925,
    "start_time": "2024-06-01T18:14:13.358Z"
   },
   {
    "duration": 195,
    "start_time": "2024-06-01T18:14:46.861Z"
   },
   {
    "duration": 258,
    "start_time": "2024-06-01T18:16:12.136Z"
   },
   {
    "duration": 277,
    "start_time": "2024-06-01T18:16:25.621Z"
   },
   {
    "duration": 282,
    "start_time": "2024-06-01T18:16:29.269Z"
   },
   {
    "duration": 328,
    "start_time": "2024-06-01T18:16:33.885Z"
   },
   {
    "duration": 247,
    "start_time": "2024-06-01T18:16:36.659Z"
   },
   {
    "duration": 282,
    "start_time": "2024-06-01T18:16:54.070Z"
   },
   {
    "duration": 271,
    "start_time": "2024-06-01T18:16:59.094Z"
   },
   {
    "duration": 7800,
    "start_time": "2024-06-01T20:56:31.872Z"
   },
   {
    "duration": 5718,
    "start_time": "2024-06-01T20:56:39.676Z"
   },
   {
    "duration": 0,
    "start_time": "2024-06-01T20:56:45.400Z"
   },
   {
    "duration": 0,
    "start_time": "2024-06-01T20:56:45.403Z"
   },
   {
    "duration": 0,
    "start_time": "2024-06-01T20:56:45.405Z"
   },
   {
    "duration": 0,
    "start_time": "2024-06-01T20:56:45.408Z"
   },
   {
    "duration": 0,
    "start_time": "2024-06-01T20:56:45.410Z"
   },
   {
    "duration": 0,
    "start_time": "2024-06-01T20:56:45.433Z"
   },
   {
    "duration": 0,
    "start_time": "2024-06-01T20:56:45.435Z"
   },
   {
    "duration": 0,
    "start_time": "2024-06-01T20:56:45.438Z"
   },
   {
    "duration": 0,
    "start_time": "2024-06-01T20:56:45.440Z"
   },
   {
    "duration": 0,
    "start_time": "2024-06-01T20:56:45.442Z"
   },
   {
    "duration": 0,
    "start_time": "2024-06-01T20:56:45.444Z"
   },
   {
    "duration": 0,
    "start_time": "2024-06-01T20:56:45.446Z"
   },
   {
    "duration": 0,
    "start_time": "2024-06-01T20:56:45.448Z"
   },
   {
    "duration": 0,
    "start_time": "2024-06-01T20:56:45.450Z"
   },
   {
    "duration": 0,
    "start_time": "2024-06-01T20:56:45.453Z"
   },
   {
    "duration": 0,
    "start_time": "2024-06-01T20:56:45.455Z"
   },
   {
    "duration": 0,
    "start_time": "2024-06-01T20:56:45.457Z"
   },
   {
    "duration": 0,
    "start_time": "2024-06-01T20:56:45.458Z"
   },
   {
    "duration": 0,
    "start_time": "2024-06-01T20:56:45.461Z"
   },
   {
    "duration": 0,
    "start_time": "2024-06-01T20:56:45.464Z"
   },
   {
    "duration": 0,
    "start_time": "2024-06-01T20:56:45.467Z"
   },
   {
    "duration": 0,
    "start_time": "2024-06-01T20:56:45.469Z"
   },
   {
    "duration": 0,
    "start_time": "2024-06-01T20:56:45.471Z"
   },
   {
    "duration": 0,
    "start_time": "2024-06-01T20:56:45.534Z"
   },
   {
    "duration": 0,
    "start_time": "2024-06-01T20:56:45.537Z"
   },
   {
    "duration": 0,
    "start_time": "2024-06-01T20:56:45.538Z"
   },
   {
    "duration": 0,
    "start_time": "2024-06-01T20:56:45.540Z"
   },
   {
    "duration": 0,
    "start_time": "2024-06-01T20:56:45.542Z"
   },
   {
    "duration": 0,
    "start_time": "2024-06-01T20:56:45.545Z"
   },
   {
    "duration": 0,
    "start_time": "2024-06-01T20:56:45.547Z"
   },
   {
    "duration": 0,
    "start_time": "2024-06-01T20:56:45.550Z"
   },
   {
    "duration": 0,
    "start_time": "2024-06-01T20:56:45.551Z"
   },
   {
    "duration": 0,
    "start_time": "2024-06-01T20:56:45.553Z"
   },
   {
    "duration": 0,
    "start_time": "2024-06-01T20:56:45.556Z"
   },
   {
    "duration": 0,
    "start_time": "2024-06-01T20:56:45.557Z"
   },
   {
    "duration": 0,
    "start_time": "2024-06-01T20:56:45.560Z"
   },
   {
    "duration": 0,
    "start_time": "2024-06-01T20:56:45.562Z"
   },
   {
    "duration": 4129,
    "start_time": "2024-06-01T20:57:00.569Z"
   },
   {
    "duration": 1575,
    "start_time": "2024-06-01T20:57:04.702Z"
   },
   {
    "duration": 34,
    "start_time": "2024-06-01T20:57:06.280Z"
   },
   {
    "duration": 16,
    "start_time": "2024-06-01T20:57:06.317Z"
   },
   {
    "duration": 10,
    "start_time": "2024-06-01T20:57:06.337Z"
   },
   {
    "duration": 18,
    "start_time": "2024-06-01T20:57:06.350Z"
   },
   {
    "duration": 6,
    "start_time": "2024-06-01T20:57:06.371Z"
   },
   {
    "duration": 63,
    "start_time": "2024-06-01T20:57:06.380Z"
   },
   {
    "duration": 11,
    "start_time": "2024-06-01T20:57:06.446Z"
   },
   {
    "duration": 13,
    "start_time": "2024-06-01T20:57:06.459Z"
   },
   {
    "duration": 9,
    "start_time": "2024-06-01T20:57:06.475Z"
   },
   {
    "duration": 61,
    "start_time": "2024-06-01T20:57:06.488Z"
   },
   {
    "duration": 18,
    "start_time": "2024-06-01T20:57:06.552Z"
   },
   {
    "duration": 11,
    "start_time": "2024-06-01T20:57:06.578Z"
   },
   {
    "duration": 52,
    "start_time": "2024-06-01T20:57:06.592Z"
   },
   {
    "duration": 9,
    "start_time": "2024-06-01T20:57:06.647Z"
   },
   {
    "duration": 210,
    "start_time": "2024-06-01T20:57:06.659Z"
   },
   {
    "duration": 220,
    "start_time": "2024-06-01T20:57:06.872Z"
   },
   {
    "duration": 240,
    "start_time": "2024-06-01T20:57:07.095Z"
   },
   {
    "duration": 173,
    "start_time": "2024-06-01T20:57:07.338Z"
   },
   {
    "duration": 26,
    "start_time": "2024-06-01T20:57:07.514Z"
   },
   {
    "duration": 90,
    "start_time": "2024-06-01T20:57:07.543Z"
   },
   {
    "duration": 131,
    "start_time": "2024-06-01T20:57:07.635Z"
   },
   {
    "duration": 5,
    "start_time": "2024-06-01T20:57:07.769Z"
   },
   {
    "duration": 123,
    "start_time": "2024-06-01T20:57:07.832Z"
   },
   {
    "duration": 34,
    "start_time": "2024-06-01T20:57:07.958Z"
   },
   {
    "duration": 5,
    "start_time": "2024-06-01T20:57:07.995Z"
   },
   {
    "duration": 10629,
    "start_time": "2024-06-01T20:57:08.004Z"
   },
   {
    "duration": 11122,
    "start_time": "2024-06-01T20:57:18.636Z"
   },
   {
    "duration": 5,
    "start_time": "2024-06-01T20:57:29.762Z"
   },
   {
    "duration": 34,
    "start_time": "2024-06-01T20:57:29.771Z"
   },
   {
    "duration": 16,
    "start_time": "2024-06-01T20:57:29.833Z"
   },
   {
    "duration": 94,
    "start_time": "2024-06-01T20:57:29.853Z"
   },
   {
    "duration": 183,
    "start_time": "2024-06-01T20:57:29.952Z"
   },
   {
    "duration": 137,
    "start_time": "2024-06-01T20:57:30.138Z"
   },
   {
    "duration": 27,
    "start_time": "2024-06-01T20:57:30.278Z"
   },
   {
    "duration": 15952,
    "start_time": "2024-06-01T20:57:30.332Z"
   },
   {
    "duration": 6231,
    "start_time": "2024-06-01T20:57:46.287Z"
   },
   {
    "duration": 260,
    "start_time": "2024-06-01T20:57:52.520Z"
   },
   {
    "duration": 323,
    "start_time": "2024-06-02T01:37:21.588Z"
   },
   {
    "duration": 7619,
    "start_time": "2024-06-02T01:38:07.652Z"
   },
   {
    "duration": 0,
    "start_time": "2024-06-02T01:38:21.313Z"
   },
   {
    "duration": 0,
    "start_time": "2024-06-02T01:38:21.324Z"
   },
   {
    "duration": 0,
    "start_time": "2024-06-02T01:38:21.326Z"
   },
   {
    "duration": 0,
    "start_time": "2024-06-02T01:38:21.329Z"
   },
   {
    "duration": 0,
    "start_time": "2024-06-02T01:38:21.333Z"
   },
   {
    "duration": 0,
    "start_time": "2024-06-02T01:38:21.337Z"
   },
   {
    "duration": 0,
    "start_time": "2024-06-02T01:38:21.340Z"
   },
   {
    "duration": 0,
    "start_time": "2024-06-02T01:38:21.343Z"
   },
   {
    "duration": 0,
    "start_time": "2024-06-02T01:38:21.346Z"
   },
   {
    "duration": 0,
    "start_time": "2024-06-02T01:38:21.350Z"
   },
   {
    "duration": 0,
    "start_time": "2024-06-02T01:38:21.353Z"
   },
   {
    "duration": 0,
    "start_time": "2024-06-02T01:38:21.355Z"
   },
   {
    "duration": 0,
    "start_time": "2024-06-02T01:38:21.358Z"
   },
   {
    "duration": 0,
    "start_time": "2024-06-02T01:38:21.361Z"
   },
   {
    "duration": 0,
    "start_time": "2024-06-02T01:38:21.363Z"
   },
   {
    "duration": 0,
    "start_time": "2024-06-02T01:38:21.423Z"
   },
   {
    "duration": 0,
    "start_time": "2024-06-02T01:38:21.426Z"
   },
   {
    "duration": 0,
    "start_time": "2024-06-02T01:38:21.428Z"
   },
   {
    "duration": 0,
    "start_time": "2024-06-02T01:38:21.431Z"
   },
   {
    "duration": 0,
    "start_time": "2024-06-02T01:38:21.434Z"
   },
   {
    "duration": 0,
    "start_time": "2024-06-02T01:38:21.438Z"
   },
   {
    "duration": 0,
    "start_time": "2024-06-02T01:38:21.441Z"
   },
   {
    "duration": 0,
    "start_time": "2024-06-02T01:38:21.444Z"
   },
   {
    "duration": 1,
    "start_time": "2024-06-02T01:38:21.446Z"
   },
   {
    "duration": 0,
    "start_time": "2024-06-02T01:38:21.450Z"
   },
   {
    "duration": 0,
    "start_time": "2024-06-02T01:38:21.452Z"
   },
   {
    "duration": 0,
    "start_time": "2024-06-02T01:38:21.454Z"
   },
   {
    "duration": 0,
    "start_time": "2024-06-02T01:38:21.457Z"
   },
   {
    "duration": 0,
    "start_time": "2024-06-02T01:38:21.460Z"
   },
   {
    "duration": 0,
    "start_time": "2024-06-02T01:38:21.462Z"
   },
   {
    "duration": 0,
    "start_time": "2024-06-02T01:38:21.524Z"
   },
   {
    "duration": 0,
    "start_time": "2024-06-02T01:38:21.529Z"
   },
   {
    "duration": 0,
    "start_time": "2024-06-02T01:38:21.532Z"
   },
   {
    "duration": 0,
    "start_time": "2024-06-02T01:38:21.534Z"
   },
   {
    "duration": 0,
    "start_time": "2024-06-02T01:38:21.538Z"
   },
   {
    "duration": 0,
    "start_time": "2024-06-02T01:38:21.540Z"
   },
   {
    "duration": 0,
    "start_time": "2024-06-02T01:38:21.543Z"
   },
   {
    "duration": 0,
    "start_time": "2024-06-02T01:38:21.546Z"
   },
   {
    "duration": 39,
    "start_time": "2024-06-02T01:38:21.898Z"
   },
   {
    "duration": 5,
    "start_time": "2024-06-02T01:38:22.483Z"
   },
   {
    "duration": 6,
    "start_time": "2024-06-02T01:38:22.829Z"
   },
   {
    "duration": 7,
    "start_time": "2024-06-02T01:38:24.883Z"
   },
   {
    "duration": 30,
    "start_time": "2024-06-02T01:38:25.962Z"
   },
   {
    "duration": 12,
    "start_time": "2024-06-02T01:38:26.737Z"
   },
   {
    "duration": 19,
    "start_time": "2024-06-02T01:38:27.364Z"
   },
   {
    "duration": 10,
    "start_time": "2024-06-02T01:38:27.650Z"
   },
   {
    "duration": 18,
    "start_time": "2024-06-02T01:38:27.991Z"
   },
   {
    "duration": 17,
    "start_time": "2024-06-02T01:38:28.838Z"
   },
   {
    "duration": 13,
    "start_time": "2024-06-02T01:38:29.104Z"
   },
   {
    "duration": 18,
    "start_time": "2024-06-02T01:38:29.568Z"
   },
   {
    "duration": 10,
    "start_time": "2024-06-02T01:38:29.945Z"
   },
   {
    "duration": 195,
    "start_time": "2024-06-02T01:38:30.112Z"
   },
   {
    "duration": 216,
    "start_time": "2024-06-02T01:38:30.442Z"
   },
   {
    "duration": 221,
    "start_time": "2024-06-02T01:38:30.757Z"
   },
   {
    "duration": 181,
    "start_time": "2024-06-02T01:38:31.059Z"
   },
   {
    "duration": 4021,
    "start_time": "2024-06-02T01:38:44.821Z"
   },
   {
    "duration": 39,
    "start_time": "2024-06-02T01:38:48.846Z"
   },
   {
    "duration": 0,
    "start_time": "2024-06-02T01:38:48.891Z"
   },
   {
    "duration": 0,
    "start_time": "2024-06-02T01:38:48.894Z"
   },
   {
    "duration": 0,
    "start_time": "2024-06-02T01:38:48.898Z"
   },
   {
    "duration": 0,
    "start_time": "2024-06-02T01:38:48.900Z"
   },
   {
    "duration": 0,
    "start_time": "2024-06-02T01:38:48.903Z"
   },
   {
    "duration": 0,
    "start_time": "2024-06-02T01:38:48.905Z"
   },
   {
    "duration": 0,
    "start_time": "2024-06-02T01:38:48.924Z"
   },
   {
    "duration": 0,
    "start_time": "2024-06-02T01:38:48.926Z"
   },
   {
    "duration": 0,
    "start_time": "2024-06-02T01:38:48.929Z"
   },
   {
    "duration": 0,
    "start_time": "2024-06-02T01:38:48.931Z"
   },
   {
    "duration": 0,
    "start_time": "2024-06-02T01:38:48.933Z"
   },
   {
    "duration": 0,
    "start_time": "2024-06-02T01:38:48.935Z"
   },
   {
    "duration": 0,
    "start_time": "2024-06-02T01:38:48.938Z"
   },
   {
    "duration": 0,
    "start_time": "2024-06-02T01:38:48.940Z"
   },
   {
    "duration": 0,
    "start_time": "2024-06-02T01:38:48.942Z"
   },
   {
    "duration": 0,
    "start_time": "2024-06-02T01:38:48.944Z"
   },
   {
    "duration": 0,
    "start_time": "2024-06-02T01:38:48.946Z"
   },
   {
    "duration": 0,
    "start_time": "2024-06-02T01:38:48.949Z"
   },
   {
    "duration": 0,
    "start_time": "2024-06-02T01:38:48.951Z"
   },
   {
    "duration": 0,
    "start_time": "2024-06-02T01:38:48.953Z"
   },
   {
    "duration": 0,
    "start_time": "2024-06-02T01:38:48.956Z"
   },
   {
    "duration": 0,
    "start_time": "2024-06-02T01:38:48.958Z"
   },
   {
    "duration": 0,
    "start_time": "2024-06-02T01:38:48.964Z"
   },
   {
    "duration": 0,
    "start_time": "2024-06-02T01:38:49.024Z"
   },
   {
    "duration": 0,
    "start_time": "2024-06-02T01:38:49.027Z"
   },
   {
    "duration": 0,
    "start_time": "2024-06-02T01:38:49.029Z"
   },
   {
    "duration": 0,
    "start_time": "2024-06-02T01:38:49.032Z"
   },
   {
    "duration": 0,
    "start_time": "2024-06-02T01:38:49.035Z"
   },
   {
    "duration": 0,
    "start_time": "2024-06-02T01:38:49.039Z"
   },
   {
    "duration": 0,
    "start_time": "2024-06-02T01:38:49.041Z"
   },
   {
    "duration": 30,
    "start_time": "2024-06-02T01:38:56.784Z"
   },
   {
    "duration": 27,
    "start_time": "2024-06-02T01:39:01.994Z"
   },
   {
    "duration": 26,
    "start_time": "2024-06-02T01:39:05.444Z"
   },
   {
    "duration": 40,
    "start_time": "2024-06-02T01:39:09.731Z"
   },
   {
    "duration": 1711,
    "start_time": "2024-06-02T01:39:32.537Z"
   },
   {
    "duration": 26,
    "start_time": "2024-06-02T01:39:34.251Z"
   },
   {
    "duration": 5,
    "start_time": "2024-06-02T01:39:34.281Z"
   },
   {
    "duration": 6,
    "start_time": "2024-06-02T01:39:34.679Z"
   },
   {
    "duration": 18,
    "start_time": "2024-06-02T01:39:35.076Z"
   },
   {
    "duration": 5,
    "start_time": "2024-06-02T01:39:36.348Z"
   },
   {
    "duration": 31,
    "start_time": "2024-06-02T01:39:37.232Z"
   },
   {
    "duration": 3529,
    "start_time": "2024-06-02T01:39:49.072Z"
   },
   {
    "duration": 7,
    "start_time": "2024-06-02T01:39:52.605Z"
   },
   {
    "duration": 25,
    "start_time": "2024-06-02T01:39:52.616Z"
   },
   {
    "duration": 7,
    "start_time": "2024-06-02T01:39:52.643Z"
   },
   {
    "duration": 7,
    "start_time": "2024-06-02T01:39:52.654Z"
   },
   {
    "duration": 20,
    "start_time": "2024-06-02T01:39:52.664Z"
   },
   {
    "duration": 36,
    "start_time": "2024-06-02T01:39:52.687Z"
   },
   {
    "duration": 27,
    "start_time": "2024-06-02T01:39:52.725Z"
   },
   {
    "duration": 10,
    "start_time": "2024-06-02T01:39:52.756Z"
   },
   {
    "duration": 12,
    "start_time": "2024-06-02T01:39:52.769Z"
   },
   {
    "duration": 7,
    "start_time": "2024-06-02T01:39:52.825Z"
   },
   {
    "duration": 17,
    "start_time": "2024-06-02T01:39:52.836Z"
   },
   {
    "duration": 16,
    "start_time": "2024-06-02T01:39:52.857Z"
   },
   {
    "duration": 53,
    "start_time": "2024-06-02T01:39:52.881Z"
   },
   {
    "duration": 17,
    "start_time": "2024-06-02T01:39:52.937Z"
   },
   {
    "duration": 7,
    "start_time": "2024-06-02T01:39:52.957Z"
   },
   {
    "duration": 223,
    "start_time": "2024-06-02T01:39:52.967Z"
   },
   {
    "duration": 238,
    "start_time": "2024-06-02T01:39:53.193Z"
   },
   {
    "duration": 245,
    "start_time": "2024-06-02T01:39:53.434Z"
   },
   {
    "duration": 176,
    "start_time": "2024-06-02T01:39:53.682Z"
   },
   {
    "duration": 16,
    "start_time": "2024-06-02T01:39:53.861Z"
   },
   {
    "duration": 73,
    "start_time": "2024-06-02T01:39:53.883Z"
   },
   {
    "duration": 186,
    "start_time": "2024-06-02T01:39:53.958Z"
   },
   {
    "duration": 6,
    "start_time": "2024-06-02T01:39:54.146Z"
   },
   {
    "duration": 184,
    "start_time": "2024-06-02T01:39:54.155Z"
   },
   {
    "duration": 34,
    "start_time": "2024-06-02T01:39:54.342Z"
   },
   {
    "duration": 5,
    "start_time": "2024-06-02T01:39:54.379Z"
   },
   {
    "duration": 11236,
    "start_time": "2024-06-02T01:39:54.388Z"
   },
   {
    "duration": 10970,
    "start_time": "2024-06-02T01:40:05.627Z"
   },
   {
    "duration": 5,
    "start_time": "2024-06-02T01:40:16.600Z"
   },
   {
    "duration": 35,
    "start_time": "2024-06-02T01:40:16.627Z"
   },
   {
    "duration": 18,
    "start_time": "2024-06-02T01:40:16.666Z"
   },
   {
    "duration": 5,
    "start_time": "2024-06-02T01:40:36.088Z"
   },
   {
    "duration": 26,
    "start_time": "2024-06-02T01:40:40.633Z"
   },
   {
    "duration": 17,
    "start_time": "2024-06-02T01:40:41.789Z"
   },
   {
    "duration": 16,
    "start_time": "2024-06-02T01:40:45.565Z"
   },
   {
    "duration": 80,
    "start_time": "2024-06-02T01:40:50.199Z"
   },
   {
    "duration": 27,
    "start_time": "2024-06-02T01:40:56.806Z"
   },
   {
    "duration": 85,
    "start_time": "2024-06-02T01:41:05.903Z"
   },
   {
    "duration": 29,
    "start_time": "2024-06-02T01:41:15.423Z"
   },
   {
    "duration": 16635,
    "start_time": "2024-06-02T01:41:28.826Z"
   },
   {
    "duration": 27,
    "start_time": "2024-06-02T01:41:45.464Z"
   },
   {
    "duration": 6377,
    "start_time": "2024-06-02T01:42:08.971Z"
   },
   {
    "duration": 6337,
    "start_time": "2024-06-02T01:42:18.546Z"
   },
   {
    "duration": 11071,
    "start_time": "2024-06-02T01:44:16.452Z"
   },
   {
    "duration": 277,
    "start_time": "2024-06-02T01:44:39.733Z"
   }
  ],
  "kernelspec": {
   "display_name": "Python 3 (ipykernel)",
   "language": "python",
   "name": "python3"
  },
  "language_info": {
   "codemirror_mode": {
    "name": "ipython",
    "version": 3
   },
   "file_extension": ".py",
   "mimetype": "text/x-python",
   "name": "python",
   "nbconvert_exporter": "python",
   "pygments_lexer": "ipython3",
   "version": "3.9.19"
  },
  "toc": {
   "base_numbering": 1,
   "nav_menu": {},
   "number_sections": true,
   "sideBar": true,
   "skip_h1_title": true,
   "title_cell": "Table of Contents",
   "title_sidebar": "Contents",
   "toc_cell": false,
   "toc_position": {
    "height": "calc(100% - 180px)",
    "left": "10px",
    "top": "150px",
    "width": "218.594px"
   },
   "toc_section_display": true,
   "toc_window_display": true
  }
 },
 "nbformat": 4,
 "nbformat_minor": 2
}
